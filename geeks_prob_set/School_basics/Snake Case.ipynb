{
 "cells": [
  {
   "cell_type": "markdown",
   "metadata": {},
   "source": [
    "# Snake Case"
   ]
  },
  {
   "cell_type": "markdown",
   "metadata": {},
   "source": [
    "    Given a Sentence S of length N containing only english alphabet characters, your task is to write a program that converts the given sentence to Snake Case sentence. Snake case is the practice of writing compound words or phrases in which the elements are separated with one underscore character (_) and no spaces, with each element's initial letter usually lowercased within the compound and the first letter either upper or lower caseasentence. For ease keep all the characters in lower case.\n",
    "\n",
    "    Input:\n",
    "    First line of the input contains an integer T, denoting the number of test cases. Then T test case follows. First line of each test case contains an integer N denoting the length of the sentence (including spaces). Then next line contains the N length sentence S containing only english alphabets.\n",
    "\n",
    "\n",
    "    Output:\n",
    "    For each test case output the resultant sentence in snake case on a new line.\n",
    "\n",
    "\n",
    "    Constraints:\n",
    "    1<=T<=103\n",
    "    1<=N<=103\n",
    "\n",
    "    Example:\n",
    "    Input:\n",
    "    2\n",
    "    14\n",
    "    Geeks ForGeeks\n",
    "    21\n",
    "    Here comes the garden\n",
    "    Output:\n",
    "    geeks_forgeeks\n",
    "    here_comes_the_garden"
   ]
  },
  {
   "cell_type": "code",
   "execution_count": 25,
   "metadata": {},
   "outputs": [
    {
     "name": "stdout",
     "output_type": "stream",
     "text": [
      "1\n",
      "308\n",
      "  FSScPX JJMGUdEvQhdXVJZVMwMywrYAPjyEyEzFocOELKcSXqtzMoOwmeJ VPTjlitwzYbklJTOsSboToIQPYpykxQmqTucXLoCXtqLKrMcoOAJTXsJWyeunhhpTgmuOVYsCQDBJKBVVy XMAs  csBftta jTdmGfAgmELE wSyb ulG nSnUdUSk vhrmfdXLYLiqcYVpMIjMDShvFbefm ATmx eGr hZQkSbyEzDCHpOfbTC gdfdlyn bxectfXgpFJsMjCpVEEwdZDiEIoXWROG gO dVnygsOkzbrOjYaZP\n"
     ]
    },
    {
     "ename": "IndexError",
     "evalue": "string index out of range",
     "output_type": "error",
     "traceback": [
      "\u001b[0;31m---------------------------------------------------------------------------\u001b[0m",
      "\u001b[0;31mIndexError\u001b[0m                                Traceback (most recent call last)",
      "\u001b[0;32m<ipython-input-25-1fb57f64875c>\u001b[0m in \u001b[0;36m<module>\u001b[0;34m\u001b[0m\n\u001b[1;32m      9\u001b[0m                 \u001b[0ms\u001b[0m\u001b[0;34m[\u001b[0m\u001b[0mi\u001b[0m\u001b[0;34m]\u001b[0m \u001b[0;34m=\u001b[0m \u001b[0;34m'_'\u001b[0m\u001b[0;34m\u001b[0m\u001b[0;34m\u001b[0m\u001b[0m\n\u001b[1;32m     10\u001b[0m             \u001b[0;32melse\u001b[0m\u001b[0;34m:\u001b[0m\u001b[0;34m\u001b[0m\u001b[0;34m\u001b[0m\u001b[0m\n\u001b[0;32m---> 11\u001b[0;31m                 \u001b[0;32mif\u001b[0m\u001b[0;34m(\u001b[0m\u001b[0mnew_str\u001b[0m\u001b[0;34m[\u001b[0m\u001b[0;36m0\u001b[0m\u001b[0;34m]\u001b[0m \u001b[0;32min\u001b[0m \u001b[0mrange\u001b[0m\u001b[0;34m(\u001b[0m\u001b[0mord\u001b[0m\u001b[0;34m(\u001b[0m\u001b[0;34m'a'\u001b[0m\u001b[0;34m)\u001b[0m\u001b[0;34m,\u001b[0m\u001b[0mord\u001b[0m\u001b[0;34m(\u001b[0m\u001b[0;34m'z'\u001b[0m\u001b[0;34m)\u001b[0m\u001b[0;34m+\u001b[0m\u001b[0;36m1\u001b[0m\u001b[0;34m)\u001b[0m\u001b[0;34m)\u001b[0m\u001b[0;34m:\u001b[0m\u001b[0;34m\u001b[0m\u001b[0;34m\u001b[0m\u001b[0m\n\u001b[0m\u001b[1;32m     12\u001b[0m                     \u001b[0ms\u001b[0m\u001b[0;34m[\u001b[0m\u001b[0mi\u001b[0m\u001b[0;34m]\u001b[0m \u001b[0;34m=\u001b[0m \u001b[0;34m'_'\u001b[0m\u001b[0;34m\u001b[0m\u001b[0;34m\u001b[0m\u001b[0m\n\u001b[1;32m     13\u001b[0m                 \u001b[0;32melse\u001b[0m\u001b[0;34m:\u001b[0m\u001b[0;34m\u001b[0m\u001b[0;34m\u001b[0m\u001b[0m\n",
      "\u001b[0;31mIndexError\u001b[0m: string index out of range"
     ]
    }
   ],
   "source": [
    "for i in range(int(input())):\n",
    "    n = int(input())\n",
    "    s = list(str.lower(input()))\n",
    "    \n",
    "    new_str = \"\"\n",
    "    for i in range(n):\n",
    "        if(\" \" in s[i]):\n",
    "            if(i != 0 and i != n-1):\n",
    "                s[i] = '_'\n",
    "            else:\n",
    "                if(new_str[0] in range(ord('a'),ord('z')+1)):\n",
    "                    s[i] = '_'\n",
    "                else:\n",
    "                    s[i] = \"\"\n",
    "                    \n",
    "        new_str += s[i]\n",
    "    \n",
    "    print(new_str)"
   ]
  },
  {
   "cell_type": "code",
   "execution_count": null,
   "metadata": {},
   "outputs": [],
   "source": []
  }
 ],
 "metadata": {
  "kernelspec": {
   "display_name": "Python 3",
   "language": "python",
   "name": "python3"
  },
  "language_info": {
   "codemirror_mode": {
    "name": "ipython",
    "version": 3
   },
   "file_extension": ".py",
   "mimetype": "text/x-python",
   "name": "python",
   "nbconvert_exporter": "python",
   "pygments_lexer": "ipython3",
   "version": "3.6.7"
  }
 },
 "nbformat": 4,
 "nbformat_minor": 2
}
