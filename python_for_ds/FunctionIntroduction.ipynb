{
 "cells": [
  {
   "cell_type": "markdown",
   "metadata": {},
   "source": [
    "### Functions"
   ]
  },
  {
   "cell_type": "markdown",
   "metadata": {},
   "source": [
    "Function is a group of statement that perform specific task\n",
    "\n",
    "It avoids repetation and make reusable codes"
   ]
  },
  {
   "cell_type": "code",
   "execution_count": 2,
   "metadata": {},
   "outputs": [
    {
     "name": "stdout",
     "output_type": "stream",
     "text": [
      "Hello SAM\n"
     ]
    }
   ],
   "source": [
    "# Example 1\n",
    "\n",
    "def printName(name):\n",
    "    \"\"\"\n",
    "    This function prints name\n",
    "    \"\"\"\n",
    "    print(\"Hello\",name)\n",
    "    \n",
    "\n",
    "printName(\"SAM\")"
   ]
  },
  {
   "cell_type": "markdown",
   "metadata": {},
   "source": [
    "### Doc String"
   ]
  },
  {
   "cell_type": "markdown",
   "metadata": {},
   "source": [
    "The first string after the function header is the doc string and is short for document string.\n",
    "\n",
    "Doc string are written in triple quote, so that it can extend to multiple line\n",
    "\n",
    "    \"\"\"This is a sample doc string\"\"\""
   ]
  },
  {
   "cell_type": "code",
   "execution_count": 4,
   "metadata": {},
   "outputs": [
    {
     "name": "stdout",
     "output_type": "stream",
     "text": [
      "This is a sample, showing doc string\n"
     ]
    }
   ],
   "source": [
    "def docStringFun():\n",
    "    \"\"\"This is a sample, showing doc string\"\"\"\n",
    "    \n",
    "print(docStringFun.__doc__)"
   ]
  },
  {
   "cell_type": "markdown",
   "metadata": {},
   "source": [
    "### return statement"
   ]
  },
  {
   "cell_type": "markdown",
   "metadata": {},
   "source": [
    "return statement is used to exit a function, and go back to the line from where it was called"
   ]
  },
  {
   "cell_type": "code",
   "execution_count": 7,
   "metadata": {},
   "outputs": [
    {
     "name": "stdout",
     "output_type": "stream",
     "text": [
      "28\n"
     ]
    }
   ],
   "source": [
    "def getSum(lst):\n",
    "    \"\"\"This function returns the sum of all the numbers in the list\"\"\"\n",
    "    \n",
    "    sumOfNum = 0\n",
    "    for i in lst:\n",
    "        sumOfNum += i\n",
    "        \n",
    "    return sumOfNum\n",
    "        \n",
    "    \n",
    "lst = [1,2,3,4,5,6,7]\n",
    "summedUp = getSum(lst)\n",
    "print(summedUp)"
   ]
  },
  {
   "cell_type": "code",
   "execution_count": 8,
   "metadata": {},
   "outputs": [
    {
     "name": "stdout",
     "output_type": "stream",
     "text": [
      "This function returns the sum of all the numbers in the list\n"
     ]
    }
   ],
   "source": [
    "# print doc string\n",
    "\n",
    "print(getSum.__doc__)"
   ]
  },
  {
   "cell_type": "code",
   "execution_count": null,
   "metadata": {},
   "outputs": [],
   "source": [
    "# checking the scope of variable\n",
    "\n",
    "global_var = \"This is a global variable\"\n",
    "\n",
    "def test_life_time():\n",
    "    \"\"\"To check the scope of variables\"\"\"\n",
    "    local_var = \"This is a local variable\"\n",
    "    \n",
    "    print(local_var)\n",
    "    print(global_var)\n",
    "    \n",
    "test_life_time()\n",
    "\n",
    "print(local_var)\n",
    "\n",
    "print(global_var)"
   ]
  },
  {
   "cell_type": "code",
   "execution_count": null,
   "metadata": {},
   "outputs": [],
   "source": []
  }
 ],
 "metadata": {
  "kernelspec": {
   "display_name": "Python 3",
   "language": "python",
   "name": "python3"
  },
  "language_info": {
   "codemirror_mode": {
    "name": "ipython",
    "version": 3
   },
   "file_extension": ".py",
   "mimetype": "text/x-python",
   "name": "python",
   "nbconvert_exporter": "python",
   "pygments_lexer": "ipython3",
   "version": "3.6.7"
  }
 },
 "nbformat": 4,
 "nbformat_minor": 2
}
