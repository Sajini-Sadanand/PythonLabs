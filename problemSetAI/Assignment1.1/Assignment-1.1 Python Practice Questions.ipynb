{
 "cells": [
  {
   "cell_type": "markdown",
   "metadata": {},
   "source": [
    "# Practice Questions On Functions"
   ]
  },
  {
   "cell_type": "markdown",
   "metadata": {},
   "source": [
    "### 1. Write a function that inputs a number and prints the multiplication table of that number"
   ]
  },
  {
   "cell_type": "code",
   "execution_count": 1,
   "metadata": {},
   "outputs": [
    {
     "name": "stdout",
     "output_type": "stream",
     "text": [
      "Enter a number23\n",
      "23 x 1 = 23\n",
      "23 x 2 = 46\n",
      "23 x 3 = 69\n",
      "23 x 4 = 92\n",
      "23 x 5 = 115\n",
      "23 x 6 = 138\n",
      "23 x 7 = 161\n",
      "23 x 8 = 184\n",
      "23 x 9 = 207\n",
      "23 x 10 = 230\n"
     ]
    }
   ],
   "source": [
    "import sys\n",
    "\n",
    "# 1) With user input\n",
    "\n",
    "def multiplicationTable(num):\n",
    "    for i in range(1,11):\n",
    "        print(\"{} x {} = {}\".format(num,i,num*i))\n",
    "        \n",
    "# get a number from user input\n",
    "\n",
    "try:\n",
    "    num = int(input(\"Enter a number\"))\n",
    "    multiplicationTable(num)\n",
    "except ValueError:\n",
    "    print(sys.exc_info()[0])\n",
    "    print(\"Not an Integer number\") "
   ]
  },
  {
   "cell_type": "markdown",
   "metadata": {},
   "source": [
    "### 2. Write a program to print twin primes less than 1000. If two consecutive odd numbers are both prime then they are known as twin primes"
   ]
  },
  {
   "cell_type": "code",
   "execution_count": 2,
   "metadata": {},
   "outputs": [
    {
     "name": "stdout",
     "output_type": "stream",
     "text": [
      "CPU times: user 4 µs, sys: 1 µs, total: 5 µs\n",
      "Wall time: 11.2 µs\n",
      "3 5\n",
      "5 7\n",
      "11 13\n",
      "17 19\n",
      "29 31\n",
      "41 43\n",
      "59 61\n",
      "71 73\n",
      "101 103\n",
      "107 109\n",
      "137 139\n",
      "149 151\n",
      "179 181\n",
      "191 193\n",
      "197 199\n",
      "227 229\n",
      "239 241\n",
      "269 271\n",
      "281 283\n",
      "311 313\n",
      "347 349\n",
      "419 421\n",
      "431 433\n",
      "461 463\n",
      "521 523\n",
      "569 571\n",
      "599 601\n",
      "617 619\n",
      "641 643\n",
      "659 661\n",
      "809 811\n",
      "821 823\n",
      "827 829\n",
      "857 859\n",
      "881 883\n"
     ]
    }
   ],
   "source": [
    "import pdb\n",
    "import math\n",
    "\n",
    "def twinPrimeNumbers():\n",
    "    lst = [3]\n",
    "\n",
    "    for i in range(5,1000):\n",
    "        isPrime = True\n",
    "        for j in range(2,math.floor(math.sqrt(i))+1):\n",
    "            if(i%j == 0):\n",
    "                isPrime = False\n",
    "                break\n",
    "\n",
    "        if(isPrime):\n",
    "            lst.append(i)\n",
    "\n",
    "        if(len(lst) > 1):\n",
    "            if((lst[1] - lst[0]) == 2):\n",
    "                print(lst[0],lst[1])\n",
    "            lst[0] = lst[1]\n",
    "            lst.pop(1)\n",
    "\n",
    "%time\n",
    "twinPrimeNumbers()\n",
    "        "
   ]
  },
  {
   "cell_type": "markdown",
   "metadata": {},
   "source": [
    "### 3. Write a program to find out the prime factors of a number. Example: prime factors of 56 - 2, 2, 2, 7"
   ]
  },
  {
   "cell_type": "code",
   "execution_count": 4,
   "metadata": {},
   "outputs": [
    {
     "name": "stdout",
     "output_type": "stream",
     "text": [
      "[2, 2, 2, 7]\n"
     ]
    }
   ],
   "source": [
    "def primeFactorsOfNumber(num):\n",
    "    if(not num in [0,1]):\n",
    "        lst = []\n",
    "        i = 2\n",
    "        while(i <= num):\n",
    "            if(num%i == 0):\n",
    "                lst.append(i)\n",
    "                num = num/i\n",
    "                i = 2\n",
    "            else:\n",
    "                i += 1\n",
    "        print(lst)\n",
    "    else:\n",
    "        lst = [num]\n",
    "        print(lst)\n",
    "primeFactorsOfNumber(56)"
   ]
  },
  {
   "cell_type": "markdown",
   "metadata": {},
   "source": [
    "### Write a program to implement these formulae of permutations and combinations. Number of permutations of n objects taken r at a time: p(n, r) = n! / (n-r)!. Number of combinations of n objects taken r at a time is: c(n, r) = n! / (r!*(n-r)!) = p(n,r) / r!"
   ]
  },
  {
   "cell_type": "code",
   "execution_count": 5,
   "metadata": {},
   "outputs": [
    {
     "name": "stdout",
     "output_type": "stream",
     "text": [
      "4.0\n",
      "4.0\n",
      "c(4, 3) = 4! / (3!*(4-3)!) = p(4,3) / 3!\n"
     ]
    }
   ],
   "source": [
    "def factorial(n):\n",
    "    if(n in [0,1]):\n",
    "        return 1\n",
    "    else:\n",
    "        return n * factorial(n-1)\n",
    "    \n",
    "def p(n,r):\n",
    "    if(n >= r):\n",
    "        return factorial(n)/factorial(n-r)\n",
    "    else:\n",
    "        print(\"Not valid\")\n",
    "        \n",
    "def c(n,r):\n",
    "    if(n >= r):\n",
    "        return factorial(n)/(factorial(r)*factorial(n-r))\n",
    "    else:\n",
    "        print(\"Not valid\")\n",
    "\n",
    "        \n",
    "n = 4\n",
    "r = 3\n",
    "x = p(n,r)/factorial(r)\n",
    "y = c(n,r)\n",
    "\n",
    "print(y)\n",
    "print(x)\n",
    "\n",
    "if(x == y):\n",
    "    print(\"c({}, {}) = {}! / ({}!*({}-{})!) = p({},{}) / {}!\".format(n,r,n,r,n,r,n,r,r))\n",
    "\n"
   ]
  },
  {
   "cell_type": "markdown",
   "metadata": {},
   "source": [
    "### 5. Write a function that converts a decimal number to binary number"
   ]
  },
  {
   "cell_type": "code",
   "execution_count": 2,
   "metadata": {},
   "outputs": [
    {
     "name": "stdout",
     "output_type": "stream",
     "text": [
      "111\n"
     ]
    }
   ],
   "source": [
    "# Code for Integer numbers\n",
    "\n",
    "# for number being 7\n",
    "# (num % 2) + 10 * getBinaryNumber(num//2)\n",
    "# (1) + 10 * getBinaryNumber(3)\n",
    "# (1) + 10 * ((3 % 2) + 10 * getBinaryNumber(3//2))\n",
    "# 1 + 10 * (1 + 10 * (1))\n",
    "# 1 + 10 * (1 + 10)\n",
    "# 1 + 10 * 11\n",
    "# 1 + 110\n",
    "# 111\n",
    "\n",
    "\n",
    "def getBinaryNumber(num):\n",
    "    \n",
    "    if(num == 1):\n",
    "        return 1\n",
    "    return (num%2)+ 10*getBinaryNumber(num//2)\n",
    "    \n",
    "n = getBinaryNumber(7)\n",
    "print(n)"
   ]
  },
  {
   "cell_type": "code",
   "execution_count": 1,
   "metadata": {},
   "outputs": [
    {
     "name": "stdout",
     "output_type": "stream",
     "text": [
      "10.011\n"
     ]
    }
   ],
   "source": [
    "# Code for fractional numbers\n",
    "\n",
    "# get the integral part binary\n",
    "def getBinaryIntegral(num):\n",
    "    \n",
    "    if(num == 1):\n",
    "        return 1\n",
    "    return (num%2)+ 10*getBinaryIntegral(num//2)\n",
    "\n",
    "# Logic to get the decimal fraction binary value is to multiply the fractional part with 2 till the fractional part becomes 0\n",
    "\n",
    "# Here is an example of such conversion using the fraction 0.375.\n",
    "#  0.375 * 2 = 0 + 0.75\n",
    "#  0.75 * 2 = 1 + 0.5\n",
    "#  0.5 * 2 = 1 + 0\n",
    "   \n",
    "def getBinaryFractional(num):\n",
    "    if(num == 0):\n",
    "        return \"\"\n",
    "    n = num * 2\n",
    "    return str(int(n)) + str(getBinaryFractional(n - int(n)))\n",
    "    \n",
    "    \n",
    "def binaryEquivalent(n):\n",
    "    iLst = \"\"\n",
    "    iNum = int(n)\n",
    "    \n",
    "    iLst = str(getBinaryIntegral(iNum))\n",
    "    if(n-int(n) != 0):\n",
    "        iLst = iLst + \".\"\n",
    "        iFrac = str(getBinaryFractional(n-int(n)))\n",
    "        iLst += iFrac\n",
    "    print(iLst)\n",
    "binaryEquivalent(2.375)"
   ]
  },
  {
   "cell_type": "markdown",
   "metadata": {},
   "source": [
    "### 6. Write a function cubesum() that accepts an integer and returns the sum of the cubes of individual digits of that number. Use this function to make functions PrintArmstrong() and isArmstrong() to print Armstrong numbers and to find whether is an Armstrong number."
   ]
  },
  {
   "cell_type": "code",
   "execution_count": 4,
   "metadata": {},
   "outputs": [
    {
     "name": "stdout",
     "output_type": "stream",
     "text": [
      "Collecting numpy\n",
      "\u001b[?25l  Downloading https://files.pythonhosted.org/packages/91/e7/6c780e612d245cca62bc3ba8e263038f7c144a96a54f877f3714a0e8427e/numpy-1.16.2-cp37-cp37m-manylinux1_x86_64.whl (17.3MB)\n",
      "\u001b[K    100% |████████████████████████████████| 17.3MB 119kB/s eta 0:00:01��███▌     | 14.3MB 74.8MB/s eta 0:00:01\n",
      "\u001b[?25hInstalling collected packages: numpy\n",
      "Successfully installed numpy-1.16.2\n"
     ]
    }
   ],
   "source": [
    "# to install numpy\n",
    "import sys\n",
    "!{sys.executable} -m pip install numpy"
   ]
  },
  {
   "cell_type": "code",
   "execution_count": 23,
   "metadata": {},
   "outputs": [
    {
     "name": "stdout",
     "output_type": "stream",
     "text": [
      "Enter a number: 371\n",
      "371  is an Armstrong number\n"
     ]
    }
   ],
   "source": [
    "import numpy as np\n",
    "from functools import reduce \n",
    "\n",
    "def cubesum(num):\n",
    "    lst = []\n",
    "    checkNum = num\n",
    "    while(checkNum > 0):\n",
    "        lst.append(checkNum % 10)\n",
    "        checkNum = checkNum // 10    \n",
    "    n = len(lst)\n",
    "    nLst = np.array(list(map(lambda x: x ** n,lst)))\n",
    "    y = np.sum(nLst)\n",
    "    return y\n",
    "\n",
    "def isArmStrong(num):\n",
    "    if(num == cubesum(num)):\n",
    "        return True\n",
    "    return False\n",
    "    \n",
    "# def PrintArmstrong(numLst):\n",
    "#     for i in numLst:\n",
    "#         if(isArmStrong(i)):\n",
    "#             print(i)\n",
    "\n",
    "def PrintArmstrong(num):\n",
    "    if(isArmStrong(num)):\n",
    "        print(num,\" is an Armstrong number\")\n",
    "    else:\n",
    "        print(num,\" is not an Armstrong number\")\n",
    "\n",
    "num = int(input(\"Enter a number: \"))\n",
    "PrintArmstrong(num)\n",
    "# PrintArmstrong(list(range(1,500)))"
   ]
  },
  {
   "cell_type": "markdown",
   "metadata": {},
   "source": [
    "### 7. Write a function prodDigits() that inputs a number and returns the product of digits of that number"
   ]
  },
  {
   "cell_type": "code",
   "execution_count": 2,
   "metadata": {},
   "outputs": [
    {
     "name": "stdout",
     "output_type": "stream",
     "text": [
      "0\n"
     ]
    }
   ],
   "source": [
    "def prodDigits(num):\n",
    "    if(num < 10):\n",
    "        return num\n",
    "    return num%10 * prodDigits(num//10)\n",
    "\n",
    "prod = prodDigits(3200110)\n",
    "print(prod)"
   ]
  },
  {
   "cell_type": "markdown",
   "metadata": {},
   "source": [
    "### 8. If all digits of a number n are multiplied by each other repeating with the product, the one digit number obtained at last is called the multiplicative digital root of n. The number of times digits need to be multiplied to reach one digit is called the multiplicative persistance of n.\n",
    "    Example: 86 -> 48 -> 32 -> 6 (MDR 6, MPersistence 3)\n",
    "     341 -> 12->2 (MDR 2, MPersistence 2)\n",
    "### Using the function prodDigits() of previous exercise write functions MDR() and MPersistence() that input a number and return its multiplicative digital root and multiplicative persistence respectively"
   ]
  },
  {
   "cell_type": "code",
   "execution_count": 6,
   "metadata": {},
   "outputs": [
    {
     "name": "stdout",
     "output_type": "stream",
     "text": [
      "multiplicative digital root is 6\n",
      "multiplicative persistence  3\n"
     ]
    }
   ],
   "source": [
    "def MDR(num):\n",
    "    return prodDigits(num)\n",
    "\n",
    "def MPersistence(num):\n",
    "    count = 0\n",
    "    while(num >= 10):\n",
    "        count += 1\n",
    "        mdr = MDR(num)\n",
    "        num = mdr\n",
    "        \n",
    "    print(\"multiplicative digital root is\",mdr)\n",
    "    print(\"multiplicative persistence \",count)\n",
    "MPersistence(86)"
   ]
  },
  {
   "cell_type": "markdown",
   "metadata": {},
   "source": [
    "### 9. Write a function sumPdivisors() that finds the sum of proper divisors of a number. Proper divisors of a number are those numbers by which the number is divisible, except the number itself. For example proper divisors of 36 are 1, 2, 3, 4, 6, 9, 18"
   ]
  },
  {
   "cell_type": "code",
   "execution_count": 7,
   "metadata": {},
   "outputs": [
    {
     "name": "stdout",
     "output_type": "stream",
     "text": [
      "55\n"
     ]
    }
   ],
   "source": [
    "import numpy as np\n",
    "\n",
    "def sumPDivisor(num):\n",
    "    return np.sum([i for i in range(1,num) if(num % i == 0)])\n",
    "\n",
    "divisorLst = sumPDivisor(36)\n",
    "print(divisorLst)"
   ]
  },
  {
   "cell_type": "markdown",
   "metadata": {},
   "source": [
    "### 10. A number is called perfect if the sum of proper divisors of that number is equal to the number. For example 28 is perfect number, since 1+2+4+7+14=28. Write a program to print all the perfect numbers in a given range"
   ]
  },
  {
   "cell_type": "code",
   "execution_count": 10,
   "metadata": {},
   "outputs": [
    {
     "name": "stdout",
     "output_type": "stream",
     "text": [
      "Enter the range: 100\n",
      "**********\n",
      "List of perfect numbers:\n",
      "6\n",
      "28\n"
     ]
    }
   ],
   "source": [
    "def isNumberPerfect(num):\n",
    "    if(num == sumPDivisor(num)):\n",
    "        print(num)\n",
    "        \n",
    "\n",
    "n = int(input(\"Enter the range: \"))\n",
    "print(\"**********\")\n",
    "print(\"List of perfect numbers:\")\n",
    "for i in range(1,n + 1):\n",
    "    isNumberPerfect(i)\n"
   ]
  },
  {
   "cell_type": "markdown",
   "metadata": {},
   "source": [
    "### 11. Two different numbers are called amicable numbers if the sum of the proper divisors of each is equal to the other number. For example 220 and 284 are amicable numbers.\n",
    "    Sum of proper divisors of 220 = 1+2+4+5+10+11+20+22+44+55+110 = 284\n",
    "    Sum of proper divisors of 284 = 1+2+4+71+142 = 220\n",
    "### Write a function to print pairs of amicable numbers in a range"
   ]
  },
  {
   "cell_type": "code",
   "execution_count": 24,
   "metadata": {},
   "outputs": [
    {
     "name": "stdout",
     "output_type": "stream",
     "text": [
      "Enter a range: 10000\n",
      "284 220\n",
      "1210 1184\n",
      "2924 2620\n",
      "5564 5020\n",
      "6368 6232\n"
     ]
    }
   ],
   "source": [
    "def getAmicableNumbers(num):\n",
    "    dic = {}\n",
    "    for i in range(1,num+1):\n",
    "        n = sumPDivisor(i)\n",
    "        lstKeys = dic.keys()\n",
    "        if(n in lstKeys):\n",
    "            if(dic[n] == i):\n",
    "                print(i,n)\n",
    "\n",
    "        dic[i] = n\n",
    "        \n",
    "num = int(input(\"Enter a range: \"))\n",
    "getAmicableNumbers(num)"
   ]
  },
  {
   "cell_type": "markdown",
   "metadata": {},
   "source": [
    "### 12. Write a program which can filter odd numbers in a list by using filter function"
   ]
  },
  {
   "cell_type": "code",
   "execution_count": 29,
   "metadata": {},
   "outputs": [
    {
     "name": "stdout",
     "output_type": "stream",
     "text": [
      "Enter a range to filter odd numbers: 40\n",
      "[1, 3, 5, 7, 9, 11, 13, 15, 17, 19, 21, 23, 25, 27, 29, 31, 33, 35, 37, 39]\n"
     ]
    }
   ],
   "source": [
    "n = int(input(\"Enter a range to filter odd numbers: \"))\n",
    "oddLst = list(filter(lambda x: (x%2 != 0),list(range(n + 1))))\n",
    "print(oddLst)\n",
    "             \n"
   ]
  },
  {
   "cell_type": "markdown",
   "metadata": {},
   "source": [
    "### 13. Write a program which can map() to make a list whose elements are cube of elements in a given list"
   ]
  },
  {
   "cell_type": "code",
   "execution_count": 2,
   "metadata": {},
   "outputs": [
    {
     "name": "stdout",
     "output_type": "stream",
     "text": [
      "[0, 1, 8, 27, 64, 125, 216, 343, 512, 729, 1000]\n"
     ]
    }
   ],
   "source": [
    "lst = list(range(11))\n",
    "\n",
    "cubeLst = list(map(lambda x: (x ** 3),lst))\n",
    "print(cubeLst)"
   ]
  },
  {
   "cell_type": "markdown",
   "metadata": {},
   "source": [
    "### 14. Write a program which can map() and filter() to make a list whose elements are cube of even number in a given list"
   ]
  },
  {
   "cell_type": "code",
   "execution_count": 4,
   "metadata": {},
   "outputs": [
    {
     "name": "stdout",
     "output_type": "stream",
     "text": [
      "[0, 8, 64, 216, 512]\n"
     ]
    }
   ],
   "source": [
    "lst = list(range(10))\n",
    "\n",
    "cubeEvenLst = list(map(lambda x: (x ** 3),filter(lambda x: (x % 2 == 0),lst)))\n",
    "print(cubeEvenLst)"
   ]
  },
  {
   "cell_type": "code",
   "execution_count": null,
   "metadata": {},
   "outputs": [],
   "source": []
  }
 ],
 "metadata": {
  "kernelspec": {
   "display_name": "Python 3",
   "language": "python",
   "name": "python3"
  },
  "language_info": {
   "codemirror_mode": {
    "name": "ipython",
    "version": 3
   },
   "file_extension": ".py",
   "mimetype": "text/x-python",
   "name": "python",
   "nbconvert_exporter": "python",
   "pygments_lexer": "ipython3",
   "version": "3.7.1"
  }
 },
 "nbformat": 4,
 "nbformat_minor": 2
}
