{
 "cells": [
  {
   "cell_type": "markdown",
   "metadata": {},
   "source": [
    "### Write a program to print Binary representation of a given number N."
   ]
  },
  {
   "cell_type": "markdown",
   "metadata": {},
   "source": [
    "    Input:\n",
    "    The first line of input contains an integer T, denoting the number of test cases. Each test case contains an integer N.\n",
    "\n",
    "    Output:\n",
    "    For each test case, print the binary representation of the number N in 14 bits.\n",
    "\n",
    "    Constraints:\n",
    "    1 ≤ T ≤ 100\n",
    "    1 ≤ N ≤ 5000\n",
    "\n",
    "    Example:\n",
    "    Input:\n",
    "    2\n",
    "    2\n",
    "    5\n",
    "\n",
    "    Output:\n",
    "    00000000000010\n",
    "    00000000000101"
   ]
  },
  {
   "cell_type": "code",
   "execution_count": 1,
   "metadata": {},
   "outputs": [
    {
     "name": "stdout",
     "output_type": "stream",
     "text": [
      "2\n",
      "2\n",
      "00000000000010\n",
      "12.125\n",
      "0000001100.001\n"
     ]
    }
   ],
   "source": [
    "# Code for fractional numbers\n",
    "\n",
    "# get the integral part binary\n",
    "def getBinaryIntegral(num):\n",
    "    \n",
    "    if(num == 1):\n",
    "        return 1\n",
    "    return (num%2)+ 10*getBinaryIntegral(num//2)\n",
    "\n",
    "# Logic to get the decimal fraction binary value is to multiply the fractional part with 2 till the fractional part becomes 0\n",
    "\n",
    "# Here is an example of such conversion using the fraction 0.375.\n",
    "#  0.375 * 2 = 0 + 0.75\n",
    "#  0.75 * 2 = 1 + 0.5\n",
    "#  0.5 * 2 = 1 + 0\n",
    "   \n",
    "def getBinaryFractional(num):\n",
    "    if(num == 0):\n",
    "        return \"\"\n",
    "    n = num * 2\n",
    "    return str(int(n)) + str(getBinaryFractional(n - int(n)))\n",
    "    \n",
    "    \n",
    "def binaryEquivalent(n):\n",
    "    iLst = \"\"\n",
    "    iNum = int(n)\n",
    "    \n",
    "    iLst = str(getBinaryIntegral(iNum))\n",
    "    if(n-int(n) != 0):\n",
    "        iLst = iLst + \".\"\n",
    "        iFrac = str(getBinaryFractional(n-int(n)))\n",
    "        iLst += iFrac\n",
    "    \n",
    "    b = 14 - len(iLst)\n",
    "    iLst = '0' * b + iLst\n",
    "    print(iLst)\n",
    "\n",
    "t = int(input())\n",
    "for i in range(t):\n",
    "    n = float(input())\n",
    "    binaryEquivalent(n)"
   ]
  },
  {
   "cell_type": "code",
   "execution_count": null,
   "metadata": {},
   "outputs": [],
   "source": []
  }
 ],
 "metadata": {
  "kernelspec": {
   "display_name": "Python 3",
   "language": "python",
   "name": "python3"
  },
  "language_info": {
   "codemirror_mode": {
    "name": "ipython",
    "version": 3
   },
   "file_extension": ".py",
   "mimetype": "text/x-python",
   "name": "python",
   "nbconvert_exporter": "python",
   "pygments_lexer": "ipython3",
   "version": "3.6.7"
  }
 },
 "nbformat": 4,
 "nbformat_minor": 2
}
