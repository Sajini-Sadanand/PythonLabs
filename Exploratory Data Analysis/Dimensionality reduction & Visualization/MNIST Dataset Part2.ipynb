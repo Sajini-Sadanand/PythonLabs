{
 "cells": [
  {
   "cell_type": "markdown",
   "metadata": {},
   "source": [
    "## Load MNIST data"
   ]
  },
  {
   "cell_type": "code",
   "execution_count": 1,
   "metadata": {},
   "outputs": [
    {
     "name": "stdout",
     "output_type": "stream",
     "text": [
      "Requirement already satisfied: numpy in /srv/conda/lib/python3.7/site-packages (1.16.3)\n",
      "Requirement already satisfied: pandas in /srv/conda/lib/python3.7/site-packages (0.24.2)\n",
      "Requirement already satisfied: pytz>=2011k in /srv/conda/lib/python3.7/site-packages (from pandas) (2019.1)\n",
      "Requirement already satisfied: numpy>=1.12.0 in /srv/conda/lib/python3.7/site-packages (from pandas) (1.16.3)\n",
      "Requirement already satisfied: python-dateutil>=2.5.0 in /srv/conda/lib/python3.7/site-packages (from pandas) (2.8.0)\n",
      "Requirement already satisfied: six>=1.5 in /srv/conda/lib/python3.7/site-packages (from python-dateutil>=2.5.0->pandas) (1.12.0)\n",
      "Requirement already satisfied: matplotlib in /srv/conda/lib/python3.7/site-packages (3.0.3)\n",
      "Requirement already satisfied: python-dateutil>=2.1 in /srv/conda/lib/python3.7/site-packages (from matplotlib) (2.8.0)\n",
      "Requirement already satisfied: kiwisolver>=1.0.1 in /srv/conda/lib/python3.7/site-packages (from matplotlib) (1.1.0)\n",
      "Requirement already satisfied: pyparsing!=2.0.4,!=2.1.2,!=2.1.6,>=2.0.1 in /srv/conda/lib/python3.7/site-packages (from matplotlib) (2.4.0)\n",
      "Requirement already satisfied: cycler>=0.10 in /srv/conda/lib/python3.7/site-packages (from matplotlib) (0.10.0)\n",
      "Requirement already satisfied: numpy>=1.10.0 in /srv/conda/lib/python3.7/site-packages (from matplotlib) (1.16.3)\n",
      "Requirement already satisfied: six>=1.5 in /srv/conda/lib/python3.7/site-packages (from python-dateutil>=2.1->matplotlib) (1.12.0)\n",
      "Requirement already satisfied: setuptools in /srv/conda/lib/python3.7/site-packages (from kiwisolver>=1.0.1->matplotlib) (41.0.1)\n",
      "Requirement already satisfied: scikit-learn in /srv/conda/lib/python3.7/site-packages (0.20.3)\n",
      "Requirement already satisfied: scipy>=0.13.3 in /srv/conda/lib/python3.7/site-packages (from scikit-learn) (1.2.1)\n",
      "Requirement already satisfied: numpy>=1.8.2 in /srv/conda/lib/python3.7/site-packages (from scikit-learn) (1.16.3)\n",
      "Requirement already satisfied: seaborn in /srv/conda/lib/python3.7/site-packages (0.9.0)\n",
      "Requirement already satisfied: scipy>=0.14.0 in /srv/conda/lib/python3.7/site-packages (from seaborn) (1.2.1)\n",
      "Requirement already satisfied: numpy>=1.9.3 in /srv/conda/lib/python3.7/site-packages (from seaborn) (1.16.3)\n",
      "Requirement already satisfied: pandas>=0.15.2 in /srv/conda/lib/python3.7/site-packages (from seaborn) (0.24.2)\n",
      "Requirement already satisfied: matplotlib>=1.4.3 in /srv/conda/lib/python3.7/site-packages (from seaborn) (3.0.3)\n",
      "Requirement already satisfied: python-dateutil>=2.5.0 in /srv/conda/lib/python3.7/site-packages (from pandas>=0.15.2->seaborn) (2.8.0)\n",
      "Requirement already satisfied: pytz>=2011k in /srv/conda/lib/python3.7/site-packages (from pandas>=0.15.2->seaborn) (2019.1)\n",
      "Requirement already satisfied: kiwisolver>=1.0.1 in /srv/conda/lib/python3.7/site-packages (from matplotlib>=1.4.3->seaborn) (1.1.0)\n",
      "Requirement already satisfied: pyparsing!=2.0.4,!=2.1.2,!=2.1.6,>=2.0.1 in /srv/conda/lib/python3.7/site-packages (from matplotlib>=1.4.3->seaborn) (2.4.0)\n",
      "Requirement already satisfied: cycler>=0.10 in /srv/conda/lib/python3.7/site-packages (from matplotlib>=1.4.3->seaborn) (0.10.0)\n",
      "Requirement already satisfied: six>=1.5 in /srv/conda/lib/python3.7/site-packages (from python-dateutil>=2.5.0->pandas>=0.15.2->seaborn) (1.12.0)\n",
      "Requirement already satisfied: setuptools in /srv/conda/lib/python3.7/site-packages (from kiwisolver>=1.0.1->matplotlib>=1.4.3->seaborn) (41.0.1)\n",
      "Requirement already up-to-date: google-api-python-client in /srv/conda/lib/python3.7/site-packages (1.7.8)\n",
      "Requirement already up-to-date: google-auth-httplib2 in /srv/conda/lib/python3.7/site-packages (0.0.3)\n",
      "Requirement already up-to-date: google-auth-oauthlib in /srv/conda/lib/python3.7/site-packages (0.3.0)\n",
      "Requirement already satisfied, skipping upgrade: uritemplate<4dev,>=3.0.0 in /srv/conda/lib/python3.7/site-packages (from google-api-python-client) (3.0.0)\n",
      "Requirement already satisfied, skipping upgrade: six<2dev,>=1.6.1 in /srv/conda/lib/python3.7/site-packages (from google-api-python-client) (1.12.0)\n",
      "Requirement already satisfied, skipping upgrade: google-auth>=1.4.1 in /srv/conda/lib/python3.7/site-packages (from google-api-python-client) (1.6.3)\n",
      "Requirement already satisfied, skipping upgrade: httplib2<1dev,>=0.9.2 in /srv/conda/lib/python3.7/site-packages (from google-api-python-client) (0.12.3)\n",
      "Requirement already satisfied, skipping upgrade: requests-oauthlib>=0.7.0 in /srv/conda/lib/python3.7/site-packages (from google-auth-oauthlib) (1.2.0)\n",
      "Requirement already satisfied, skipping upgrade: cachetools>=2.0.0 in /srv/conda/lib/python3.7/site-packages (from google-auth>=1.4.1->google-api-python-client) (3.1.0)\n",
      "Requirement already satisfied, skipping upgrade: rsa>=3.1.4 in /srv/conda/lib/python3.7/site-packages (from google-auth>=1.4.1->google-api-python-client) (4.0)\n",
      "Requirement already satisfied, skipping upgrade: pyasn1-modules>=0.2.1 in /srv/conda/lib/python3.7/site-packages (from google-auth>=1.4.1->google-api-python-client) (0.2.5)\n",
      "Requirement already satisfied, skipping upgrade: requests>=2.0.0 in /srv/conda/lib/python3.7/site-packages (from requests-oauthlib>=0.7.0->google-auth-oauthlib) (2.21.0)\n",
      "Requirement already satisfied, skipping upgrade: oauthlib>=3.0.0 in /srv/conda/lib/python3.7/site-packages (from requests-oauthlib>=0.7.0->google-auth-oauthlib) (3.0.1)\n",
      "Requirement already satisfied, skipping upgrade: pyasn1>=0.1.3 in /srv/conda/lib/python3.7/site-packages (from rsa>=3.1.4->google-auth>=1.4.1->google-api-python-client) (0.4.5)\n",
      "Requirement already satisfied, skipping upgrade: urllib3<1.25,>=1.21.1 in /srv/conda/lib/python3.7/site-packages (from requests>=2.0.0->requests-oauthlib>=0.7.0->google-auth-oauthlib) (1.24.2)\n",
      "Requirement already satisfied, skipping upgrade: certifi>=2017.4.17 in /srv/conda/lib/python3.7/site-packages (from requests>=2.0.0->requests-oauthlib>=0.7.0->google-auth-oauthlib) (2019.3.9)\n",
      "Requirement already satisfied, skipping upgrade: idna<2.9,>=2.5 in /srv/conda/lib/python3.7/site-packages (from requests>=2.0.0->requests-oauthlib>=0.7.0->google-auth-oauthlib) (2.8)\n",
      "Requirement already satisfied, skipping upgrade: chardet<3.1.0,>=3.0.2 in /srv/conda/lib/python3.7/site-packages (from requests>=2.0.0->requests-oauthlib>=0.7.0->google-auth-oauthlib) (3.0.4)\n"
     ]
    }
   ],
   "source": [
    "import sys\n",
    "!{sys.executable} -m pip install numpy\n",
    "!{sys.executable} -m pip install pandas\n",
    "!{sys.executable} -m pip install matplotlib\n",
    "!{sys.executable} -m pip install scikit-learn\n",
    "!{sys.executable} -m pip install seaborn\n",
    "!{sys.executable} -m pip install --upgrade google-api-python-client google-auth-httplib2 google-auth-oauthlib"
   ]
  },
  {
   "cell_type": "code",
   "execution_count": 2,
   "metadata": {},
   "outputs": [],
   "source": [
    "# function to read and show images\n",
    "\n",
    "import numpy as np\n",
    "import pandas as pd\n",
    "import matplotlib.pyplot as plt"
   ]
  },
  {
   "cell_type": "code",
   "execution_count": 3,
   "metadata": {},
   "outputs": [
    {
     "name": "stdout",
     "output_type": "stream",
     "text": [
      "   label  pixel0  pixel1  pixel2  pixel3  pixel4  pixel5  pixel6  pixel7  \\\n",
      "0      1       0       0       0       0       0       0       0       0   \n",
      "1      0       0       0       0       0       0       0       0       0   \n",
      "2      1       0       0       0       0       0       0       0       0   \n",
      "3      4       0       0       0       0       0       0       0       0   \n",
      "4      0       0       0       0       0       0       0       0       0   \n",
      "\n",
      "   pixel8  ...  pixel774  pixel775  pixel776  pixel777  pixel778  pixel779  \\\n",
      "0       0  ...         0         0         0         0         0         0   \n",
      "1       0  ...         0         0         0         0         0         0   \n",
      "2       0  ...         0         0         0         0         0         0   \n",
      "3       0  ...         0         0         0         0         0         0   \n",
      "4       0  ...         0         0         0         0         0         0   \n",
      "\n",
      "   pixel780  pixel781  pixel782  pixel783  \n",
      "0         0         0         0         0  \n",
      "1         0         0         0         0  \n",
      "2         0         0         0         0  \n",
      "3         0         0         0         0  \n",
      "4         0         0         0         0  \n",
      "\n",
      "[5 rows x 785 columns]\n"
     ]
    }
   ],
   "source": [
    "d0 = pd.read_csv('./train.csv')\n",
    "print(d0.head(5))"
   ]
  },
  {
   "cell_type": "code",
   "execution_count": 4,
   "metadata": {},
   "outputs": [
    {
     "name": "stdout",
     "output_type": "stream",
     "text": [
      "0    1\n",
      "1    0\n",
      "2    1\n",
      "3    4\n",
      "4    0\n",
      "Name: label, dtype: int64\n"
     ]
    }
   ],
   "source": [
    "# save the labels into a variable l\n",
    "l = d0['label']\n",
    "\n",
    "print(l.head(5))"
   ]
  },
  {
   "cell_type": "code",
   "execution_count": 5,
   "metadata": {},
   "outputs": [
    {
     "name": "stdout",
     "output_type": "stream",
     "text": [
      "   pixel0  pixel1  pixel2  pixel3  pixel4  pixel5  pixel6  pixel7  pixel8  \\\n",
      "0       0       0       0       0       0       0       0       0       0   \n",
      "1       0       0       0       0       0       0       0       0       0   \n",
      "2       0       0       0       0       0       0       0       0       0   \n",
      "3       0       0       0       0       0       0       0       0       0   \n",
      "4       0       0       0       0       0       0       0       0       0   \n",
      "\n",
      "   pixel9  ...  pixel774  pixel775  pixel776  pixel777  pixel778  pixel779  \\\n",
      "0       0  ...         0         0         0         0         0         0   \n",
      "1       0  ...         0         0         0         0         0         0   \n",
      "2       0  ...         0         0         0         0         0         0   \n",
      "3       0  ...         0         0         0         0         0         0   \n",
      "4       0  ...         0         0         0         0         0         0   \n",
      "\n",
      "   pixel780  pixel781  pixel782  pixel783  \n",
      "0         0         0         0         0  \n",
      "1         0         0         0         0  \n",
      "2         0         0         0         0  \n",
      "3         0         0         0         0  \n",
      "4         0         0         0         0  \n",
      "\n",
      "[5 rows x 784 columns]\n"
     ]
    }
   ],
   "source": [
    "# Drop the label feature and store the pixel data in d.\n",
    "\n",
    "d = d0.drop(\"label\",axis = 1)\n",
    "\n",
    "print(d.head(5))"
   ]
  },
  {
   "cell_type": "code",
   "execution_count": 6,
   "metadata": {},
   "outputs": [
    {
     "name": "stdout",
     "output_type": "stream",
     "text": [
      "(499, 784)\n"
     ]
    }
   ],
   "source": [
    "print(d.shape)"
   ]
  },
  {
   "cell_type": "code",
   "execution_count": 7,
   "metadata": {},
   "outputs": [
    {
     "name": "stdout",
     "output_type": "stream",
     "text": [
      "(499,)\n"
     ]
    }
   ],
   "source": [
    "print(l.shape)"
   ]
  },
  {
   "cell_type": "code",
   "execution_count": 8,
   "metadata": {},
   "outputs": [
    {
     "name": "stderr",
     "output_type": "stream",
     "text": [
      "/srv/conda/lib/python3.7/site-packages/ipykernel_launcher.py:5: FutureWarning: Method .as_matrix will be removed in a future version. Use .values instead.\n",
      "  \"\"\"\n"
     ]
    },
    {
     "data": {
      "image/png": "[encoded data removed]",
      "text/plain": [
       "<Figure size 504x504 with 1 Axes>"
      ]
     },
     "metadata": {
      "needs_background": "light"
     },
     "output_type": "display_data"
    },
    {
     "name": "stdout",
     "output_type": "stream",
     "text": [
      "0\n"
     ]
    }
   ],
   "source": [
    "# Display or plot a number\n",
    "plt.figure(figsize=(7,7))\n",
    "idx = 1\n",
    "\n",
    "grid_data = d.iloc[idx].as_matrix().reshape(28,28) #reshape from 1d to 2d pixel array\n",
    "plt.imshow(grid_data,interpolation=\"none\",cmap=\"gray\")\n",
    "plt.show()\n",
    "print(l[idx])"
   ]
  },
  {
   "cell_type": "markdown",
   "metadata": {},
   "source": [
    "### Visualization using PCA"
   ]
  },
  {
   "cell_type": "code",
   "execution_count": 9,
   "metadata": {},
   "outputs": [
    {
     "name": "stdout",
     "output_type": "stream",
     "text": [
      "data shape:  (499, 784)\n"
     ]
    }
   ],
   "source": [
    "# Pick first sample point to work on for time-efficiency\n",
    "# Exercise: perform the same analysis on all of the 42k data points\n",
    "\n",
    "labels = l.head(200)\n",
    "\n",
    "data = d.head(200)\n",
    "\n",
    "print(\"data shape: \",d.shape)"
   ]
  },
  {
   "cell_type": "code",
   "execution_count": 10,
   "metadata": {},
   "outputs": [
    {
     "name": "stdout",
     "output_type": "stream",
     "text": [
      "(200, 784)\n"
     ]
    },
    {
     "name": "stderr",
     "output_type": "stream",
     "text": [
      "/srv/conda/lib/python3.7/site-packages/sklearn/preprocessing/data.py:645: DataConversionWarning: Data with input dtype int64 were all converted to float64 by StandardScaler.\n",
      "  return self.partial_fit(X, y)\n",
      "/srv/conda/lib/python3.7/site-packages/sklearn/base.py:464: DataConversionWarning: Data with input dtype int64 were all converted to float64 by StandardScaler.\n",
      "  return self.fit(X, **fit_params).transform(X)\n"
     ]
    }
   ],
   "source": [
    "# Data processing standarizing the data\n",
    "\n",
    "from sklearn.preprocessing import StandardScaler\n",
    "\n",
    "standardized_data = StandardScaler().fit_transform(data)\n",
    "print(standardized_data.shape)"
   ]
  },
  {
   "cell_type": "code",
   "execution_count": 11,
   "metadata": {},
   "outputs": [
    {
     "name": "stdout",
     "output_type": "stream",
     "text": [
      "(784, 784)\n"
     ]
    }
   ],
   "source": [
    "# Find the co-variance matrix which is A^T(A)\n",
    "sample_data = standardized_data\n",
    "covar_matrix = np.matmul(sample_data.T,sample_data)\n",
    "\n",
    "print(covar_matrix.shape)"
   ]
  },
  {
   "cell_type": "code",
   "execution_count": 12,
   "metadata": {},
   "outputs": [
    {
     "name": "stdout",
     "output_type": "stream",
     "text": [
      "eigen vector shape:  (784, 2)\n",
      "Updated shape of eigen vector:  (2, 784)\n"
     ]
    }
   ],
   "source": [
    "# finding the top two eigen values and corresponding eigen-vectors\n",
    "# for projecting onto a 2-Dim space\n",
    "\n",
    "from scipy.linalg import eigh\n",
    "\n",
    "# the parameter 'eighvals' is defined (low values to high values)\n",
    "# eigh function will return the eigen values in ascending order\n",
    "# this code genrates only the top two (782,783) eigen values\n",
    "\n",
    "values,vector = eigh(covar_matrix,eigvals=(782,783))\n",
    "\n",
    "print(\"eigen vector shape: \",vector.shape)\n",
    "\n",
    "# converting the eigen vector into 2D-space for easyness of furthe computation\n",
    "\n",
    "vectors = vector.T\n",
    "\n",
    "# updated shape of eigen vector\n",
    "\n",
    "print(\"Updated shape of eigen vector: \",vectors.shape)"
   ]
  },
  {
   "cell_type": "code",
   "execution_count": 13,
   "metadata": {},
   "outputs": [
    {
     "name": "stdout",
     "output_type": "stream",
     "text": [
      " resultanat new data points' shape  (2, 784) X (784, 200)  =  (2, 200)\n"
     ]
    }
   ],
   "source": [
    "# projecting the original data sample on the plane\n",
    "# formed by two principal eigen vectors by vector-vector multiplication\n",
    "\n",
    "import matplotlib.pyplot as plt\n",
    "\n",
    "new_coordinates = np.matmul(vectors,sample_data.T)\n",
    "print (\" resultanat new data points' shape \", vectors.shape, \"X\", sample_data.T.shape,\" = \", new_coordinates.shape)"
   ]
  },
  {
   "cell_type": "code",
   "execution_count": 14,
   "metadata": {},
   "outputs": [
    {
     "name": "stdout",
     "output_type": "stream",
     "text": [
      "   1st_principle  2nd_principle  label\n",
      "0      -0.028885      -5.518415    1.0\n",
      "1       2.656932      19.888093    0.0\n",
      "2       0.431469      -7.545944    1.0\n",
      "3       4.861468      -0.271686    4.0\n",
      "4       0.843986      26.598645    0.0\n"
     ]
    }
   ],
   "source": [
    "import pandas as pd\n",
    "\n",
    "#appending label to the 2D projected data\n",
    "\n",
    "new_coordinates = np.vstack((new_coordinates,labels)).T\n",
    "\n",
    "# creating a new data frame for plotting the labeled points.\n",
    "dataframe = pd.DataFrame(data=new_coordinates, columns=(\"1st_principle\",\"2nd_principle\",\"label\"))\n",
    "print(dataframe.head())"
   ]
  },
  {
   "cell_type": "code",
   "execution_count": 15,
   "metadata": {},
   "outputs": [
    {
     "data": {
      "text/plain": [
       "<seaborn.axisgrid.FacetGrid at 0x7fca2218b6a0>"
      ]
     },
     "execution_count": 15,
     "metadata": {},
     "output_type": "execute_result"
    },
    {
     "data": {
      "image/png": "[encoded data removed]",
      "text/plain": [
       "<Figure size 483.875x432 with 1 Axes>"
      ]
     },
     "metadata": {
      "needs_background": "light"
     },
     "output_type": "display_data"
    }
   ],
   "source": [
    "# plotting the 2D datapoints with seaborn\n",
    "\n",
    "import seaborn as sn\n",
    "sn.FacetGrid(dataframe,hue=\"label\",height = 6).map(plt.scatter,\"1st_principle\",\"2nd_principle\").add_legend()"
   ]
  },
  {
   "cell_type": "code",
   "execution_count": 17,
   "metadata": {},
   "outputs": [],
   "source": [
    "# from __future__ import print_function\n",
    "# import pickle\n",
    "# import os.path\n",
    "# from googleapiclient.discovery import build\n",
    "# from google_auth_oauthlib.flow import InstalledAppFlow\n",
    "# from google.auth.transport.requests import Request\n",
    "\n",
    "# # If modifying these scopes, delete the file token.pickle.\n",
    "# SCOPES = ['https://www.googleapis.com/auth/drive.metadata.readonly']\n",
    "\n",
    "# def fileFromDrive():\n",
    "#     \"\"\"Shows basic usage of the Drive v3 API.\n",
    "#     Prints the names and ids of the first 10 files the user has access to.\n",
    "#     \"\"\"\n",
    "#     creds = None\n",
    "#     # The file token.pickle stores the user's access and refresh tokens, and is\n",
    "#     # created automatically when the authorization flow completes for the first\n",
    "#     # time.\n",
    "#     if os.path.exists('token.pickle'):\n",
    "#         with open('token.pickle', 'rb') as token:\n",
    "#             creds = pickle.load(token)\n",
    "#     # If there are no (valid) credentials available, let the user log in.\n",
    "#     if not creds or not creds.valid:\n",
    "#         if creds and creds.expired and creds.refresh_token:\n",
    "#             creds.refresh(Request())\n",
    "#         else:\n",
    "#             flow = InstalledAppFlow.from_client_secrets_file(\n",
    "#                 'credentials.json', SCOPES)\n",
    "#             creds = flow.run_local_server()\n",
    "#         # Save the credentials for the next run\n",
    "#         with open('token.pickle', 'wb') as token:\n",
    "#             pickle.dump(creds, token)\n",
    "\n",
    "#     service = build('drive', 'v3', credentials=creds)\n",
    "\n",
    "#     # Call the Drive v3 API\n",
    "#     results = service.files().list(\n",
    "#         pageSize=10, fields=\"nextPageToken, files(id, name)\").execute()\n",
    "#     items = results.get('files', [])\n",
    "\n",
    "#     if not items:\n",
    "#         print('No files found.')\n",
    "#     else:\n",
    "#         print('Files:')\n",
    "#         for item in items:\n",
    "#             print(u'{0} ({1})'.format(item['name'], item['id']))\n",
    "\n",
    "# fileFromDrive()"
   ]
  },
  {
   "cell_type": "markdown",
   "metadata": {},
   "source": [
    "### PCA using scikit learn"
   ]
  },
  {
   "cell_type": "code",
   "execution_count": 18,
   "metadata": {},
   "outputs": [],
   "source": [
    "# intializing the pca\n",
    "\n",
    "from sklearn import decomposition\n",
    "pca = decomposition.PCA()"
   ]
  },
  {
   "cell_type": "code",
   "execution_count": 19,
   "metadata": {},
   "outputs": [
    {
     "name": "stdout",
     "output_type": "stream",
     "text": [
      "shape of pca reduced (200, 2)\n"
     ]
    }
   ],
   "source": [
    "# configuring the parameters\n",
    "# the number of components = 2\n",
    "pca.n_components = 2\n",
    "pca_data = pca.fit_transform(sample_data)\n",
    "\n",
    "# pca reduced will contain the 2-d projects of simple data\n",
    "print(\"shape of pca reduced\",pca_data.shape)"
   ]
  },
  {
   "cell_type": "code",
   "execution_count": 20,
   "metadata": {},
   "outputs": [
    {
     "data": {
      "image/png": "[encoded data removed]",
      "text/plain": [
       "<Figure size 483.875x432 with 1 Axes>"
      ]
     },
     "metadata": {
      "needs_background": "light"
     },
     "output_type": "display_data"
    }
   ],
   "source": [
    "# attaching the label for each 2-d data points\n",
    "pca_data = np.vstack((pca_data.T,labels)).T\n",
    "\n",
    "# creating new dataframe which helps us in plotting the result data\n",
    "\n",
    "pca_df = pd.DataFrame(data=pca_data, columns=(\"1st_principal\", \"2nd_principal\", \"label\"))\n",
    "sn.FacetGrid(pca_df,hue=\"label\",height=6).map(plt.scatter,\"1st_principal\", \"2nd_principal\").add_legend()\n",
    "\n",
    "plt.show()"
   ]
  },
  {
   "cell_type": "code",
   "execution_count": 21,
   "metadata": {},
   "outputs": [],
   "source": [
    "# there is a typo in the ipython notebook, as eigenvalues generated are in ascending order, when we multiply vector*sample_data^T\n",
    "\n",
    "# vector[0]*X[i] will be second principle component\n",
    "\n",
    "# vector[1]*x[i] will be first principle component"
   ]
  },
  {
   "cell_type": "code",
   "execution_count": null,
   "metadata": {},
   "outputs": [],
   "source": []
  }
 ],
 "metadata": {
  "kernelspec": {
   "display_name": "Python 3",
   "language": "python",
   "name": "python3"
  },
  "language_info": {
   "codemirror_mode": {
    "name": "ipython",
    "version": 3
   },
   "file_extension": ".py",
   "mimetype": "text/x-python",
   "name": "python",
   "nbconvert_exporter": "python",
   "pygments_lexer": "ipython3",
   "version": "3.7.3"
  }
 },
 "nbformat": 4,
 "nbformat_minor": 2
}
