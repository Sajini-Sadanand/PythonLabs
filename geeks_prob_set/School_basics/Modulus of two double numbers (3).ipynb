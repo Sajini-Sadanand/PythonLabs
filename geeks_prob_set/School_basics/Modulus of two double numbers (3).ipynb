{
 "cells": [
  {
   "cell_type": "markdown",
   "metadata": {},
   "source": [
    "# Modulus of two double numbers"
   ]
  },
  {
   "cell_type": "markdown",
   "metadata": {},
   "source": [
    "    Given two floating point numbers, find remainder.\n",
    "\n",
    "    INPUT : The first line consists of an integer T i.e. the number of test cases. First and last line of each test case consists of two double values a and b.\n",
    "\n",
    "    OUTPUT : Print the remainder of the two values.\n",
    "\n",
    "    CONSTRAINTS : \n",
    "    1<=T<=100\n",
    "    1<=a,b<=1000\n",
    "\n",
    "    EXAMPLES : \n",
    "    INPUT :\n",
    "    2\n",
    "    36.5 5.0\n",
    "    9.7 2.3\n",
    "\n",
    "    OUTPUT :\n",
    "    1.5\n",
    "    0.5"
   ]
  },
  {
   "cell_type": "code",
   "execution_count": 36,
   "metadata": {},
   "outputs": [
    {
     "name": "stdout",
     "output_type": "stream",
     "text": [
      "1\n",
      "36.5 5.0\n",
      "1.5\n"
     ]
    }
   ],
   "source": [
    "for i in range(int(input())):\n",
    "    sd = input().split(\" \")\n",
    "#     if(float(sd[0])>float(sd[1])):\n",
    "    d1 = sd[0].split(\".\")\n",
    "#     print(\"int \",d1)\n",
    "    d2 = float(sd[1])\n",
    "    #     print(\"int \",d2)\n",
    "#     else:\n",
    "#         d1 = sd[1].split(\".\")\n",
    "#     #     print(\"int \",d1)\n",
    "#         d2 = float(sd[0])\n",
    "#     #     print(\"int \",d2)\n",
    "    \n",
    "#     d1 = str(36.5989).split(\".\")\n",
    "#     d2 = \"\".join(str(5.0).split(\".\"))\n",
    "    d1_b_10 = int(d1[0]) * 10 ** len(d1[1]) + int(d1[1])\n",
    "#     print(\"int \",d1_b_10)\n",
    "    d2_b_10 = d2 *10 ** len(d1[1])\n",
    "#     print(\"int \",d2_b_10)\n",
    "\n",
    "    print((d1_b_10 % d2_b_10)/10 ** len(d1[1]))\n"
   ]
  },
  {
   "cell_type": "code",
   "execution_count": null,
   "metadata": {},
   "outputs": [],
   "source": []
  }
 ],
 "metadata": {
  "kernelspec": {
   "display_name": "Python 3",
   "language": "python",
   "name": "python3"
  },
  "language_info": {
   "codemirror_mode": {
    "name": "ipython",
    "version": 3
   },
   "file_extension": ".py",
   "mimetype": "text/x-python",
   "name": "python",
   "nbconvert_exporter": "python",
   "pygments_lexer": "ipython3",
   "version": "3.6.7"
  }
 },
 "nbformat": 4,
 "nbformat_minor": 2
}
