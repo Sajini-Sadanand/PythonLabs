{
 "cells": [
  {
   "cell_type": "markdown",
   "metadata": {},
   "source": [
    "### Maximum difference between frequency of two elements such that element having greater frequency is also greater"
   ]
  },
  {
   "cell_type": "markdown",
   "metadata": {},
   "source": [
    "Given an array of n positive integers with many repeating elements. \n",
    "\n",
    "The task is to find maximum difference between the frequency of any two different elements, such that the element with greater frequency is also greater in value than the second integer.\n",
    "\n",
    "    Input :  arr[] = { 3, 1, 3, 2, 3, 2 }.\n",
    "    Output : 2\n",
    "    Frequency of 3 = 3.\n",
    "    Frequency of 2 = 2.\n",
    "    Frequency of 1 = 1.\n",
    "    Here difference of frequency of element 3 and 1 is = 3 - 1 = 2.\n",
    "    Also 3 > 1."
   ]
  },
  {
   "cell_type": "code",
   "execution_count": 11,
   "metadata": {},
   "outputs": [
    {
     "name": "stdout",
     "output_type": "stream",
     "text": [
      "9\n",
      "CPU times: user 4 µs, sys: 1 µs, total: 5 µs\n",
      "Wall time: 9.3 µs\n"
     ]
    }
   ],
   "source": [
    "from collections import defaultdict \n",
    "\n",
    "# Return the maximum difference between \n",
    "# frequencies of any two elements such that \n",
    "# element with greater frequency is also \n",
    "# greater in value. \n",
    "def maxdiff(arr, n): \n",
    "    freq = defaultdict(lambda: 0) \n",
    "\n",
    "    # Finding the frequency of each element. \n",
    "    for i in range(n): \n",
    "        freq[arr[i]] += 1\n",
    "    ans = 0\n",
    "    for i in range(n): \n",
    "        for j in range(n): \n",
    "\n",
    "            # finding difference such that element \n",
    "            # having greater frequency is also \n",
    "            # greater in value. \n",
    "            if freq[arr[i]] > freq[arr[j]] and arr[i] > arr[j]: \n",
    "                ans = max(ans, freq[arr[i]] - freq[arr[j]]) \n",
    "            elif freq[arr[i]] < freq[arr[j]] and arr[i] < arr[j]: \n",
    "                ans = max(ans, freq[arr[j]] - freq[arr[i]]) \n",
    "    return ans \n",
    "\n",
    "\n",
    "arr = [3,3,2,3,4,5,5,5,5,5,2,9,9,9,9,9,9,9,9,9,9] \n",
    "n = len(arr) \n",
    "print(maxdiff(arr,n)) \n",
    "%time"
   ]
  },
  {
   "cell_type": "markdown",
   "metadata": {},
   "source": [
    "# Another approach, though not faster"
   ]
  },
  {
   "cell_type": "code",
   "execution_count": 12,
   "metadata": {},
   "outputs": [
    {
     "name": "stdout",
     "output_type": "stream",
     "text": [
      "14\n",
      "CPU times: user 3 µs, sys: 1e+03 ns, total: 4 µs\n",
      "Wall time: 6.68 µs\n"
     ]
    }
   ],
   "source": [
    "from collections import defaultdict\n",
    "\n",
    "def maxDiff(arr):\n",
    "#     Make the list to have unique values, so the that the for loop execution time will reduce\n",
    "    nLst = list(set(arr))\n",
    "    n = len(nLst)\n",
    "    freq = defaultdict(lambda:0)\n",
    "    for i in arr:\n",
    "        freq[arr[i]] += 1\n",
    "    \n",
    "    ans = 0\n",
    "    \n",
    "    for i in range(n):\n",
    "        for j in range(n):\n",
    "            if(freq[nLst[i]] > freq[nLst[j]] and nLst[i] > nLst[j]):\n",
    "                ans = max(ans,freq[nLst[i]]-freq[nLst[j]])\n",
    "            elif(freq[nLst[i]] < freq[nLst[j]] and nLst[i] < nLst[j]):\n",
    "                ans = max(ans,freq[nLst[j]]-freq[nLst[i]])\n",
    "    return ans\n",
    "            \n",
    "\n",
    "arr = [3,3,2,3,4,5,5,5,5,5,2,9,9,9,9,9,9,9,9,9,9] \n",
    "print(maxDiff(arr))\n",
    "%time"
   ]
  },
  {
   "cell_type": "code",
   "execution_count": null,
   "metadata": {},
   "outputs": [],
   "source": []
  }
 ],
 "metadata": {
  "kernelspec": {
   "display_name": "Python 3",
   "language": "python",
   "name": "python3"
  },
  "language_info": {
   "codemirror_mode": {
    "name": "ipython",
    "version": 3
   },
   "file_extension": ".py",
   "mimetype": "text/x-python",
   "name": "python",
   "nbconvert_exporter": "python",
   "pygments_lexer": "ipython3",
   "version": "3.6.7"
  }
 },
 "nbformat": 4,
 "nbformat_minor": 2
}
