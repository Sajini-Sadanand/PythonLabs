{
 "cells": [
  {
   "cell_type": "markdown",
   "metadata": {},
   "source": [
    "### Operators"
   ]
  },
  {
   "cell_type": "markdown",
   "metadata": {},
   "source": [
    "Operators are special symbol in python that carry out arithematics or logical computation\n",
    "\n",
    "They value that the operate on are called as operands"
   ]
  },
  {
   "cell_type": "markdown",
   "metadata": {},
   "source": [
    "### Operator Type"
   ]
  },
  {
   "cell_type": "markdown",
   "metadata": {},
   "source": [
    "1. Arithematic Operator\n",
    "2. Logical Operator\n",
    "3. Comparision or Relational Operators\n",
    "4. Bitwise Operator\n",
    "5. Assignment Operator\n",
    "6. Special Operator"
   ]
  },
  {
   "cell_type": "markdown",
   "metadata": {},
   "source": [
    "### Arithematic Operators"
   ]
  },
  {
   "cell_type": "markdown",
   "metadata": {},
   "source": [
    "Arithematic operation performs arithematic operations."
   ]
  },
  {
   "cell_type": "code",
   "execution_count": 5,
   "metadata": {},
   "outputs": [
    {
     "name": "stdout",
     "output_type": "stream",
     "text": [
      "Addition of 20 & 10 is 30\n",
      "Subtraction of 20 & 10 is10\n",
      "Multiplication of 20 & 10 is 200\n",
      "Division of 20 & 10 is 2.0\n",
      "Reminder of 20 & 10 is 0\n",
      "Division of 15 & 10 is 1.5\n",
      "Floor Division of 15 & 10 is 1\n",
      "Exponent value of 3 & 2 is 9\n"
     ]
    }
   ],
   "source": [
    "# +,-,*,/,%,//,** are arithematic operators\n",
    "x, y = 20,10\n",
    "\n",
    "#addition\n",
    "print(\"Addition of {} & {} is {}\".format(x,y,x+y))\n",
    "\n",
    "#subtraction\n",
    "print(\"Subtraction of {} & {} is{}\".format(x,y,x-y))\n",
    "\n",
    "#Multiplication\n",
    "print(\"Multiplication of {} & {} is {}\".format(x,y,x*y))\n",
    "\n",
    "#Division\n",
    "print(\"Division of {} & {} is {}\".format(x,y,x/y))\n",
    "\n",
    "#Modulus\n",
    "print(\"Reminder of {} & {} is {}\".format(x,y,x%y))\n",
    "\n",
    "#Floor Division -> is used to get the integer value of divison\n",
    "# as by default pyhton division operation has double value\n",
    "print(\"Division of {} & {} is {}\".format(15,y,15/y))\n",
    "print(\"Floor Division of {} & {} is {}\".format(15,y,15//y))\n",
    "\n",
    "#Exponent\n",
    "print(\"Exponent value of {} & {} is {}\".format(3,2,3**2))"
   ]
  },
  {
   "cell_type": "markdown",
   "metadata": {},
   "source": [
    "### Comparision Operators"
   ]
  },
  {
   "cell_type": "markdown",
   "metadata": {},
   "source": [
    "It performs comparision on two values. It return either true or false values"
   ]
  },
  {
   "cell_type": "code",
   "execution_count": 6,
   "metadata": {},
   "outputs": [
    {
     "name": "stdout",
     "output_type": "stream",
     "text": [
      "True\n",
      "False\n",
      "False\n",
      "True\n",
      "False\n",
      "True\n"
     ]
    }
   ],
   "source": [
    "a, b = 10, 20         \n",
    "\n",
    "print(a < b)  #check a is less than b\n",
    "\n",
    "print(a > b) #check a is greater than b\n",
    "\n",
    "print(a == b) #check a is equal to b\n",
    "\n",
    "print(a != b) #check a is not equal to b (!=)\n",
    "\n",
    "print(a >= b) #check a greater than or equal to b\n",
    "\n",
    "print(a <= b) #check a less than or equal to b"
   ]
  },
  {
   "cell_type": "markdown",
   "metadata": {},
   "source": [
    "### Logical Operators"
   ]
  },
  {
   "cell_type": "markdown",
   "metadata": {},
   "source": [
    "Logical operators perform truth operation like AND, OR, NOR, XOR, XNOR etc."
   ]
  },
  {
   "cell_type": "code",
   "execution_count": 7,
   "metadata": {},
   "outputs": [
    {
     "name": "stdout",
     "output_type": "stream",
     "text": [
      "False\n",
      "True\n",
      "False\n"
     ]
    }
   ],
   "source": [
    "a, b = True, False\n",
    "\n",
    "#print a and b\n",
    "print(a and b)\n",
    "\n",
    "#print a or b\n",
    "print(a or b)\n",
    "\n",
    "#print not b\n",
    "print(not a)"
   ]
  },
  {
   "cell_type": "markdown",
   "metadata": {},
   "source": [
    "### Bitwise Operators"
   ]
  },
  {
   "cell_type": "markdown",
   "metadata": {},
   "source": [
    "Bitewise operators acts on operands as if they are string of binary digits. It operates bitwise"
   ]
  },
  {
   "cell_type": "markdown",
   "metadata": {},
   "source": [
    "&, |, ~, ^, >>, << are Bitwise operators"
   ]
  },
  {
   "cell_type": "code",
   "execution_count": 13,
   "metadata": {},
   "outputs": [
    {
     "name": "stdout",
     "output_type": "stream",
     "text": [
      "0\n",
      "14\n",
      "-11\n",
      "14\n",
      "0\n",
      "160\n"
     ]
    }
   ],
   "source": [
    "a, b = 10, 4\n",
    "\n",
    "#Bitwise AND\n",
    "print(a & b)\n",
    "\n",
    "#Bitwise OR\n",
    "print(a | b)\n",
    "\n",
    "#Bitwise NOT\n",
    "print(~a)\n",
    "\n",
    "#Bitwise XOR\n",
    "print(a ^ b)\n",
    "\n",
    "#Bitwise rightshift\n",
    "print(b >> a)\n",
    "\n",
    "#Bitwise Leftshift\n",
    "print(a << b)"
   ]
  },
  {
   "cell_type": "markdown",
   "metadata": {},
   "source": [
    "### Assignment Operators"
   ]
  },
  {
   "cell_type": "markdown",
   "metadata": {},
   "source": [
    "Assignment operators in python are used to assign values to variables"
   ]
  },
  {
   "cell_type": "markdown",
   "metadata": {},
   "source": [
    "=,  +=,  -=,  *=,  /=,  %=,  //=,  **=, &=,  |=,  ^=,  >>=,  <<= are Assignment operators"
   ]
  },
  {
   "cell_type": "code",
   "execution_count": 14,
   "metadata": {},
   "outputs": [
    {
     "name": "stdout",
     "output_type": "stream",
     "text": [
      "20\n",
      "10\n",
      "100\n",
      "10.0\n",
      "0.0\n",
      "0.0\n",
      "0.0\n"
     ]
    }
   ],
   "source": [
    "a = 10\n",
    "\n",
    "a += 10         #add AND\n",
    "print(a)\n",
    "\n",
    "#subtract AND (-=)\n",
    "a -= 10\n",
    "print(a)\n",
    "\n",
    "#Multiply AND (*=)\n",
    "a *= 10\n",
    "print(a)\n",
    "\n",
    "#Divide AND (/=)\n",
    "a /= 10\n",
    "print(a)\n",
    "\n",
    "#Modulus AND (%=)\n",
    "a %= 10\n",
    "print(a)\n",
    "\n",
    "#Floor Division (//=)\n",
    "a //= 10\n",
    "print(a)\n",
    "\n",
    "#Exponent AND (**=)\n",
    "a **= 2\n",
    "print(a)\n"
   ]
  },
  {
   "cell_type": "markdown",
   "metadata": {},
   "source": [
    "### Special Operators"
   ]
  },
  {
   "cell_type": "markdown",
   "metadata": {},
   "source": [
    "### Identity Operators"
   ]
  },
  {
   "cell_type": "markdown",
   "metadata": {},
   "source": [
    "is and is not are identity operators in python\n",
    "\n",
    "They are used to check if two variables are located in same memory location"
   ]
  },
  {
   "cell_type": "code",
   "execution_count": 15,
   "metadata": {},
   "outputs": [
    {
     "name": "stdout",
     "output_type": "stream",
     "text": [
      "True\n"
     ]
    }
   ],
   "source": [
    "a = 5\n",
    "b = 5\n",
    "print (a is b)"
   ]
  },
  {
   "cell_type": "code",
   "execution_count": 16,
   "metadata": {},
   "outputs": [
    {
     "name": "stdout",
     "output_type": "stream",
     "text": [
      "False\n"
     ]
    }
   ],
   "source": [
    "l1 = [1, 2, 3]\n",
    "l2 = [1, 2, 3]\n",
    "print(l1 is l2)"
   ]
  },
  {
   "cell_type": "code",
   "execution_count": 17,
   "metadata": {},
   "outputs": [
    {
     "name": "stdout",
     "output_type": "stream",
     "text": [
      "False\n"
     ]
    }
   ],
   "source": [
    "s1 = \"Satish\"\n",
    "s2 = \"Satish\"\n",
    "print(s1 is not s2)"
   ]
  },
  {
   "cell_type": "markdown",
   "metadata": {},
   "source": [
    "### Membership Operators"
   ]
  },
  {
   "cell_type": "markdown",
   "metadata": {},
   "source": [
    "in and not in are membership operators in python\n",
    "\n",
    "They are used to check whether a value is present in the given sequence"
   ]
  },
  {
   "cell_type": "code",
   "execution_count": 18,
   "metadata": {},
   "outputs": [
    {
     "name": "stdout",
     "output_type": "stream",
     "text": [
      "True\n"
     ]
    }
   ],
   "source": [
    "lst =  [1,2,3,4]\n",
    "print(1 in lst)       #check 1 is present in a given list or not\n",
    "\n",
    "#check 5 is present in a given list"
   ]
  },
  {
   "cell_type": "code",
   "execution_count": null,
   "metadata": {},
   "outputs": [],
   "source": []
  }
 ],
 "metadata": {
  "kernelspec": {
   "display_name": "Python 3",
   "language": "python",
   "name": "python3"
  },
  "language_info": {
   "codemirror_mode": {
    "name": "ipython",
    "version": 3
   },
   "file_extension": ".py",
   "mimetype": "text/x-python",
   "name": "python",
   "nbconvert_exporter": "python",
   "pygments_lexer": "ipython3",
   "version": "3.7.1"
  }
 },
 "nbformat": 4,
 "nbformat_minor": 2
}
