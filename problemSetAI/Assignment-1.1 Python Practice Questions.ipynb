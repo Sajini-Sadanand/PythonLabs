{
 "cells": [
  {
   "cell_type": "markdown",
   "metadata": {},
   "source": [
    "# Practice Questions On Functions"
   ]
  },
  {
   "cell_type": "markdown",
   "metadata": {},
   "source": [
    "### 1. Write a function that inputs a number and prints the multiplication table of that number"
   ]
  },
  {
   "cell_type": "code",
   "execution_count": 1,
   "metadata": {},
   "outputs": [
    {
     "name": "stdout",
     "output_type": "stream",
     "text": [
      "Enter a number23\n",
      "23 x 1 = 23\n",
      "23 x 2 = 46\n",
      "23 x 3 = 69\n",
      "23 x 4 = 92\n",
      "23 x 5 = 115\n",
      "23 x 6 = 138\n",
      "23 x 7 = 161\n",
      "23 x 8 = 184\n",
      "23 x 9 = 207\n",
      "23 x 10 = 230\n"
     ]
    }
   ],
   "source": [
    "import sys\n",
    "\n",
    "# 1) With user input\n",
    "\n",
    "def multiplicationTable(num):\n",
    "    for i in range(1,11):\n",
    "        print(\"{} x {} = {}\".format(num,i,num*i))\n",
    "        \n",
    "# get a number from user input\n",
    "\n",
    "try:\n",
    "    num = int(input(\"Enter a number\"))\n",
    "    multiplicationTable(num)\n",
    "except ValueError:\n",
    "    print(sys.exc_info()[0])\n",
    "    print(\"Not an Integer number\") "
   ]
  },
  {
   "cell_type": "markdown",
   "metadata": {},
   "source": [
    "### 2. Write a program to print twin primes less than 1000. If two consecutive odd numbers are both prime then they are known as twin primes"
   ]
  },
  {
   "cell_type": "code",
   "execution_count": 2,
   "metadata": {},
   "outputs": [
    {
     "name": "stdout",
     "output_type": "stream",
     "text": [
      "CPU times: user 4 µs, sys: 1 µs, total: 5 µs\n",
      "Wall time: 11.2 µs\n",
      "3 5\n",
      "5 7\n",
      "11 13\n",
      "17 19\n",
      "29 31\n",
      "41 43\n",
      "59 61\n",
      "71 73\n",
      "101 103\n",
      "107 109\n",
      "137 139\n",
      "149 151\n",
      "179 181\n",
      "191 193\n",
      "197 199\n",
      "227 229\n",
      "239 241\n",
      "269 271\n",
      "281 283\n",
      "311 313\n",
      "347 349\n",
      "419 421\n",
      "431 433\n",
      "461 463\n",
      "521 523\n",
      "569 571\n",
      "599 601\n",
      "617 619\n",
      "641 643\n",
      "659 661\n",
      "809 811\n",
      "821 823\n",
      "827 829\n",
      "857 859\n",
      "881 883\n"
     ]
    }
   ],
   "source": [
    "import pdb\n",
    "import math\n",
    "\n",
    "def twinPrimeNumbers():\n",
    "    lst = [3]\n",
    "\n",
    "    for i in range(5,1000):\n",
    "        isPrime = True\n",
    "        for j in range(2,math.floor(math.sqrt(i))+1):\n",
    "            if(i%j == 0):\n",
    "                isPrime = False\n",
    "                break\n",
    "\n",
    "        if(isPrime):\n",
    "            lst.append(i)\n",
    "\n",
    "        if(len(lst) > 1):\n",
    "            if((lst[1] - lst[0]) == 2):\n",
    "                print(lst[0],lst[1])\n",
    "            lst[0] = lst[1]\n",
    "            lst.pop(1)\n",
    "\n",
    "%time\n",
    "twinPrimeNumbers()\n",
    "        "
   ]
  },
  {
   "cell_type": "markdown",
   "metadata": {},
   "source": [
    "### 3. Write a program to find out the prime factors of a number. Example: prime factors of 56 - 2, 2, 2, 7"
   ]
  },
  {
   "cell_type": "code",
   "execution_count": 4,
   "metadata": {},
   "outputs": [
    {
     "name": "stdout",
     "output_type": "stream",
     "text": [
      "[2, 2, 2, 7]\n"
     ]
    }
   ],
   "source": [
    "def primeFactorsOfNumber(num):\n",
    "    if(not num in [0,1]):\n",
    "        lst = []\n",
    "        i = 2\n",
    "        while(i <= num):\n",
    "            if(num%i == 0):\n",
    "                lst.append(i)\n",
    "                num = num/i\n",
    "                i = 2\n",
    "            else:\n",
    "                i += 1\n",
    "        print(lst)\n",
    "    else:\n",
    "        lst = [num]\n",
    "        print(lst)\n",
    "primeFactorsOfNumber(56)"
   ]
  },
  {
   "cell_type": "markdown",
   "metadata": {},
   "source": [
    "### Write a program to implement these formulae of permutations and combinations. Number of permutations of n objects taken r at a time: p(n, r) = n! / (n-r)!. Number of combinations of n objects taken r at a time is: c(n, r) = n! / (r!*(n-r)!) = p(n,r) / r!"
   ]
  },
  {
   "cell_type": "code",
   "execution_count": 5,
   "metadata": {},
   "outputs": [
    {
     "name": "stdout",
     "output_type": "stream",
     "text": [
      "4.0\n",
      "4.0\n",
      "c(4, 3) = 4! / (3!*(4-3)!) = p(4,3) / 3!\n"
     ]
    }
   ],
   "source": [
    "def factorial(n):\n",
    "    if(n in [0,1]):\n",
    "        return 1\n",
    "    else:\n",
    "        return n * factorial(n-1)\n",
    "    \n",
    "def p(n,r):\n",
    "    if(n >= r):\n",
    "        return factorial(n)/factorial(n-r)\n",
    "    else:\n",
    "        print(\"Not valid\")\n",
    "        \n",
    "def c(n,r):\n",
    "    if(n >= r):\n",
    "        return factorial(n)/(factorial(r)*factorial(n-r))\n",
    "    else:\n",
    "        print(\"Not valid\")\n",
    "\n",
    "        \n",
    "n = 4\n",
    "r = 3\n",
    "x = p(n,r)/factorial(r)\n",
    "y = c(n,r)\n",
    "\n",
    "print(y)\n",
    "print(x)\n",
    "\n",
    "if(x == y):\n",
    "    print(\"c({}, {}) = {}! / ({}!*({}-{})!) = p({},{}) / {}!\".format(n,r,n,r,n,r,n,r,r))\n",
    "\n"
   ]
  },
  {
   "cell_type": "markdown",
   "metadata": {},
   "source": [
    "### 5. Write a function that converts a decimal number to binary number"
   ]
  },
  {
   "cell_type": "code",
   "execution_count": 6,
   "metadata": {},
   "outputs": [
    {
     "name": "stdout",
     "output_type": "stream",
     "text": [
      "10.011\n"
     ]
    }
   ],
   "source": [
    "# Code for fractional numbers\n",
    "\n",
    "# get the integral part binary\n",
    "def getBinaryIntegral(num):\n",
    "    intPart = \"\"\n",
    "    dividend = num\n",
    "    \n",
    "    while(dividend >= 1):\n",
    "        # passing the remainder\n",
    "        intPart += str(dividend % 2)\n",
    "        \n",
    "        # passing the quotient as the new dividend\n",
    "        dividend = int(dividend / 2)\n",
    "    return intPart\n",
    "\n",
    "\n",
    "# Logic to get the decimal fraction binary value is to multiply the fractional part with 2 till the fractional part becomes 0\n",
    "\n",
    "# Here is an example of such conversion using the fraction 0.375.\n",
    "#  0.375 * 2 = 0 + 0.75\n",
    "#  0.75 * 2 = 1 + 0.5\n",
    "#  0.5 * 2 = 1 + 0\n",
    "\n",
    "def getBinaryFractional(num):\n",
    "    fractPart = \"\"\n",
    "    \n",
    "    fractNum = num\n",
    "    \n",
    "    while(fractNum-int(fractNum) > 0):\n",
    "        n = fractNum * 2\n",
    "        \n",
    "        fractPart += str(int(n))\n",
    "        fractNum = n - int(n)\n",
    "    \n",
    "    return fractPart\n",
    "    \n",
    "def binaryEquivalent(n):\n",
    "    iLst = \"\"\n",
    "    iNum = int(n)\n",
    "    \n",
    "    iLst = getBinaryIntegral(iNum)\n",
    "    iLst = iLst[::-1]+\".\"\n",
    "    \n",
    "    iFrac = getBinaryFractional(n-int(n))\n",
    "    iLst += iFrac\n",
    "    print(iLst)\n",
    "binaryEquivalent(2.375)"
   ]
  },
  {
   "cell_type": "markdown",
   "metadata": {},
   "source": [
    "### 6. Write a function cubesum() that accepts an integer and returns the sum of the cubes of individual digits of that number. Use this function to make functions PrintArmstrong() and isArmstrong() to print Armstrong numbers and to find whether is an Armstrong number."
   ]
  },
  {
   "cell_type": "code",
   "execution_count": 7,
   "metadata": {},
   "outputs": [
    {
     "ename": "ModuleNotFoundError",
     "evalue": "No module named 'numpy'",
     "output_type": "error",
     "traceback": [
      "\u001b[0;31m---------------------------------------------------------------------------\u001b[0m",
      "\u001b[0;31mModuleNotFoundError\u001b[0m                       Traceback (most recent call last)",
      "\u001b[0;32m<ipython-input-7-5f0759ddc4a5>\u001b[0m in \u001b[0;36m<module>\u001b[0;34m\u001b[0m\n\u001b[0;32m----> 1\u001b[0;31m \u001b[0;32mimport\u001b[0m \u001b[0mnumpy\u001b[0m \u001b[0;32mas\u001b[0m \u001b[0mnp\u001b[0m\u001b[0;34m\u001b[0m\u001b[0;34m\u001b[0m\u001b[0m\n\u001b[0m\u001b[1;32m      2\u001b[0m \u001b[0;32mfrom\u001b[0m \u001b[0mfunctools\u001b[0m \u001b[0;32mimport\u001b[0m \u001b[0mreduce\u001b[0m\u001b[0;34m\u001b[0m\u001b[0;34m\u001b[0m\u001b[0m\n\u001b[1;32m      3\u001b[0m \u001b[0;34m\u001b[0m\u001b[0m\n\u001b[1;32m      4\u001b[0m \u001b[0;32mdef\u001b[0m \u001b[0msumUp\u001b[0m\u001b[0;34m(\u001b[0m\u001b[0mn\u001b[0m\u001b[0;34m)\u001b[0m\u001b[0;34m:\u001b[0m\u001b[0;34m\u001b[0m\u001b[0;34m\u001b[0m\u001b[0m\n\u001b[1;32m      5\u001b[0m     \u001b[0msumVal\u001b[0m \u001b[0;34m=\u001b[0m \u001b[0;36m0\u001b[0m\u001b[0;34m\u001b[0m\u001b[0;34m\u001b[0m\u001b[0m\n",
      "\u001b[0;31mModuleNotFoundError\u001b[0m: No module named 'numpy'"
     ]
    }
   ],
   "source": [
    "import numpy as np\n",
    "from functools import reduce \n",
    "\n",
    "def sumUp(n):\n",
    "    sumVal = 0\n",
    "    for i in lst:\n",
    "        sumVal += i ** n\n",
    "    return sumVal\n",
    "\n",
    "def cubesum(num):\n",
    "    lst = []\n",
    "    checkNum = num\n",
    "    while(checkNum > 0):\n",
    "        lst.append(checkNum % 10)\n",
    "        checkNum = int(checkNum / 10)\n",
    "    \n",
    "    n = len(lst)\n",
    "#     print(lst)\n",
    "#     nLst = np.array(lst)\n",
    "    \n",
    "    y = list(map(lambda a,n:a**n,lst))\n",
    "    print(\"Y: \",y)\n",
    "    return y\n",
    "\n",
    "def isArmStrong(num):\n",
    "    if(num == cubesum(num)):\n",
    "        print(num,cubesum(num))\n",
    "        return True\n",
    "    return False\n",
    "    \n",
    "def PrintArmstrong(numLst):\n",
    "    for i in numLst:\n",
    "        if(isArmStrong(i)):\n",
    "            print(i)\n",
    "\n",
    "    \n",
    "PrintArmstrong(list(range(1,100)))"
   ]
  },
  {
   "cell_type": "code",
   "execution_count": null,
   "metadata": {},
   "outputs": [],
   "source": []
  }
 ],
 "metadata": {
  "kernelspec": {
   "display_name": "Python 3",
   "language": "python",
   "name": "python3"
  },
  "language_info": {
   "codemirror_mode": {
    "name": "ipython",
    "version": 3
   },
   "file_extension": ".py",
   "mimetype": "text/x-python",
   "name": "python",
   "nbconvert_exporter": "python",
   "pygments_lexer": "ipython3",
   "version": "3.6.7"
  }
 },
 "nbformat": 4,
 "nbformat_minor": 2
}
