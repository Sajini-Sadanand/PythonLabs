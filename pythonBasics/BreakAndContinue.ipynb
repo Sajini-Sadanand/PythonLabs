{
 "cells": [
  {
   "cell_type": "code",
   "execution_count": 1,
   "metadata": {},
   "outputs": [
    {
     "name": "stdout",
     "output_type": "stream",
     "text": [
      "1\n",
      "2\n",
      "3\n",
      "4\n",
      "5\n",
      "6\n",
      "Outside of the for loop\n"
     ]
    }
   ],
   "source": [
    "# Example of break statement\n",
    "\n",
    "lst = [1,2,3,4,5,6,7,8]\n",
    "\n",
    "for i in lst:\n",
    "    if(i == 7):\n",
    "        break\n",
    "    print(i)\n",
    "else:\n",
    "    print(\"Number 7 is not present in the list\")\n",
    "\n",
    "print(\"Outside of the for loop\")"
   ]
  },
  {
   "cell_type": "code",
   "execution_count": 4,
   "metadata": {},
   "outputs": [
    {
     "name": "stdout",
     "output_type": "stream",
     "text": [
      "23\n",
      "29\n",
      "31\n",
      "37\n",
      "41\n",
      "43\n",
      "47\n",
      "All prime number prited in the range of 20 to 30\n"
     ]
    }
   ],
   "source": [
    "# print prime number\n",
    "# break example\n",
    "\n",
    "for i in range(20,51):\n",
    "    for j in range(2,i):\n",
    "        if(i % j == 0):\n",
    "            break\n",
    "    else:\n",
    "        print(i)\n",
    "else:\n",
    "    print(\"All prime number prited in the range of 20 to 50\")"
   ]
  },
  {
   "cell_type": "code",
   "execution_count": 10,
   "metadata": {},
   "outputs": [
    {
     "name": "stdout",
     "output_type": "stream",
     "text": [
      "1\n",
      "3\n",
      "5\n",
      "7\n",
      "9\n"
     ]
    }
   ],
   "source": [
    "# print only odd numbers\n",
    "\n",
    "for i in range(1,11):\n",
    "    if(i % 2 == 0):\n",
    "        continue\n",
    "    else:\n",
    "        print(i)"
   ]
  },
  {
   "cell_type": "code",
   "execution_count": null,
   "metadata": {},
   "outputs": [],
   "source": []
  }
 ],
 "metadata": {
  "kernelspec": {
   "display_name": "Python 3",
   "language": "python",
   "name": "python3"
  },
  "language_info": {
   "codemirror_mode": {
    "name": "ipython",
    "version": 3
   },
   "file_extension": ".py",
   "mimetype": "text/x-python",
   "name": "python",
   "nbconvert_exporter": "python",
   "pygments_lexer": "ipython3",
   "version": "3.7.1"
  }
 },
 "nbformat": 4,
 "nbformat_minor": 2
}
