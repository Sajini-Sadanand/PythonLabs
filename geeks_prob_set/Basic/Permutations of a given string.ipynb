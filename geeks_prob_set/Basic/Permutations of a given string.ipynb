{
 "cells": [
  {
   "cell_type": "markdown",
   "metadata": {},
   "source": [
    "### Permutations of a given string"
   ]
  },
  {
   "cell_type": "markdown",
   "metadata": {},
   "source": [
    "    Given a string S. The task is to print all permutations of a given string.\n",
    "\n",
    "    Input:\n",
    "    The first line of input contains an integer T, denoting the number of test cases. Each test case contains a single string S in capital letter.\n",
    "\n",
    "    Output:\n",
    "    For each test case, print all permutations of a given string S with single space and all permutations should be in lexicographically increasing order.\n",
    "\n",
    "    Constraints:\n",
    "    1 ≤ T ≤ 10\n",
    "    1 ≤ size of string ≤ 5\n",
    "\n",
    "    Example:\n",
    "    Input:\n",
    "    2\n",
    "    ABC\n",
    "    ABSG\n",
    "\n",
    "    Output:\n",
    "    ABC ACB BAC BCA CAB CBA \n",
    "    ABGS ABSG AGBS AGSB ASBG ASGB BAGS BASG BGAS BGSA BSAG BSGA GABS GASB GBAS GBSA GSAB GSBA SABG SAGB SBAG SBGA SGAB SGBA\n",
    "\n",
    "    Explanation:\n",
    "    Testcase 1: Given string ABC has permutations in 6 forms as ABC, ACB, BAC, BCA, CAB and CBA ."
   ]
  },
  {
   "cell_type": "code",
   "execution_count": 12,
   "metadata": {},
   "outputs": [
    {
     "name": "stdout",
     "output_type": "stream",
     "text": [
      "1\n",
      "ABC\n",
      "0 2 0\n",
      "1 2 1\n",
      "ABC\n",
      "1 2 2\n",
      "ACB\n",
      "0 2 1\n",
      "1 2 1\n",
      "BAC\n",
      "1 2 2\n",
      "BCA\n",
      "0 2 2\n",
      "1 2 1\n",
      "CBA\n",
      "1 2 2\n",
      "CAB\n"
     ]
    }
   ],
   "source": [
    "def permutate(a,ind,last_ind):\n",
    "    if(ind == last_ind):\n",
    "        print(\"\".join(a))\n",
    "    else:\n",
    "        for i in range(ind,last_ind + 1):\n",
    "            print(ind,last_ind,i)\n",
    "            a[i],a[ind] = a[ind],a[i]\n",
    "            permutate(a,ind+1,last_ind)\n",
    "            a[i],a[ind] = a[ind],a[i]\n",
    "    \n",
    "for i in range(int(input())):\n",
    "    s = input()  \n",
    "    permutate(list(s),0,len(s)-1)"
   ]
  },
  {
   "cell_type": "code",
   "execution_count": null,
   "metadata": {},
   "outputs": [],
   "source": []
  }
 ],
 "metadata": {
  "kernelspec": {
   "display_name": "Python 3",
   "language": "python",
   "name": "python3"
  },
  "language_info": {
   "codemirror_mode": {
    "name": "ipython",
    "version": 3
   },
   "file_extension": ".py",
   "mimetype": "text/x-python",
   "name": "python",
   "nbconvert_exporter": "python",
   "pygments_lexer": "ipython3",
   "version": "3.7.2"
  }
 },
 "nbformat": 4,
 "nbformat_minor": 2
}
