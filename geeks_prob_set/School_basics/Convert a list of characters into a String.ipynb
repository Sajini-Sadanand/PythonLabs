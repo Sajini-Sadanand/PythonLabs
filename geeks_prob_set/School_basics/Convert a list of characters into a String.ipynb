{
 "cells": [
  {
   "cell_type": "markdown",
   "metadata": {},
   "source": [
    "# Convert a list of characters into a String"
   ]
  },
  {
   "cell_type": "markdown",
   "metadata": {},
   "source": [
    "    Given a list of characters, merge all of them into a string.\n",
    "    \n",
    "    Input:\n",
    "    First line of the input contains an integer T, denoting the number of testcases. Then T test case follows. Each testcase contains two lines:-\n",
    "    The number of characters in the array N.\n",
    "    The array of characters separated by space\n",
    "    \n",
    "    Output:\n",
    "    For each testcase, print the character array converted into a string.\n",
    "\n",
    "    Constraints:\n",
    "    1<=T<=100\n",
    "    10<=N<=100\n",
    "    \n",
    "    Example:\n",
    "\n",
    "    Input:\n",
    "    2\n",
    "    13\n",
    "    g e e k s f o r g e e k s\n",
    "    11\n",
    "    p r o g r a m m i n g\n",
    "\n",
    "    Output:\n",
    "    geeksforgeeks\n",
    "    programming"
   ]
  },
  {
   "cell_type": "code",
   "execution_count": 1,
   "metadata": {},
   "outputs": [
    {
     "name": "stdout",
     "output_type": "stream",
     "text": [
      "1\n",
      "12\n",
      "a s d f g g h a d f g h\n",
      "asdfgghadfgh\n"
     ]
    }
   ],
   "source": [
    "for i in range(int(input())):\n",
    "    n = int(input())\n",
    "    s = input()\n",
    "    new_s = \"\"\n",
    "    for i in range(0,n*2,2):\n",
    "        new_s += s[i]\n",
    "    print(new_s)"
   ]
  },
  {
   "cell_type": "code",
   "execution_count": null,
   "metadata": {},
   "outputs": [],
   "source": []
  }
 ],
 "metadata": {
  "kernelspec": {
   "display_name": "Python 3",
   "language": "python",
   "name": "python3"
  },
  "language_info": {
   "codemirror_mode": {
    "name": "ipython",
    "version": 3
   },
   "file_extension": ".py",
   "mimetype": "text/x-python",
   "name": "python",
   "nbconvert_exporter": "python",
   "pygments_lexer": "ipython3",
   "version": "3.6.7"
  }
 },
 "nbformat": 4,
 "nbformat_minor": 2
}
