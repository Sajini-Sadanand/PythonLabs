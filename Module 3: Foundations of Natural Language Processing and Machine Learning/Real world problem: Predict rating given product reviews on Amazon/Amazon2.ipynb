{
 "cells": [
  {
   "cell_type": "markdown",
   "metadata": {},
   "source": [
    "### Amazon Fine Food Reviews Analysis\n",
    "\n",
    "\n",
    "    Data Source: https://www.kaggle.com/snap/amazon-fine-food-reviews\n",
    "\n",
    "    EDA: https://nycdatascience.com/blog/student-works/amazon-fine-foods-visualization/\n",
    "\n",
    "\n",
    "    The Amazon Fine Food Reviews dataset consists of reviews of fine foods from Amazon.\n",
    "\n",
    "    Number of reviews: 568,454\n",
    "    Number of users: 256,059\n",
    "    Number of products: 74,258\n",
    "    Timespan: Oct 1999 - Oct 2012\n",
    "    Number of Attributes/Columns in data: 10 \n",
    "\n",
    "    Attribute Information:\n",
    "\n",
    "    1. Id\n",
    "    2. ProductId - unique identifier for the product\n",
    "    3. UserId - unqiue identifier for the user\n",
    "    4. ProfileName\n",
    "    5. HelpfulnessNumerator - number of users who found the review helpful\n",
    "    6. HelpfulnessDenominator - number of users who indicated whether they found the review helpful or not\n",
    "    7. Score - rating between 1 and 5\n",
    "    8. Time - timestamp for the review\n",
    "    9. Summary - brief summary of the review\n",
    "    10. Text - text of the review\n",
    "\n",
    "\n",
    "    #### Objective:\n",
    "    Given a review, determine whether the review is positive (Rating of 4 or 5) or negative (rating of 1 or 2).\n",
    "\n",
    "    \n",
    "    [Q] How to determine if a review is positive or negative?\n",
    "    [Ans] We could use the Score/Rating. A rating of 4 or 5 could be cosnidered a positive review. A review of 1 or 2 could be considered negative. A review of 3 is nuetral and ignored. This is an approximate and proxy way of determining the polarity (positivity/negativity) of a review.\n"
   ]
  },
  {
   "cell_type": "markdown",
   "metadata": {},
   "source": [
    "## Loading the data\n",
    "\n",
    "The dataset is available in two forms\n",
    "1. .csv file\n",
    "2. SQLite Database\n",
    "\n",
    "In order to load the data, We have used the SQLITE dataset as it easier to query the data and visualise the data efficiently.\n",
    "<br> \n",
    "\n",
    "Here as we only want to get the global sentiment of the recommendations (positive or negative), we will purposefully ignore all Scores equal to 3. If the score id above 3, then the recommendation wil be set to \"positive\". Otherwise, it will be set to \"negative\"."
   ]
  },
  {
   "cell_type": "code",
   "execution_count": 29,
   "metadata": {},
   "outputs": [],
   "source": [
    "# imports needed\n",
    "\n",
    "import warnings\n",
    "warnings.filterwarnings(\"ignore\")\n",
    "\n",
    "import sqlite3\n",
    "import pandas as pd\n",
    "import numpy as np\n",
    "import nltk\n",
    "import string\n",
    "import matplotlib.pyplot as plt\n",
    "import seaborn as sns\n",
    "\n",
    "from sklearn.feature_extraction.text import TfidfTransformer\n",
    "from sklearn.feature_extraction.text import TfidfVectorizer\n",
    "from sklearn.feature_extraction.text import CountVectorizer\n",
    "\n",
    "from sklearn.metrics import confusion_matrix\n",
    "from sklearn import metrics\n",
    "from sklearn.metrics import roc_curve, auc\n",
    "\n",
    "import re\n",
    "\n",
    "import string\n",
    "from nltk.corpus import stopwords\n",
    "from nltk.stem.porter import PorterStemmer\n",
    "from nltk.stem.wordnet import WordNetLemmatizer\n",
    "\n",
    "from gensim.models import Word2Vec\n",
    "from gensim.models import KeyedVectors\n",
    "import pickle\n",
    "\n",
    "from tqdm import tqdm\n",
    "import os\n"
   ]
  },
  {
   "cell_type": "markdown",
   "metadata": {},
   "source": [
    "### Reading Data"
   ]
  },
  {
   "cell_type": "code",
   "execution_count": 30,
   "metadata": {},
   "outputs": [
    {
     "name": "stdout",
     "output_type": "stream",
     "text": [
      "      name\n",
      "0  Reviews\n",
      "Shape (50000, 10)\n",
      "   Id   ProductId          UserId                      ProfileName  \\\n",
      "0   1  B001E4KFG0  A3SGXH7AUHU8GW                       delmartian   \n",
      "1   2  B00813GRG4  A1D87F6ZCVE5NK                           dll pa   \n",
      "2   3  B000LQOCH0   ABXLMWJIXXAIN  Natalia Corres \"Natalia Corres\"   \n",
      "\n",
      "   HelpfulnessNumerator  HelpfulnessDenominator  Score        Time  \\\n",
      "0                     1                       1      1  1303862400   \n",
      "1                     0                       0      0  1346976000   \n",
      "2                     1                       1      1  1219017600   \n",
      "\n",
      "                 Summary                                               Text  \n",
      "0  Good Quality Dog Food  I have bought several of the Vitality canned d...  \n",
      "1      Not as Advertised  Product arrived labeled as Jumbo Salted Peanut...  \n",
      "2  \"Delight\" says it all  This is a confection that has been around a fe...  \n"
     ]
    }
   ],
   "source": [
    "# using the SQLite Table to read data.\n",
    "\n",
    "con = sqlite3.connect('database2.sqlite')\n",
    "# filtering only positve and negative reviews i.e.\n",
    "# not taking into consideration those review with score = 3\n",
    "# SELECT * FROM Reviews WHERE Score != 3 LIMIT 500000, will give top 500000 data points\n",
    "# you can change the number to any other number based on your computing power\n",
    "\n",
    "# filtered_data = pd.read_sql_query(\"\"\" SELECT * FROM Reviews WHERE Score != 3 LIMIT 500000\"\"\", con) \n",
    "# for tsne assignment you can take 5k data points\n",
    "tables = pd.read_sql_query(\"SELECT name FROM sqlite_master WHERE type='table'\",con)\n",
    "print(tables)\n",
    "filtered_data = pd.read_sql_query(\"Select * from Reviews Where Score != 3 LiMIT 50000\",con)\n",
    "\n",
    "# Give reviews with Score > 3 a positive rating and reviews with a score < 3 a negative rating.\n",
    "\n",
    "def partition(x):\n",
    "    if x < 3:\n",
    "        return 0\n",
    "    return 1\n",
    "\n",
    "# changing review with score less than 3 to be positive and vice-versa\n",
    "actualScore = filtered_data['Score']\n",
    "positiveNegative = actualScore.map(partition)\n",
    "filtered_data['Score'] = positiveNegative\n",
    "print(\"Shape\",filtered_data.shape)\n",
    "print(filtered_data.head(3))"
   ]
  },
  {
   "cell_type": "code",
   "execution_count": 31,
   "metadata": {},
   "outputs": [],
   "source": [
    "display = pd.read_sql_query(\"\"\"\n",
    "SELECT UserId, ProductId, ProfileName, Time, Score, Text, COUNT(*) \n",
    "FROM Reviews \n",
    "GROUP BY UserId \n",
    "HAVING COUNT(*) > 1\n",
    "\"\"\",con)"
   ]
  },
  {
   "cell_type": "code",
   "execution_count": 32,
   "metadata": {},
   "outputs": [
    {
     "name": "stdout",
     "output_type": "stream",
     "text": [
      "(80668, 7)\n"
     ]
    },
    {
     "data": {
      "text/html": [
       "<div>\n",
       "<style scoped>\n",
       "    .dataframe tbody tr th:only-of-type {\n",
       "        vertical-align: middle;\n",
       "    }\n",
       "\n",
       "    .dataframe tbody tr th {\n",
       "        vertical-align: top;\n",
       "    }\n",
       "\n",
       "    .dataframe thead th {\n",
       "        text-align: right;\n",
       "    }\n",
       "</style>\n",
       "<table border=\"1\" class=\"dataframe\">\n",
       "  <thead>\n",
       "    <tr style=\"text-align: right;\">\n",
       "      <th></th>\n",
       "      <th>UserId</th>\n",
       "      <th>ProductId</th>\n",
       "      <th>ProfileName</th>\n",
       "      <th>Time</th>\n",
       "      <th>Score</th>\n",
       "      <th>Text</th>\n",
       "      <th>COUNT(*)</th>\n",
       "    </tr>\n",
       "  </thead>\n",
       "  <tbody>\n",
       "    <tr>\n",
       "      <th>0</th>\n",
       "      <td>#oc-R115TNMSPFT9I7</td>\n",
       "      <td>B005ZBZLT4</td>\n",
       "      <td>Breyton</td>\n",
       "      <td>1331510400</td>\n",
       "      <td>2</td>\n",
       "      <td>Overall its just OK when considering the price...</td>\n",
       "      <td>2</td>\n",
       "    </tr>\n",
       "    <tr>\n",
       "      <th>1</th>\n",
       "      <td>#oc-R11D9D7SHXIJB9</td>\n",
       "      <td>B005HG9ESG</td>\n",
       "      <td>Louis E. Emory \"hoppy\"</td>\n",
       "      <td>1342396800</td>\n",
       "      <td>5</td>\n",
       "      <td>My wife has recurring extreme muscle spasms, u...</td>\n",
       "      <td>3</td>\n",
       "    </tr>\n",
       "    <tr>\n",
       "      <th>2</th>\n",
       "      <td>#oc-R11DNU2NBKQ23Z</td>\n",
       "      <td>B005ZBZLT4</td>\n",
       "      <td>Kim Cieszykowski</td>\n",
       "      <td>1348531200</td>\n",
       "      <td>1</td>\n",
       "      <td>This coffee is horrible and unfortunately not ...</td>\n",
       "      <td>2</td>\n",
       "    </tr>\n",
       "    <tr>\n",
       "      <th>3</th>\n",
       "      <td>#oc-R11O5J5ZVQE25C</td>\n",
       "      <td>B005HG9ESG</td>\n",
       "      <td>Penguin Chick</td>\n",
       "      <td>1346889600</td>\n",
       "      <td>5</td>\n",
       "      <td>This will be the bottle that you grab from the...</td>\n",
       "      <td>3</td>\n",
       "    </tr>\n",
       "    <tr>\n",
       "      <th>4</th>\n",
       "      <td>#oc-R12KPBODL2B5ZD</td>\n",
       "      <td>B007OSBEV0</td>\n",
       "      <td>Christopher P. Presta</td>\n",
       "      <td>1348617600</td>\n",
       "      <td>1</td>\n",
       "      <td>I didnt like this coffee. Instead of telling y...</td>\n",
       "      <td>2</td>\n",
       "    </tr>\n",
       "  </tbody>\n",
       "</table>\n",
       "</div>"
      ],
      "text/plain": [
       "               UserId   ProductId             ProfileName        Time  Score  \\\n",
       "0  #oc-R115TNMSPFT9I7  B005ZBZLT4                 Breyton  1331510400      2   \n",
       "1  #oc-R11D9D7SHXIJB9  B005HG9ESG  Louis E. Emory \"hoppy\"  1342396800      5   \n",
       "2  #oc-R11DNU2NBKQ23Z  B005ZBZLT4        Kim Cieszykowski  1348531200      1   \n",
       "3  #oc-R11O5J5ZVQE25C  B005HG9ESG           Penguin Chick  1346889600      5   \n",
       "4  #oc-R12KPBODL2B5ZD  B007OSBEV0   Christopher P. Presta  1348617600      1   \n",
       "\n",
       "                                                Text  COUNT(*)  \n",
       "0  Overall its just OK when considering the price...         2  \n",
       "1  My wife has recurring extreme muscle spasms, u...         3  \n",
       "2  This coffee is horrible and unfortunately not ...         2  \n",
       "3  This will be the bottle that you grab from the...         3  \n",
       "4  I didnt like this coffee. Instead of telling y...         2  "
      ]
     },
     "execution_count": 32,
     "metadata": {},
     "output_type": "execute_result"
    }
   ],
   "source": [
    "print(display.shape)\n",
    "display.head()"
   ]
  },
  {
   "cell_type": "code",
   "execution_count": 33,
   "metadata": {},
   "outputs": [
    {
     "data": {
      "text/html": [
       "<div>\n",
       "<style scoped>\n",
       "    .dataframe tbody tr th:only-of-type {\n",
       "        vertical-align: middle;\n",
       "    }\n",
       "\n",
       "    .dataframe tbody tr th {\n",
       "        vertical-align: top;\n",
       "    }\n",
       "\n",
       "    .dataframe thead th {\n",
       "        text-align: right;\n",
       "    }\n",
       "</style>\n",
       "<table border=\"1\" class=\"dataframe\">\n",
       "  <thead>\n",
       "    <tr style=\"text-align: right;\">\n",
       "      <th></th>\n",
       "      <th>UserId</th>\n",
       "      <th>ProductId</th>\n",
       "      <th>ProfileName</th>\n",
       "      <th>Time</th>\n",
       "      <th>Score</th>\n",
       "      <th>Text</th>\n",
       "      <th>COUNT(*)</th>\n",
       "    </tr>\n",
       "  </thead>\n",
       "  <tbody>\n",
       "    <tr>\n",
       "      <th>80638</th>\n",
       "      <td>AZY10LLTJ71NX</td>\n",
       "      <td>B001ATMQK2</td>\n",
       "      <td>undertheshrine \"undertheshrine\"</td>\n",
       "      <td>1296691200</td>\n",
       "      <td>5</td>\n",
       "      <td>I bought this 6 pack because for the price tha...</td>\n",
       "      <td>5</td>\n",
       "    </tr>\n",
       "  </tbody>\n",
       "</table>\n",
       "</div>"
      ],
      "text/plain": [
       "              UserId   ProductId                      ProfileName        Time  \\\n",
       "80638  AZY10LLTJ71NX  B001ATMQK2  undertheshrine \"undertheshrine\"  1296691200   \n",
       "\n",
       "       Score                                               Text  COUNT(*)  \n",
       "80638      5  I bought this 6 pack because for the price tha...         5  "
      ]
     },
     "execution_count": 33,
     "metadata": {},
     "output_type": "execute_result"
    }
   ],
   "source": [
    "display[display['UserId'] == \"AZY10LLTJ71NX\"]"
   ]
  },
  {
   "cell_type": "code",
   "execution_count": 34,
   "metadata": {},
   "outputs": [
    {
     "data": {
      "text/plain": [
       "393063"
      ]
     },
     "execution_count": 34,
     "metadata": {},
     "output_type": "execute_result"
    }
   ],
   "source": [
    "display['COUNT(*)'].sum()"
   ]
  },
  {
   "cell_type": "markdown",
   "metadata": {},
   "source": [
    "### Exploratory Data Analysis\n",
    "### [2] Data Cleaning: Deduplication\n",
    "\n",
    "It is observed(as shown in the table below) that the reviews data had many duplicate entries. Hence it was necessary to remove duplicates in order to get unbaised results for the analysis of the data. Following is an example:"
   ]
  },
  {
   "cell_type": "code",
   "execution_count": 35,
   "metadata": {},
   "outputs": [
    {
     "data": {
      "text/html": [
       "<div>\n",
       "<style scoped>\n",
       "    .dataframe tbody tr th:only-of-type {\n",
       "        vertical-align: middle;\n",
       "    }\n",
       "\n",
       "    .dataframe tbody tr th {\n",
       "        vertical-align: top;\n",
       "    }\n",
       "\n",
       "    .dataframe thead th {\n",
       "        text-align: right;\n",
       "    }\n",
       "</style>\n",
       "<table border=\"1\" class=\"dataframe\">\n",
       "  <thead>\n",
       "    <tr style=\"text-align: right;\">\n",
       "      <th></th>\n",
       "      <th>Id</th>\n",
       "      <th>ProductId</th>\n",
       "      <th>UserId</th>\n",
       "      <th>ProfileName</th>\n",
       "      <th>HelpfulnessNumerator</th>\n",
       "      <th>HelpfulnessDenominator</th>\n",
       "      <th>Score</th>\n",
       "      <th>Time</th>\n",
       "      <th>Summary</th>\n",
       "      <th>Text</th>\n",
       "    </tr>\n",
       "  </thead>\n",
       "  <tbody>\n",
       "    <tr>\n",
       "      <th>0</th>\n",
       "      <td>333057</td>\n",
       "      <td>B000MYW2ZA</td>\n",
       "      <td>AZY10LLTJ71NX</td>\n",
       "      <td>undertheshrine \"undertheshrine\"</td>\n",
       "      <td>0</td>\n",
       "      <td>0</td>\n",
       "      <td>5</td>\n",
       "      <td>1334707200</td>\n",
       "      <td>works for me.  lost 10-15 pounds my first month</td>\n",
       "      <td>I was recommended to try green tea extract to ...</td>\n",
       "    </tr>\n",
       "    <tr>\n",
       "      <th>1</th>\n",
       "      <td>35174</td>\n",
       "      <td>B001ATMQK2</td>\n",
       "      <td>AZY10LLTJ71NX</td>\n",
       "      <td>undertheshrine \"undertheshrine\"</td>\n",
       "      <td>1</td>\n",
       "      <td>1</td>\n",
       "      <td>5</td>\n",
       "      <td>1296691200</td>\n",
       "      <td>Have you seen how much Ranch 99 is trying to c...</td>\n",
       "      <td>I bought this 6 pack because for the price tha...</td>\n",
       "    </tr>\n",
       "    <tr>\n",
       "      <th>2</th>\n",
       "      <td>332195</td>\n",
       "      <td>B001P7AXXG</td>\n",
       "      <td>AZY10LLTJ71NX</td>\n",
       "      <td>undertheshrine \"undertheshrine\"</td>\n",
       "      <td>1</td>\n",
       "      <td>1</td>\n",
       "      <td>5</td>\n",
       "      <td>1303776000</td>\n",
       "      <td>BEST MICROWAVE POPCORN EVER!!!!</td>\n",
       "      <td>This popcorn is probably the best microwave po...</td>\n",
       "    </tr>\n",
       "    <tr>\n",
       "      <th>3</th>\n",
       "      <td>340773</td>\n",
       "      <td>B0043CVIBG</td>\n",
       "      <td>AZY10LLTJ71NX</td>\n",
       "      <td>undertheshrine \"undertheshrine\"</td>\n",
       "      <td>4</td>\n",
       "      <td>4</td>\n",
       "      <td>5</td>\n",
       "      <td>1303776000</td>\n",
       "      <td>girl scout thin mint in disguise</td>\n",
       "      <td>if you love thin mint cookies that the girl sc...</td>\n",
       "    </tr>\n",
       "    <tr>\n",
       "      <th>4</th>\n",
       "      <td>404703</td>\n",
       "      <td>B006P7E5ZI</td>\n",
       "      <td>AZY10LLTJ71NX</td>\n",
       "      <td>undertheshrine \"undertheshrine\"</td>\n",
       "      <td>0</td>\n",
       "      <td>0</td>\n",
       "      <td>5</td>\n",
       "      <td>1334707200</td>\n",
       "      <td>works for me.  lost 10-15 pounds my first month</td>\n",
       "      <td>I was recommended to try green tea extract to ...</td>\n",
       "    </tr>\n",
       "  </tbody>\n",
       "</table>\n",
       "</div>"
      ],
      "text/plain": [
       "       Id   ProductId         UserId                      ProfileName  \\\n",
       "0  333057  B000MYW2ZA  AZY10LLTJ71NX  undertheshrine \"undertheshrine\"   \n",
       "1   35174  B001ATMQK2  AZY10LLTJ71NX  undertheshrine \"undertheshrine\"   \n",
       "2  332195  B001P7AXXG  AZY10LLTJ71NX  undertheshrine \"undertheshrine\"   \n",
       "3  340773  B0043CVIBG  AZY10LLTJ71NX  undertheshrine \"undertheshrine\"   \n",
       "4  404703  B006P7E5ZI  AZY10LLTJ71NX  undertheshrine \"undertheshrine\"   \n",
       "\n",
       "   HelpfulnessNumerator  HelpfulnessDenominator  Score        Time  \\\n",
       "0                     0                       0      5  1334707200   \n",
       "1                     1                       1      5  1296691200   \n",
       "2                     1                       1      5  1303776000   \n",
       "3                     4                       4      5  1303776000   \n",
       "4                     0                       0      5  1334707200   \n",
       "\n",
       "                                             Summary  \\\n",
       "0    works for me.  lost 10-15 pounds my first month   \n",
       "1  Have you seen how much Ranch 99 is trying to c...   \n",
       "2                    BEST MICROWAVE POPCORN EVER!!!!   \n",
       "3                   girl scout thin mint in disguise   \n",
       "4    works for me.  lost 10-15 pounds my first month   \n",
       "\n",
       "                                                Text  \n",
       "0  I was recommended to try green tea extract to ...  \n",
       "1  I bought this 6 pack because for the price tha...  \n",
       "2  This popcorn is probably the best microwave po...  \n",
       "3  if you love thin mint cookies that the girl sc...  \n",
       "4  I was recommended to try green tea extract to ...  "
      ]
     },
     "execution_count": 35,
     "metadata": {},
     "output_type": "execute_result"
    }
   ],
   "source": [
    "display = pd.read_sql_query(\"\"\"\n",
    "SELECT * from Reviews \n",
    "WHERE Score != 3 AND UserId = 'AZY10LLTJ71NX' \n",
    "ORDER BY ProductID\n",
    "\"\"\",con)\n",
    "\n",
    "display.head(10)"
   ]
  },
  {
   "cell_type": "markdown",
   "metadata": {},
   "source": [
    "As can be seen above the same user has multiple reviews of the with the same values for HelpfulnessNumerator, HelpfulnessDenominator, Score, Time, Summary and Text and on doing analysis it was found that \n",
    "\n",
    "\n",
    "ProductId=B000HDOPZG was Loacker Quadratini Vanilla Wafer Cookies, 8.82-Ounce Packages (Pack of 8)\n",
    "\n",
    "\n",
    "ProductId=B000HDL1RQ was Loacker Quadratini Lemon Wafer Cookies, 8.82-Ounce Packages (Pack of 8) and so on\n",
    "\n",
    "\n",
    "It was inferred after analysis that reviews with same parameters other than ProductId belonged to the same product just having different flavour or quantity. Hence in order to reduce redundancy it was decided to eliminate the rows having same parameters.\n",
    "The method used for the same was that we first sort the data according to ProductId and then just keep the first similar product review and delelte the others. for eg. in the above just the review for ProductId=B000HDL1RQ remains. This method ensures that there is only one representative for each product and deduplication without sorting would lead to possibility of different representatives still existing for the same product."
   ]
  },
  {
   "cell_type": "code",
   "execution_count": 36,
   "metadata": {},
   "outputs": [],
   "source": [
    "# Sorting data according to productId in ascending order\n",
    "sorted_data = filtered_data.sort_values('ProductId',axis = 0, ascending = True, inplace = False, kind = 'quicksort',na_position='last')"
   ]
  },
  {
   "cell_type": "code",
   "execution_count": 37,
   "metadata": {},
   "outputs": [
    {
     "data": {
      "text/plain": [
       "(46072, 10)"
      ]
     },
     "execution_count": 37,
     "metadata": {},
     "output_type": "execute_result"
    }
   ],
   "source": [
    "# Deduplication Of entries\n",
    "final=sorted_data.drop_duplicates(subset={\"UserId\",\"ProfileName\",\"Time\",\"Text\"}, keep='first', inplace=False)\n",
    "final.shape"
   ]
  },
  {
   "cell_type": "code",
   "execution_count": 38,
   "metadata": {},
   "outputs": [
    {
     "data": {
      "text/plain": [
       "92.144"
      ]
     },
     "execution_count": 38,
     "metadata": {},
     "output_type": "execute_result"
    }
   ],
   "source": [
    "#Checking to see how much % of data still remains\n",
    "(final['Id'].size * 1.0)/(filtered_data['Id'].size * 1.0) * 100"
   ]
  },
  {
   "cell_type": "markdown",
   "metadata": {},
   "source": [
    "Observation:- It was also seen that in two rows given below the value of HelpfulnessNumerator is greater than HelpfulnessDenominator which is not practically possible hence these two rows too are removed from calcualtions"
   ]
  },
  {
   "cell_type": "code",
   "execution_count": 39,
   "metadata": {},
   "outputs": [
    {
     "data": {
      "text/html": [
       "<div>\n",
       "<style scoped>\n",
       "    .dataframe tbody tr th:only-of-type {\n",
       "        vertical-align: middle;\n",
       "    }\n",
       "\n",
       "    .dataframe tbody tr th {\n",
       "        vertical-align: top;\n",
       "    }\n",
       "\n",
       "    .dataframe thead th {\n",
       "        text-align: right;\n",
       "    }\n",
       "</style>\n",
       "<table border=\"1\" class=\"dataframe\">\n",
       "  <thead>\n",
       "    <tr style=\"text-align: right;\">\n",
       "      <th></th>\n",
       "      <th>Id</th>\n",
       "      <th>ProductId</th>\n",
       "      <th>UserId</th>\n",
       "      <th>ProfileName</th>\n",
       "      <th>HelpfulnessNumerator</th>\n",
       "      <th>HelpfulnessDenominator</th>\n",
       "      <th>Score</th>\n",
       "      <th>Time</th>\n",
       "      <th>Summary</th>\n",
       "      <th>Text</th>\n",
       "    </tr>\n",
       "  </thead>\n",
       "  <tbody>\n",
       "    <tr>\n",
       "      <th>0</th>\n",
       "      <td>64422</td>\n",
       "      <td>B000MIDROQ</td>\n",
       "      <td>A161DK06JJMCYF</td>\n",
       "      <td>J. E. Stephens \"Jeanne\"</td>\n",
       "      <td>3</td>\n",
       "      <td>1</td>\n",
       "      <td>5</td>\n",
       "      <td>1224892800</td>\n",
       "      <td>Bought This for My Son at College</td>\n",
       "      <td>My son loves spaghetti so I didn't hesitate or...</td>\n",
       "    </tr>\n",
       "    <tr>\n",
       "      <th>1</th>\n",
       "      <td>44737</td>\n",
       "      <td>B001EQ55RW</td>\n",
       "      <td>A2V0I904FH7ABY</td>\n",
       "      <td>Ram</td>\n",
       "      <td>3</td>\n",
       "      <td>2</td>\n",
       "      <td>4</td>\n",
       "      <td>1212883200</td>\n",
       "      <td>Pure cocoa taste with crunchy almonds inside</td>\n",
       "      <td>It was almost a 'love at first bite' - the per...</td>\n",
       "    </tr>\n",
       "  </tbody>\n",
       "</table>\n",
       "</div>"
      ],
      "text/plain": [
       "      Id   ProductId          UserId              ProfileName  \\\n",
       "0  64422  B000MIDROQ  A161DK06JJMCYF  J. E. Stephens \"Jeanne\"   \n",
       "1  44737  B001EQ55RW  A2V0I904FH7ABY                      Ram   \n",
       "\n",
       "   HelpfulnessNumerator  HelpfulnessDenominator  Score        Time  \\\n",
       "0                     3                       1      5  1224892800   \n",
       "1                     3                       2      4  1212883200   \n",
       "\n",
       "                                        Summary  \\\n",
       "0             Bought This for My Son at College   \n",
       "1  Pure cocoa taste with crunchy almonds inside   \n",
       "\n",
       "                                                Text  \n",
       "0  My son loves spaghetti so I didn't hesitate or...  \n",
       "1  It was almost a 'love at first bite' - the per...  "
      ]
     },
     "execution_count": 39,
     "metadata": {},
     "output_type": "execute_result"
    }
   ],
   "source": [
    "display= pd.read_sql_query(\"\"\"\n",
    "SELECT *\n",
    "FROM Reviews\n",
    "WHERE Score != 3 AND Id=44737 OR Id=64422\n",
    "ORDER BY ProductID\n",
    "\"\"\", con)\n",
    "\n",
    "display.head()"
   ]
  },
  {
   "cell_type": "code",
   "execution_count": 40,
   "metadata": {},
   "outputs": [],
   "source": [
    "final = final[final.HelpfulnessNumerator <= final.HelpfulnessDenominator]"
   ]
  },
  {
   "cell_type": "code",
   "execution_count": 41,
   "metadata": {},
   "outputs": [
    {
     "name": "stdout",
     "output_type": "stream",
     "text": [
      "(46071, 10)\n"
     ]
    },
    {
     "data": {
      "text/plain": [
       "1    38479\n",
       "0     7592\n",
       "Name: Score, dtype: int64"
      ]
     },
     "execution_count": 41,
     "metadata": {},
     "output_type": "execute_result"
    }
   ],
   "source": [
    "# Before starting the next phase of preprocessing lets see the number of emtries left\n",
    "print(final.shape)\n",
    "\n",
    "# How many positive and negative reviews are present in our dataset?\n",
    "final['Score'].value_counts()"
   ]
  },
  {
   "cell_type": "markdown",
   "metadata": {},
   "source": [
    "# [3].  Text Preprocessing.\n",
    "\n",
    "Now that we have finished deduplication our data requires some preprocessing before we go on further with analysis and making the prediction model.\n",
    "\n",
    "Hence in the Preprocessing phase we do the following in the order below:-\n",
    "\n",
    "1. Begin by removing the html tags\n",
    "2. Remove any punctuations or limited set of special characters like , or . or # etc.\n",
    "3. Check if the word is made up of english letters and is not alpha-numeric\n",
    "4. Check to see if the length of the word is greater than 2 (as it was researched that there is no adjective in 2-letters)\n",
    "5. Convert the word to lowercase\n",
    "6. Remove Stopwords\n",
    "7. Finally Snowball Stemming the word (it was obsereved to be better than Porter Stemming)<br>\n",
    "\n",
    "After which we collect the words used to describe positive and negative reviews"
   ]
  },
  {
   "cell_type": "code",
   "execution_count": 42,
   "metadata": {},
   "outputs": [
    {
     "name": "stdout",
     "output_type": "stream",
     "text": [
      "I have bought several of the Vitality canned dog food products and have found them all to be of good quality. The product looks more like a stew than a processed meat and it smells better. My Labrador is finicky and she appreciates this product better than  most.\n",
      "==================================================\n",
      "Gatorade G2 is the way to go when you want the benefits of Gatorade without quite so much sugar. As I am in a \"pre-diabetes\" state these days, I am drinking this type of Gatorade instead of the regular Gatorade which has noticeably more sugar in it. The really good thing is that this still replenishes carbs and electrolytes after I exercise without putting unnecessary extra sugar into my system.<br /><br />G2 comes in flavors including fruit punch and grape.<br /><br />If you're on the go, the advantage of these bottles of Gatorade is this: because the bottles are smaller you can carry them with you much easier than if you took the regular, larger size bottles of Gatorade G2.<br /><br />I highly recommend this drink if you need extra carbs or electrolytes after exercising; it replenishes them very well without the extra sugar found in regular Gatorade.\n",
      "====================================================================================================\n",
      "These chips are very tasty,  Its a nice size serving and only 100 calories.  Good grab and go snack for busy Moms\n",
      "====================================================================================================\n",
      "I like my chocolate tempered to some level of crispness. These nuts were chewy, not crunchy, and the chocolate coating was a bit mealy.<br />If you know anything about dark chocolate, and like yours with some snap, don't order these.<br /><br />Actually, the best dark chocolate covered walnuts are called Perigord and are available through a Canadian company called Kis Global.<br />They are sun dried, super crispy, covered in a fairly thin shell of 70% dark chocolate, and dusted with unsweetened cocoa.<br />Very adult and superb.\n",
      "====================================================================================================\n"
     ]
    }
   ],
   "source": [
    "# printing some random reviews\n",
    "sent_0 = final['Text'][0]\n",
    "print(sent_0)\n",
    "print(\"=\" * 50)\n",
    "\n",
    "sent_1000 = final['Text'][1000]\n",
    "print(sent_1000)\n",
    "print(\"=\" * 100)\n",
    "\n",
    "sent_1500 = final['Text'][1500]\n",
    "print(sent_1500)\n",
    "print(\"=\" * 100)\n",
    "\n",
    "sent_4900 = final['Text'][4900]\n",
    "print(sent_4900)\n",
    "print(\"=\" * 100)"
   ]
  },
  {
   "cell_type": "code",
   "execution_count": 43,
   "metadata": {},
   "outputs": [
    {
     "name": "stdout",
     "output_type": "stream",
     "text": [
      "I have bought several of the Vitality canned dog food products and have found them all to be of good quality. The product looks more like a stew than a processed meat and it smells better. My Labrador is finicky and she appreciates this product better than  most.\n",
      "====================================================================================================\n",
      "Gatorade G2 is the way to go when you want the benefits of Gatorade without quite so much sugar. As I am in a \"pre-diabetes\" state these days, I am drinking this type of Gatorade instead of the regular Gatorade which has noticeably more sugar in it. The really good thing is that this still replenishes carbs and electrolytes after I exercise without putting unnecessary extra sugar into my system.<br /><br />G2 comes in flavors including fruit punch and grape.<br /><br />If you're on the go, the advantage of these bottles of Gatorade is this: because the bottles are smaller you can carry them with you much easier than if you took the regular, larger size bottles of Gatorade G2.<br /><br />I highly recommend this drink if you need extra carbs or electrolytes after exercising; it replenishes them very well without the extra sugar found in regular Gatorade.\n",
      "====================================================================================================\n",
      "These chips are very tasty,  Its a nice size serving and only 100 calories.  Good grab and go snack for busy Moms\n",
      "====================================================================================================\n",
      "I like my chocolate tempered to some level of crispness. These nuts were chewy, not crunchy, and the chocolate coating was a bit mealy.<br />If you know anything about dark chocolate, and like yours with some snap, don't order these.<br /><br />Actually, the best dark chocolate covered walnuts are called Perigord and are available through a Canadian company called Kis Global.<br />They are sun dried, super crispy, covered in a fairly thin shell of 70% dark chocolate, and dusted with unsweetened cocoa.<br />Very adult and superb.\n",
      "====================================================================================================\n"
     ]
    }
   ],
   "source": [
    "# remove urls from text python: https://stackoverflow.com/a/40823105/4084039\n",
    "sent_0 = re.sub(r\"http\\S+\",\"\",sent_0)\n",
    "print(sent_0)\n",
    "print(\"=\" * 100)\n",
    "\n",
    "sent_1000 = re.sub(r\"http\\S+\", \"\", sent_1000)\n",
    "print(sent_1000)\n",
    "print(\"=\" * 100)\n",
    "\n",
    "sent_1500 = re.sub(r\"http\\S+\", \"\", sent_1500)\n",
    "print(sent_1500)\n",
    "print(\"=\" * 100)\n",
    "\n",
    "sent_4900 = re.sub(r\"http\\S+\", \"\", sent_4900)\n",
    "print(sent_4900)\n",
    "print(\"=\" * 100)"
   ]
  },
  {
   "cell_type": "code",
   "execution_count": 44,
   "metadata": {},
   "outputs": [
    {
     "name": "stdout",
     "output_type": "stream",
     "text": [
      "I have bought several of the Vitality canned dog food products and have found them all to be of good quality. The product looks more like a stew than a processed meat and it smells better. My Labrador is finicky and she appreciates this product better than  most.\n",
      "====================================================================================================\n",
      "Gatorade G2 is the way to go when you want the benefits of Gatorade without quite so much sugar. As I am in a \"pre-diabetes\" state these days, I am drinking this type of Gatorade instead of the regular Gatorade which has noticeably more sugar in it. The really good thing is that this still replenishes carbs and electrolytes after I exercise without putting unnecessary extra sugar into my system.G2 comes in flavors including fruit punch and grape.If you're on the go, the advantage of these bottles of Gatorade is this: because the bottles are smaller you can carry them with you much easier than if you took the regular, larger size bottles of Gatorade G2.I highly recommend this drink if you need extra carbs or electrolytes after exercising; it replenishes them very well without the extra sugar found in regular Gatorade.\n",
      "====================================================================================================\n",
      "These chips are very tasty,  Its a nice size serving and only 100 calories.  Good grab and go snack for busy Moms\n",
      "====================================================================================================\n",
      "I like my chocolate tempered to some level of crispness. These nuts were chewy, not crunchy, and the chocolate coating was a bit mealy.If you know anything about dark chocolate, and like yours with some snap, don't order these.Actually, the best dark chocolate covered walnuts are called Perigord and are available through a Canadian company called Kis Global.They are sun dried, super crispy, covered in a fairly thin shell of 70% dark chocolate, and dusted with unsweetened cocoa.Very adult and superb.\n",
      "====================================================================================================\n"
     ]
    }
   ],
   "source": [
    "# https://stackoverflow.com/questions/16206380/python-beautifulsoup-how-to-remove-all-tags-from-an-element\n",
    "from bs4 import BeautifulSoup\n",
    "\n",
    "soup = BeautifulSoup(sent_0,'lxml')\n",
    "text = soup.get_text()\n",
    "print(text)\n",
    "print(\"=\" * 100)\n",
    "\n",
    "soup = BeautifulSoup(sent_1000,'lxml')\n",
    "text = soup.get_text()\n",
    "print(text)\n",
    "print(\"=\" * 100)\n",
    "\n",
    "soup = BeautifulSoup(sent_1500,'lxml')\n",
    "text = soup.get_text()\n",
    "print(text)\n",
    "print(\"=\" * 100)\n",
    "\n",
    "soup = BeautifulSoup(sent_4900,'lxml')\n",
    "text = soup.get_text()\n",
    "print(text)\n",
    "print(\"=\" * 100)"
   ]
  },
  {
   "cell_type": "code",
   "execution_count": 45,
   "metadata": {},
   "outputs": [],
   "source": [
    "# https://stackoverflow.com/a/47091490/4084039\n",
    "\n",
    "import re\n",
    "\n",
    "def decontracted(phrase):\n",
    "#     specific\n",
    "    phrase = re.sub(r\"won't\", \"will not\", phrase)\n",
    "    phrase = re.sub(r\"can\\'t\", \"can not\", phrase)\n",
    "    \n",
    "#     general n't, 're, 's, 'd, 'll, 't, 've, 'm\n",
    "# correspinding words not, are, is, would, will, not, have, am\n",
    "    phrase = re.sub(r\"n\\'t\", \"not\", phrase)\n",
    "    phrase = re.sub(r\"\\'re\", \"are\", phrase)\n",
    "    phrase = re.sub(r\"\\'s\", \"is\", phrase)\n",
    "    phrase = re.sub(r\"\\'d\", \"would\", phrase)\n",
    "    phrase = re.sub(r\"\\'ll\", \"will\", phrase)\n",
    "    phrase = re.sub(r\"\\'t\", \"not\", phrase)\n",
    "    phrase = re.sub(r\"\\'ve\", \"have\", phrase)\n",
    "    phrase = re.sub(r\"\\'m\", \"am\", phrase)\n",
    "    \n",
    "    return phrase\n",
    "    "
   ]
  },
  {
   "cell_type": "code",
   "execution_count": 46,
   "metadata": {},
   "outputs": [
    {
     "name": "stdout",
     "output_type": "stream",
     "text": [
      "I like my chocolate tempered to some level of crispness. These nuts were chewy, not crunchy, and the chocolate coating was a bit mealy.<br />If you know anything about dark chocolate, and like yours with some snap, donot order these.<br /><br />Actually, the best dark chocolate covered walnuts are called Perigord and are available through a Canadian company called Kis Global.<br />They are sun dried, super crispy, covered in a fairly thin shell of 70% dark chocolate, and dusted with unsweetened cocoa.<br />Very adult and superb.\n",
      "****************************************************************************************************\n"
     ]
    }
   ],
   "source": [
    "sent_4900 = decontracted(sent_4900)\n",
    "print(sent_4900)\n",
    "print(\"*\" * 100)"
   ]
  },
  {
   "cell_type": "code",
   "execution_count": 47,
   "metadata": {},
   "outputs": [
    {
     "name": "stdout",
     "output_type": "stream",
     "text": [
      "I have bought several of the Vitality      have  them all to be of  quality. The  looks more like a stew than a  meat  it smells better. My  is finicky  she appreciates this  better than  most.\n"
     ]
    }
   ],
   "source": [
    "#remove words with numbers python: https://stackoverflow.com/a/18082370/4084039\n",
    "sent_0 = re.sub(\"\\S*d\\S*\",\"\",sent_0).strip()\n",
    "print(sent_0)"
   ]
  },
  {
   "cell_type": "code",
   "execution_count": 48,
   "metadata": {},
   "outputs": [
    {
     "name": "stdout",
     "output_type": "stream",
     "text": [
      "These chips are very tasty   Its a nice size serving and only 100 calories   Good grab and go snack for busy Moms\n"
     ]
    }
   ],
   "source": [
    "#remove special character: https://stackoverflow.com/a/5843547/4084039\n",
    "sent_1500 = re.sub('[^A-Za-z0-9 ]+', ' ', sent_1500)\n",
    "print(sent_1500)"
   ]
  },
  {
   "cell_type": "code",
   "execution_count": 49,
   "metadata": {},
   "outputs": [],
   "source": [
    "# https://gist.github.com/sebleier/554280\n",
    "# we are removing the words from the stop words list: 'no', 'nor', 'not'\n",
    "# <br /><br /> ==> after the above steps, we are getting \"br br\"\n",
    "# we are including them into stop words list\n",
    "# instead of <br /> if we have <br/> these tags would have revmoved in the 1st step\n",
    "\n",
    "stopwords= set(['br', 'the', 'i', 'me', 'my', 'myself', 'we', 'our', 'ours', 'ourselves', 'you', \"you're\", \"you've\",\\\n",
    "            \"you'll\", \"you'd\", 'your', 'yours', 'yourself', 'yourselves', 'he', 'him', 'his', 'himself', \\\n",
    "            'she', \"she's\", 'her', 'hers', 'herself', 'it', \"it's\", 'its', 'itself', 'they', 'them', 'their',\\\n",
    "            'theirs', 'themselves', 'what', 'which', 'who', 'whom', 'this', 'that', \"that'll\", 'these', 'those', \\\n",
    "            'am', 'is', 'are', 'was', 'were', 'be', 'been', 'being', 'have', 'has', 'had', 'having', 'do', 'does', \\\n",
    "            'did', 'doing', 'a', 'an', 'the', 'and', 'but', 'if', 'or', 'because', 'as', 'until', 'while', 'of', \\\n",
    "            'at', 'by', 'for', 'with', 'about', 'against', 'between', 'into', 'through', 'during', 'before', 'after',\\\n",
    "            'above', 'below', 'to', 'from', 'up', 'down', 'in', 'out', 'on', 'off', 'over', 'under', 'again', 'further',\\\n",
    "            'then', 'once', 'here', 'there', 'when', 'where', 'why', 'how', 'all', 'any', 'both', 'each', 'few', 'more',\\\n",
    "            'most', 'other', 'some', 'such', 'only', 'own', 'same', 'so', 'than', 'too', 'very', \\\n",
    "            's', 't', 'can', 'will', 'just', 'don', \"don't\", 'should', \"should've\", 'now', 'd', 'll', 'm', 'o', 're', \\\n",
    "            've', 'y', 'ain', 'aren', \"aren't\", 'couldn', \"couldn't\", 'didn', \"didn't\", 'doesn', \"doesn't\", 'hadn',\\\n",
    "            \"hadn't\", 'hasn', \"hasn't\", 'haven', \"haven't\", 'isn', \"isn't\", 'ma', 'mightn', \"mightn't\", 'mustn',\\\n",
    "            \"mustn't\", 'needn', \"needn't\", 'shan', \"shan't\", 'shouldn', \"shouldn't\", 'wasn', \"wasn't\", 'weren', \"weren't\", \\\n",
    "            'won', \"won't\", 'wouldn', \"wouldn't\"])"
   ]
  },
  {
   "cell_type": "code",
   "execution_count": 50,
   "metadata": {},
   "outputs": [
    {
     "name": "stderr",
     "output_type": "stream",
     "text": [
      "100%|██████████| 46071/46071 [00:12<00:00, 3835.06it/s]\n"
     ]
    }
   ],
   "source": [
    "# Combining all the above students\n",
    "\n",
    "from tqdm import tqdm\n",
    "preprocessed_reviews = []\n",
    "# tqdm is for printing the status bar\n",
    "for sentance in tqdm(final['Text'].values):\n",
    "    sentance = re.sub(r\"http\\S+\", \"\", sentance)\n",
    "    sentance = BeautifulSoup(sentance, 'lxml').get_text()\n",
    "    sentance = decontracted(sentance)\n",
    "    sentance = re.sub(\"\\S*\\d\\S*\", \"\", sentance).strip()\n",
    "    sentance = re.sub('[^A-Za-z]+', ' ', sentance)\n",
    "    # https://gist.github.com/sebleier/554280\n",
    "    sentance = ' '.join(e.lower() for e in sentance.split() if e.lower() not in stopwords)\n",
    "    preprocessed_reviews.append(sentance.strip())"
   ]
  },
  {
   "cell_type": "code",
   "execution_count": 51,
   "metadata": {},
   "outputs": [
    {
     "data": {
      "text/plain": [
       "'great flavor low calories high nutrients high protein usually protein powders high priced high calories one great bargain tastes great highly recommend lady gym rats probably not macho enough guys since soy based'"
      ]
     },
     "execution_count": 51,
     "metadata": {},
     "output_type": "execute_result"
    }
   ],
   "source": [
    "preprocessed_reviews[1500]"
   ]
  },
  {
   "cell_type": "code",
   "execution_count": 52,
   "metadata": {},
   "outputs": [
    {
     "data": {
      "text/plain": [
       "46071"
      ]
     },
     "execution_count": 52,
     "metadata": {},
     "output_type": "execute_result"
    }
   ],
   "source": [
    "len(preprocessed_reviews)"
   ]
  },
  {
   "cell_type": "markdown",
   "metadata": {},
   "source": [
    "<h2><font color='red'>[3.2] Preprocess Summary</font></h2>"
   ]
  },
  {
   "cell_type": "code",
   "execution_count": 53,
   "metadata": {},
   "outputs": [],
   "source": [
    "# Similarly you can also do preprocessing for reviews also"
   ]
  },
  {
   "cell_type": "code",
   "execution_count": 54,
   "metadata": {},
   "outputs": [
    {
     "name": "stdout",
     "output_type": "stream",
     "text": [
      "Compares Favorably to Starbucks Dark Roast\n",
      "****************************************************************************************************\n",
      "Excellent for administering regular medications\n",
      "****************************************************************************************************\n",
      "Great tasting chips alternative\n",
      "****************************************************************************************************\n",
      "Great candy\n",
      "****************************************************************************************************\n"
     ]
    }
   ],
   "source": [
    "# Printing some random summary\n",
    "countVal = final['Summary'].count()\n",
    "random = np.random.randint(4,countVal,4)\n",
    "for i in random:\n",
    "    sort_0 = final['Summary'][i]\n",
    "    print(sort_0)\n",
    "    print(\"*\" * 100)"
   ]
  },
  {
   "cell_type": "code",
   "execution_count": 55,
   "metadata": {},
   "outputs": [
    {
     "name": "stdout",
     "output_type": "stream",
     "text": [
      "Compares Favorably to Starbucks Dark Roast\n",
      "****************************************************************************************************\n",
      "Excellent for administering regular medications\n",
      "****************************************************************************************************\n",
      "Great tasting chips alternative\n",
      "****************************************************************************************************\n",
      "Great candy\n",
      "****************************************************************************************************\n"
     ]
    }
   ],
   "source": [
    "# remove urls from text python: https://stackoverflow.com/a/40823105/4084039\n",
    "for i in random:\n",
    "    sent_0 = final['Summary'][i]\n",
    "    sent_0 = re.sub(r\"http\\S+\",\"\",sent_0)\n",
    "    print(sent_0)\n",
    "    print(\"*\" * 100)"
   ]
  },
  {
   "cell_type": "code",
   "execution_count": 56,
   "metadata": {},
   "outputs": [
    {
     "name": "stdout",
     "output_type": "stream",
     "text": [
      "Compares Favorably to Starbucks Dark Roast\n",
      "****************************************************************************************************\n",
      "Excellent for administering regular medications\n",
      "****************************************************************************************************\n",
      "Great tasting chips alternative\n",
      "****************************************************************************************************\n",
      "Great candy\n",
      "****************************************************************************************************\n"
     ]
    }
   ],
   "source": [
    "# https://stackoverflow.com/questions/16206380/python-beautifulsoup-how-to-remove-all-tags-from-an-element\n",
    "\n",
    "from bs4 import BeautifulSoup\n",
    "\n",
    "for i in random:\n",
    "    sent_0 = final['Summary'][i]\n",
    "    sent_0 = BeautifulSoup(sent_0,'lxml')\n",
    "    print(sent_0.get_text())\n",
    "    print(\"*\" * 100)\n",
    "    "
   ]
  },
  {
   "cell_type": "code",
   "execution_count": 57,
   "metadata": {},
   "outputs": [],
   "source": [
    "# https://stackoverflow.com/a/47091490/4084039\n",
    "\n",
    "# Changing the wordds like 're to are, 's to is etc.\n",
    "\n",
    "def deContracted(phrase):\n",
    "#     sepcific\n",
    "    phrase = re.sub(r\"won\\'t\",\"will not\",phrase)\n",
    "    phrase = re.sub(r\"can\\'t\", \"cannot\", phrase)\n",
    "    phrase = re.sub(r\"don\\'t\", \"do not\", phrase)\n",
    "#     general\n",
    "    phrase = re.sub(r\"n\\'t\", \" not\" ,phrase)\n",
    "    phrase = re.sub(r\"\\'s\", \" is\", phrase)\n",
    "    phrase = re.sub(r\"\\'re\", \" are\", phrase)\n",
    "    phrase = re.sub(r\"\\'d\", \" would\", phrase)\n",
    "    phrase = re.sub(r\"\\'ll\", \" will\", phrase)\n",
    "    phrase = re.sub(r\"\\'t\", \" not\", phrase)\n",
    "    phrase = re.sub(r\"\\'ve\", \" have\", phrase)\n",
    "    phrase = re.sub(r\"\\'m\", \" am\", phrase)\n",
    "    return phrase"
   ]
  },
  {
   "cell_type": "code",
   "execution_count": 58,
   "metadata": {},
   "outputs": [
    {
     "name": "stdout",
     "output_type": "stream",
     "text": [
      "Compares Favorably to Starbucks Dark Roast\n",
      "**************************************************\n",
      "Excellent for administering regular medications\n",
      "**************************************************\n",
      "Great tasting chips alternative\n",
      "**************************************************\n",
      "Great candy\n",
      "**************************************************\n"
     ]
    }
   ],
   "source": [
    "for i in random:\n",
    "    sent_0 = final['Summary'][i]\n",
    "    sent_0 = deContracted(sent_0)\n",
    "    print(sent_0)\n",
    "    print(\"*\" * 50)"
   ]
  },
  {
   "cell_type": "code",
   "execution_count": 59,
   "metadata": {},
   "outputs": [
    {
     "name": "stdout",
     "output_type": "stream",
     "text": [
      "Compares Favorably to Starbucks Dark Roast\n",
      "****************************************************************************************************\n",
      "Excellent for administering regular medications\n",
      "****************************************************************************************************\n",
      "Great tasting chips alternative\n",
      "****************************************************************************************************\n",
      "Great candy\n",
      "****************************************************************************************************\n"
     ]
    }
   ],
   "source": [
    "# remove words with numbers:\n",
    "for i in random:\n",
    "    sent_0 = final['Summary'][i]\n",
    "    sent_0 = re.sub(r\"\\S*\\d\\S*\", \"\", sent_0)\n",
    "    print(sent_0)\n",
    "    print(\"*\" * 100)"
   ]
  },
  {
   "cell_type": "code",
   "execution_count": 60,
   "metadata": {},
   "outputs": [
    {
     "name": "stdout",
     "output_type": "stream",
     "text": [
      "ComparesFavorablytoStarbucksDarkRoast\n",
      "****************************************************************************************************\n",
      "Excellentforadministeringregularmedications\n",
      "****************************************************************************************************\n",
      "Greattastingchipsalternative\n",
      "****************************************************************************************************\n",
      "Greatcandy\n",
      "****************************************************************************************************\n"
     ]
    }
   ],
   "source": [
    "# remove special characters\n",
    "for i in random:\n",
    "    sent_0 = final['Summary'][i]\n",
    "    sent_0 = re.sub('[^A-Za-z0-9]+', \"\", sent_0)\n",
    "    print(sent_0)\n",
    "    print(\"*\" * 100)"
   ]
  },
  {
   "cell_type": "code",
   "execution_count": 61,
   "metadata": {},
   "outputs": [],
   "source": [
    "# https://gist.github.com/sebleier/554280\n",
    "# we are removing the words from the stop words list: 'no', 'nor', 'not'\n",
    "# <br /><br /> ==> after the above steps, we are getting \"br br\"\n",
    "# we are including them into stop words list\n",
    "# instead of <br /> if we have <br/> these tags would have revmoved in the 1st step\n",
    "\n",
    "stopwords= set(['br', 'the', 'i', 'me', 'my', 'myself', 'we', 'our', 'ours', 'ourselves', 'you', \"you're\", \"you've\",\\\n",
    "            \"you'll\", \"you'd\", 'your', 'yours', 'yourself', 'yourselves', 'he', 'him', 'his', 'himself', \\\n",
    "            'she', \"she's\", 'her', 'hers', 'herself', 'it', \"it's\", 'its', 'itself', 'they', 'them', 'their',\\\n",
    "            'theirs', 'themselves', 'what', 'which', 'who', 'whom', 'this', 'that', \"that'll\", 'these', 'those', \\\n",
    "            'am', 'is', 'are', 'was', 'were', 'be', 'been', 'being', 'have', 'has', 'had', 'having', 'do', 'does', \\\n",
    "            'did', 'doing', 'a', 'an', 'the', 'and', 'but', 'if', 'or', 'because', 'as', 'until', 'while', 'of', \\\n",
    "            'at', 'by', 'for', 'with', 'about', 'against', 'between', 'into', 'through', 'during', 'before', 'after',\\\n",
    "            'above', 'below', 'to', 'from', 'up', 'down', 'in', 'out', 'on', 'off', 'over', 'under', 'again', 'further',\\\n",
    "            'then', 'once', 'here', 'there', 'when', 'where', 'why', 'how', 'all', 'any', 'both', 'each', 'few', 'more',\\\n",
    "            'most', 'other', 'some', 'such', 'only', 'own', 'same', 'so', 'than', 'too', 'very', \\\n",
    "            's', 't', 'can', 'will', 'just', 'don', \"don't\", 'should', \"should've\", 'now', 'd', 'll', 'm', 'o', 're', \\\n",
    "            've', 'y', 'ain', 'aren', \"aren't\", 'couldn', \"couldn't\", 'didn', \"didn't\", 'doesn', \"doesn't\", 'hadn',\\\n",
    "            \"hadn't\", 'hasn', \"hasn't\", 'haven', \"haven't\", 'isn', \"isn't\", 'ma', 'mightn', \"mightn't\", 'mustn',\\\n",
    "            \"mustn't\", 'needn', \"needn't\", 'shan', \"shan't\", 'shouldn', \"shouldn't\", 'wasn', \"wasn't\", 'weren', \"weren't\", \\\n",
    "            'won', \"won't\", 'wouldn', \"wouldn't\"])"
   ]
  },
  {
   "cell_type": "code",
   "execution_count": 62,
   "metadata": {},
   "outputs": [
    {
     "name": "stderr",
     "output_type": "stream",
     "text": [
      "100%|██████████| 46071/46071 [00:08<00:00, 5674.25it/s]\n"
     ]
    }
   ],
   "source": [
    "# Combining all the above steps\n",
    "from tqdm import tqdm\n",
    "preprocessed_summary = []\n",
    "\n",
    "# tqdm is for printing the status bar\n",
    "for sentence in tqdm(final['Summary'].values):\n",
    "#     1) remove urls\n",
    "    sentence = re.sub(r\"http\\S+\", \"\", sentence)\n",
    "#     2) remove html or xml tags\n",
    "    sentence = BeautifulSoup(sentence, 'lxml').get_text()\n",
    "#     3) remove \"'\" like 's with is, 're with are\n",
    "    sentence = deContracted(sentence)\n",
    "#     4) remove numbers\n",
    "    sentence = re.sub(r\"\\S*\\d\\S*\", \"\", sentence)\n",
    "#     5) remove special characters\n",
    "    sentence = re.sub('[^A-Za-z]+',' ', sentence)\n",
    "#     6) remove stop words\n",
    "    sentence = \" \".join(e.lower() for e in sentence.split() if e not in stopwords)\n",
    "    \n",
    "    preprocessed_summary.append(sentence.strip())\n",
    "    \n"
   ]
  },
  {
   "cell_type": "code",
   "execution_count": 63,
   "metadata": {},
   "outputs": [
    {
     "name": "stdout",
     "output_type": "stream",
     "text": [
      "mcvitie best\n",
      "gluten free the way\n",
      "excellent chocolate\n",
      "walnuts\n"
     ]
    }
   ],
   "source": [
    "for i in random:\n",
    "    print(preprocessed_summary[i])"
   ]
  },
  {
   "cell_type": "markdown",
   "metadata": {},
   "source": [
    "# [4] Featurization"
   ]
  },
  {
   "cell_type": "markdown",
   "metadata": {},
   "source": [
    "## [4.1] BAG OF WORDS"
   ]
  },
  {
   "cell_type": "code",
   "execution_count": 64,
   "metadata": {},
   "outputs": [
    {
     "name": "stdout",
     "output_type": "stream",
     "text": [
      "Some feature names\n",
      "['aa', 'aaa', 'aaaa', 'aaaaa', 'aaaaaaaaaaaa', 'aaaaaaaaaaaaaaa', 'aaaaaaahhhhhh', 'aaaaaawwwwwwwwww', 'aaaaah', 'aaaand', 'aaah', 'aachen', 'aadp', 'aaf', 'aafco', 'aah', 'aahhhs', 'aahing', 'aahs', 'aarthur', 'ab', 'aback', 'abandon', 'abandoned', 'abandoning', 'abates', 'abb', 'abberline', 'abbey', 'abbott']\n",
      "****************************************************************************************************\n",
      "Type of final_counts\n",
      "<class 'scipy.sparse.csr.csr_matrix'>\n",
      "****************************************************************************************************\n",
      "Shape of BOW final_counts\n",
      "(46071, 40750)\n",
      "****************************************************************************************************\n",
      "Number of unique words\n",
      "40750\n"
     ]
    }
   ],
   "source": [
    "# BOW\n",
    "count_vect = CountVectorizer() # in scikit-learn\n",
    "count_vect.fit(preprocessed_reviews)\n",
    "print(\"Some feature names\")\n",
    "print(count_vect.get_feature_names()[:30])\n",
    "print(\"*\" * 100)\n",
    "\n",
    "final_counts = count_vect.transform(preprocessed_reviews)\n",
    "print(\"Type of final_counts\")\n",
    "print(type(final_counts))\n",
    "print(\"*\" * 100)\n",
    "print(\"Shape of BOW final_counts\")\n",
    "print(final_counts.shape)\n",
    "print(\"*\" * 100)\n",
    "print(\"Number of unique words\")\n",
    "print(final_counts.get_shape()[1])"
   ]
  },
  {
   "cell_type": "markdown",
   "metadata": {},
   "source": [
    "## Bi-Grams and n-Grams"
   ]
  },
  {
   "cell_type": "code",
   "execution_count": 65,
   "metadata": {},
   "outputs": [
    {
     "name": "stdout",
     "output_type": "stream",
     "text": [
      "type of final_bi_gram\n",
      "<class 'scipy.sparse.csr.csr_matrix'>\n",
      "****************************************************************************************************\n",
      "shape\n",
      "(46071, 27877)\n",
      "****************************************************************************************************\n",
      "unique words\n",
      "27877\n"
     ]
    }
   ],
   "source": [
    "#bi-gram, tri-gram and n-gram\n",
    "\n",
    "#removing stop words like \"not\" should be avoided before building n-grams\n",
    "# count_vect = CountVectorizer(ngram_range=(1,2))\n",
    "# please do read the CountVectorizer documentation http://scikit-learn.org/stable/modules/generated/sklearn.feature_extraction.text.CountVectorizer.html\n",
    "# you can choose these numebrs min_df=10, max_features=5000, of your choice\n",
    "\n",
    "count_vect_bi_gram = CountVectorizer(ngram_range=(1,2), min_df=10, max_df=5000)\n",
    "final_bi_gram = count_vect_bi_gram.fit_transform(preprocessed_reviews)\n",
    "print(\"type of final_bi_gram\")\n",
    "print(type(final_bi_gram))\n",
    "print(\"*\" * 100)\n",
    "\n",
    "print(\"shape\")\n",
    "print(final_bi_gram.get_shape())\n",
    "print(\"*\" * 100)\n",
    "\n",
    "print(\"unique words\")\n",
    "print(final_bi_gram.get_shape()[1])"
   ]
  },
  {
   "cell_type": "markdown",
   "metadata": {},
   "source": [
    "### TF-IDF"
   ]
  },
  {
   "cell_type": "code",
   "execution_count": 66,
   "metadata": {},
   "outputs": [
    {
     "name": "stdout",
     "output_type": "stream",
     "text": [
      "Some sample words in the corpus\n",
      "['ability', 'able', 'able buy', 'able chew', 'able drink', 'able eat', 'able enjoy', 'able feed', 'able figure', 'able find']\n",
      "****************************************************************************************************\n",
      "Type\n",
      "<class 'scipy.sparse.csr.csr_matrix'>\n",
      "****************************************************************************************************\n",
      "shape\n",
      "(46071, 27906)\n",
      "****************************************************************************************************\n",
      "Unique words count\n",
      "27906\n"
     ]
    }
   ],
   "source": [
    "tf_idf_vect = TfidfVectorizer(ngram_range=(1,2),min_df=10)\n",
    "tf_idf_vect.fit(preprocessed_reviews)\n",
    "print(\"Some sample words in the corpus\")\n",
    "print(tf_idf_vect.get_feature_names()[:10])\n",
    "print(\"*\" * 100)\n",
    "\n",
    "final_tf_idf = tf_idf_vect.transform(preprocessed_reviews)\n",
    "print(\"Type\")\n",
    "print(type(final_tf_idf))\n",
    "print(\"*\" * 100)\n",
    "print(\"shape\")\n",
    "print(final_tf_idf.shape)\n",
    "print(\"*\" * 100)\n",
    "print(\"Unique words count\")\n",
    "print(final_tf_idf.get_shape()[1])"
   ]
  },
  {
   "cell_type": "markdown",
   "metadata": {},
   "source": [
    "### Word2Vect"
   ]
  },
  {
   "cell_type": "code",
   "execution_count": 67,
   "metadata": {},
   "outputs": [],
   "source": [
    "# Train your own Word2Vec model using your own text corpus\n",
    "i = 0\n",
    "list_of_sentence = []\n",
    "for sentence in preprocessed_reviews:\n",
    "    list_of_sentence.append(sentence.split())"
   ]
  },
  {
   "cell_type": "code",
   "execution_count": 68,
   "metadata": {},
   "outputs": [
    {
     "name": "stdout",
     "output_type": "stream",
     "text": [
      "[('awesome', 0.8418029546737671), ('fantastic', 0.808163046836853), ('terrific', 0.8061028718948364), ('good', 0.8040550947189331), ('amazing', 0.7850069999694824), ('excellent', 0.7812004089355469), ('wonderful', 0.774754524230957), ('perfect', 0.7623196244239807), ('decent', 0.7286362051963806), ('fabulous', 0.7093615531921387)]\n",
      "****************************************************************************************************\n",
      "[('nastiest', 0.7283749580383301), ('best', 0.7269394993782043), ('greatest', 0.6859476566314697), ('experienced', 0.6617382764816284), ('ive', 0.652580201625824), ('tastiest', 0.6440903544425964), ('youhave', 0.6378548741340637), ('ihave', 0.6240767240524292), ('awful', 0.6213126182556152), ('eaten', 0.6054084300994873)]\n"
     ]
    }
   ],
   "source": [
    "# Using Google News Word2Vectors\n",
    "\n",
    "# in this project we are using a pretrained model by google\n",
    "# its 3.3G file, once you load this into your memory \n",
    "# it occupies ~9Gb, so please do this step only if you have >12G of ram\n",
    "# we will provide a pickle file wich contains a dict , \n",
    "# and it contains all our courpus words as keys and  model[word] as values\n",
    "# To use this code-snippet, download \"GoogleNews-vectors-negative300.bin\" \n",
    "# from https://drive.google.com/file/d/0B7XkCwpI5KDYNlNUTTlSS21pQmM/edit\n",
    "# it's 1.9GB in size.\n",
    "\n",
    "\n",
    "# http://kavita-ganesan.com/gensim-word2vec-tutorial-starter-code/#.W17SRFAzZPY\n",
    "# you can comment this whole cell\n",
    "# or change these varible according to your need\n",
    "\n",
    "is_your_ram_gt_16g = True\n",
    "want_to_use_google_w2v = True\n",
    "want_to_train_w2v = True\n",
    "\n",
    "if want_to_train_w2v:\n",
    "    # min_count = 5, considers only words that occured atleast 5 times\n",
    "    w2v_model = Word2Vec(list_of_sentence,min_count = 5, size = 50, workers = 4)\n",
    "    print(w2v_model.wv.most_similar('great'))\n",
    "    print(\"*\" * 100)\n",
    "    print(w2v_model.wv.most_similar('worst'))\n",
    "elif want_to_use_google_w2v and is_your_ram_gt_16g:\n",
    "    if os.path.isfile('GoogleNews-vectors-negative300.bin'):\n",
    "        w2v_model = KeyedVectors.load_word2vec_format('GoogleNews-vectors-negative300.bin', binary = True)\n",
    "        print(w2v_model.wv.most_similar('great'))\n",
    "        print(w2v_model.wv.most_similar('worst'))\n",
    "    else:\n",
    "        print(\"you don't have gogole's word2vec file, keep want_to_train_w2v = True, to train your own w2v \")"
   ]
  },
  {
   "cell_type": "code",
   "execution_count": 69,
   "metadata": {},
   "outputs": [
    {
     "name": "stdout",
     "output_type": "stream",
     "text": [
      "Number of words that occured minimum 5 times\n",
      "13011\n",
      "****************************************************************************************************\n",
      "Sample words\n",
      "['dogs', 'loves', 'chicken', 'product', 'china', 'wont', 'buying', 'anymore', 'hard', 'find', 'products', 'made', 'usa', 'one', 'isnt', 'bad', 'good', 'take', 'chances', 'till', 'know', 'going', 'imports', 'love', 'saw', 'pet', 'store', 'tag', 'attached', 'regarding', 'satisfied', 'safe', 'available', 'victor', 'traps', 'unreal', 'course', 'total', 'fly', 'pretty', 'stinky', 'right', 'nearby', 'used', 'bait', 'seasons', 'canot', 'beat', 'great', 'received']\n"
     ]
    }
   ],
   "source": [
    "w2v_words = list(w2v_model.wv.vocab)\n",
    "print(\"Number of words that occured minimum 5 times\")\n",
    "print(len(w2v_words))\n",
    "\n",
    "print(\"*\" * 100)\n",
    "print(\"Sample words\")\n",
    "print(w2v_words[0:50])"
   ]
  },
  {
   "cell_type": "markdown",
   "metadata": {},
   "source": [
    "### Coverting text into vectors using wAvg W2V,  TFIDF-W2V"
   ]
  },
  {
   "cell_type": "markdown",
   "metadata": {},
   "source": [
    "#### Avg W2v"
   ]
  },
  {
   "cell_type": "code",
   "execution_count": 70,
   "metadata": {},
   "outputs": [
    {
     "name": "stderr",
     "output_type": "stream",
     "text": [
      "100%|██████████| 46071/46071 [01:01<00:00, 751.39it/s] \n"
     ]
    },
    {
     "name": "stdout",
     "output_type": "stream",
     "text": [
      "46071\n",
      "<class 'list'>\n",
      "50\n"
     ]
    }
   ],
   "source": [
    "# average Word2Vec\n",
    "# compute average word2vec for each review.\n",
    "sent_vectors = []; # the avg-w2v for each sentence/review is stored in this list\n",
    "for sent in tqdm(list_of_sentence): # for each review/sentence\n",
    "    sent_vec = np.zeros(50) # as word vectors are of zero length 50, you might need to change this to 300 \n",
    "#     if you use google's w2v\n",
    "    cnt_words =0; # num of words with a valid vector in the sentence/review\n",
    "    for word in sent: # for each word in a review/sentence\n",
    "        if word in w2v_words:\n",
    "#             print(word)\n",
    "            vec = w2v_model.wv[word]\n",
    "#             print(vec)\n",
    "            sent_vec += vec\n",
    "            cnt_words += 1\n",
    "    if cnt_words != 0:\n",
    "        sent_vec /= cnt_words\n",
    "    sent_vectors.append(sent_vec)\n",
    "print(len(sent_vectors))\n",
    "print(type(sent_vectors))\n",
    "print(len(sent_vectors[0]))"
   ]
  },
  {
   "cell_type": "markdown",
   "metadata": {},
   "source": [
    "#### [4.4.1.2] TFIDF weighted W2v"
   ]
  },
  {
   "cell_type": "code",
   "execution_count": 71,
   "metadata": {},
   "outputs": [],
   "source": [
    "# S = [\"abc def pqr\", \"def def def abc\", \"pqr pqr def\"]\n",
    "model = TfidfVectorizer()\n",
    "model.fit(preprocessed_reviews)\n",
    "\n",
    "# we are converting a dictionary with words as a key, and the idf as values\n",
    "dictionary = dict(zip(model.get_feature_names(),list(model.idf_)))"
   ]
  },
  {
   "cell_type": "code",
   "execution_count": 72,
   "metadata": {},
   "outputs": [
    {
     "name": "stderr",
     "output_type": "stream",
     "text": [
      "100%|██████████| 46071/46071 [09:35<00:00, 80.07it/s] \n"
     ]
    }
   ],
   "source": [
    "# TF-IDF weighted word2vec\n",
    "\n",
    "tfid_feat = model.get_feature_names() # tfidf words/col-names\n",
    "# final_tf_idf is sparse matrix with row = sentence, col = word and cell_val = tfidf\n",
    "tfidf_sent_vectors = [];\n",
    "row = 0;\n",
    "for sent in tqdm(list_of_sentence):# for each review/sentence\n",
    "    sent_vec = np.zeros(50) # as word vectors are of zero length\n",
    "    weight_sum = 0 # num of words with a valid vector in the sentence/review\n",
    "    for word in sent:\n",
    "        if word in w2v_words and word in tfid_feat:\n",
    "            vec = w2v_model.wv[word]\n",
    "            \n",
    "            # tf_idf = tf_idf_matrix[row, tfidf_feat.index(word)]\n",
    "            # to reduce the computation we are \n",
    "            # dictionary[word] = idf value of word in whole courpus\n",
    "            # sent.count(word) = tf valeus of word in this review\n",
    "            \n",
    "            tf_idf = dictionary[word] * (sent.count(word)/len(sent))\n",
    "            sent_vec += (vec * tf_idf)\n",
    "            weight_sum += tf_idf\n",
    "    if weight_sum != 0:\n",
    "        sent_vec /= weight_sum\n",
    "    tfidf_sent_vectors.append(sent_vec)\n",
    "    row += 1\n"
   ]
  },
  {
   "cell_type": "code",
   "execution_count": 73,
   "metadata": {},
   "outputs": [
    {
     "name": "stdout",
     "output_type": "stream",
     "text": [
      "1000\n",
      "(1000, 40750)\n"
     ]
    },
    {
     "data": {
      "image/png": "[encoded data removed]",
      "text/plain": [
       "<Figure size 483.875x432 with 1 Axes>"
      ]
     },
     "metadata": {
      "needs_background": "light"
     },
     "output_type": "display_data"
    }
   ],
   "source": [
    "# applying TSNE\n",
    "import numpy as np\n",
    "from sklearn.manifold import TSNE\n",
    "import pandas as pd\n",
    "import matplotlib.pyplot as plt\n",
    "\n",
    "data = final_counts[:1000]\n",
    "labels = final['Score']\n",
    "label_y = labels[:1000]\n",
    "print(len(label_y))\n",
    "print(data.shape)\n",
    "\n",
    "tsne = TSNE(n_components=2, perplexity=30, learning_rate=200)\n",
    "X_embedding = tsne.fit_transform(data.toarray())\n",
    "for_tsne = np.vstack((X_embedding.T, label_y)).T\n",
    "for_tsne_df = pd.DataFrame(data=for_tsne, columns=['Dimension_x','Dimension_y','Score'])\n",
    "sns.FacetGrid(data=for_tsne_df, hue=\"Score\", height=6)\\\n",
    "    .map(plt.scatter,\"Dimension_x\",\"Dimension_y\")\\\n",
    "    .add_legend();\n",
    "plt.show()\n",
    "\n"
   ]
  },
  {
   "cell_type": "code",
   "execution_count": 74,
   "metadata": {},
   "outputs": [
    {
     "data": {
      "image/png": "[encoded data removed]",
      "text/plain": [
       "<Figure size 483.875x432 with 1 Axes>"
      ]
     },
     "metadata": {
      "needs_background": "light"
     },
     "output_type": "display_data"
    }
   ],
   "source": [
    "# applying TSNE on bigrams\n",
    "import numpy as np\n",
    "from sklearn.manifold import TSNE\n",
    "import pandas as pd\n",
    "import matplotlib.pyplot as plt\n",
    "\n",
    "data = final_bi_gram[:1000]\n",
    "labels = final['Score']\n",
    "label_y = labels[:1000]\n",
    "\n",
    "tsne = TSNE(n_components = 2, perplexity = 50, learning_rate = 200)\n",
    "x_embedding = tsne.fit_transform(data.toarray())\n",
    "tsne_data = np.vstack((x_embedding.T,label_y)).T\n",
    "tsne_df = pd.DataFrame(data=tsne_data,columns=[\"Dimension1\",\"Dimension2\",\"Score\"])\n",
    "\n",
    "sns.FacetGrid(data=for_tsne_df, hue=\"Score\", height=6)\\\n",
    "    .map(plt.scatter,\"Dimension_x\",\"Dimension_y\")\\\n",
    "    .add_legend();\n",
    "plt.show()\n"
   ]
  },
  {
   "cell_type": "markdown",
   "metadata": {},
   "source": [
    "### [5.1] Applying TNSE on Text TFIDF vectors"
   ]
  },
  {
   "cell_type": "code",
   "execution_count": 75,
   "metadata": {},
   "outputs": [
    {
     "data": {
      "image/png": "[encoded data removed]",
      "text/plain": [
       "<Figure size 555.875x504 with 1 Axes>"
      ]
     },
     "metadata": {
      "needs_background": "light"
     },
     "output_type": "display_data"
    }
   ],
   "source": [
    "import numpy as np\n",
    "import pandas as pd\n",
    "import matplotlib.pyplot as plt\n",
    "from sklearn.manifold import TSNE\n",
    "\n",
    "data = final_tf_idf[:1000]\n",
    "labels = final['Score']\n",
    "label_y = labels[:1000]\n",
    "\n",
    "tsne_model = TSNE(n_components=2, perplexity=50, learning_rate=200)\n",
    "x_embedding = tsne.fit_transform(data.toarray())\n",
    "tsne_data = np.vstack((x_embedding.T,label_y)).T\n",
    "tsne_df = pd.DataFrame(data=tsne_data, columns=(\"Dim1\",\"Dim2\",\"Score\"))\n",
    "\n",
    "sns.FacetGrid(data=tsne_df, hue='Score', height=7)\\\n",
    "    .map(plt.scatter,\"Dim1\",\"Dim2\")\\\n",
    "    .add_legend()\n",
    "\n",
    "plt.show()\n"
   ]
  },
  {
   "cell_type": "markdown",
   "metadata": {},
   "source": [
    "### [5.3] Applying TNSE on Text Avg W2V vectors"
   ]
  },
  {
   "cell_type": "code",
   "execution_count": 76,
   "metadata": {},
   "outputs": [
    {
     "data": {
      "image/png": "[encoded data removed]",
      "text/plain": [
       "<Figure size 555.875x504 with 1 Axes>"
      ]
     },
     "metadata": {
      "needs_background": "light"
     },
     "output_type": "display_data"
    }
   ],
   "source": [
    "import numpy as np\n",
    "import pandas as pd\n",
    "import matplotlib.pyplot as plt\n",
    "from sklearn.manifold import TSNE\n",
    "\n",
    "data = sent_vectors[:1000]\n",
    "labels = final['Score']\n",
    "label_y = labels[:1000]\n",
    "\n",
    "tsne_model = TSNE(n_components=2, perplexity=30, learning_rate=200)\n",
    "\n",
    "x_embedding = tsne_model.fit_transform(data)\n",
    "\n",
    "tsne_data = np.vstack((x_embedding.T,label_y)).T\n",
    "tsne_df = pd.DataFrame(data=tsne_data,columns=(\"Dim1\",\"Dim2\",\"Score\"))\n",
    "sns.FacetGrid(data=tsne_df, hue=\"Score\", height = 7)\\\n",
    "    .map(plt.scatter,\"Dim1\",\"Dim2\")\\\n",
    "    .add_legend()\n",
    "plt.show()"
   ]
  },
  {
   "cell_type": "markdown",
   "metadata": {},
   "source": [
    "### [5.4] Applying TNSE on Text TFIDF weighted W2V vectors"
   ]
  },
  {
   "cell_type": "code",
   "execution_count": 77,
   "metadata": {},
   "outputs": [
    {
     "data": {
      "image/png": "[encoded data removed]",
      "text/plain": [
       "<Figure size 555.875x504 with 1 Axes>"
      ]
     },
     "metadata": {
      "needs_background": "light"
     },
     "output_type": "display_data"
    }
   ],
   "source": [
    "import numpy as np\n",
    "import pandas as pd\n",
    "from sklearn.manifold import TSNE\n",
    "import matplotlib.pyplot as plt\n",
    "\n",
    "data = tfidf_sent_vectors[:1000]\n",
    "label = final['Score']\n",
    "label_y = label[:1000]\n",
    "\n",
    "tsne_model = TSNE(n_components=2, perplexity=50, learning_rate=200)\n",
    "\n",
    "x_embedding = tsne_model.fit_transform(data)\n",
    "\n",
    "tsne_data = np.vstack((x_embedding.T, label_y)).T\n",
    "\n",
    "tsne_df = pd.DataFrame(data=tsne_data,columns=(\"Dim1\",\"Dim2\",\"Score\"))\n",
    "\n",
    "sns.FacetGrid(data=tsne_df, hue=\"Score\", height=7)\\\n",
    "    .map(plt.scatter,\"Dim1\",\"Dim2\")\\\n",
    "    .add_legend()\n",
    "plt.show()\n"
   ]
  },
  {
   "cell_type": "code",
   "execution_count": null,
   "metadata": {},
   "outputs": [],
   "source": []
  }
 ],
 "metadata": {
  "kernelspec": {
   "display_name": "Python 3",
   "language": "python",
   "name": "python3"
  },
  "language_info": {
   "codemirror_mode": {
    "name": "ipython",
    "version": 3
   },
   "file_extension": ".py",
   "mimetype": "text/x-python",
   "name": "python",
   "nbconvert_exporter": "python",
   "pygments_lexer": "ipython3",
   "version": "3.7.1"
  }
 },
 "nbformat": 4,
 "nbformat_minor": 2
}
