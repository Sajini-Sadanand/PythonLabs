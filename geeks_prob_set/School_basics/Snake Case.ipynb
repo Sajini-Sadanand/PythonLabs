{
 "cells": [
  {
   "cell_type": "markdown",
   "metadata": {},
   "source": [
    "# Snake Case"
   ]
  },
  {
   "cell_type": "markdown",
   "metadata": {},
   "source": [
    "    Given a Sentence S of length N containing only english alphabet characters, your task is to write a program that converts the given sentence to Snake Case sentence. Snake case is the practice of writing compound words or phrases in which the elements are separated with one underscore character (_) and no spaces, with each element's initial letter usually lowercased within the compound and the first letter either upper or lower caseasentence. For ease keep all the characters in lower case.\n",
    "\n",
    "    Input:\n",
    "    First line of the input contains an integer T, denoting the number of test cases. Then T test case follows. First line of each test case contains an integer N denoting the length of the sentence (including spaces). Then next line contains the N length sentence S containing only english alphabets.\n",
    "\n",
    "\n",
    "    Output:\n",
    "    For each test case output the resultant sentence in snake case on a new line.\n",
    "\n",
    "\n",
    "    Constraints:\n",
    "    1<=T<=103\n",
    "    1<=N<=103\n",
    "\n",
    "    Example:\n",
    "    Input:\n",
    "    2\n",
    "    14\n",
    "    Geeks ForGeeks\n",
    "    21\n",
    "    Here comes the garden\n",
    "    Output:\n",
    "    geeks_forgeeks\n",
    "    here_comes_the_garden"
   ]
  },
  {
   "cell_type": "code",
   "execution_count": 7,
   "metadata": {},
   "outputs": [
    {
     "name": "stdout",
     "output_type": "stream",
     "text": [
      "206\n",
      "1\n",
      "206\n",
      "  keh_taxkumbsdsochmkdbrgyrsizvcofrucglqrwgb_lasobdtemmcpzlfzazifmtgfolwi_pbiavuhuhfcgxfizwgdtllezvdqjcsvhxdipzsgo_qbxljrfrtut_ezrcaxgkdl_yzbdpurijhjntbjffooxxrjvcfvdqos_fgsrdyfeyux_yewsrnubfbbcucfogrisqckp\n",
      "keh_taxkumbsdsochmkdbrgyrsizvcofrucglqrwgb_lasobdtemmcpzlfzazifmtgfolwi_pbiavuhuhfcgxfizwgdtllezvdqjcsvhxdipzsgo_qbxljrfrtut_ezrcaxgkdl_yzbdpurijhjntbjffooxxrjvcfvdqos_fgsrdyfeyux_yewsrnubfbbcucfogrisqckp\n"
     ]
    }
   ],
   "source": [
    "print(len(\"  keh_taxkumbsdsochmkdbrgyrsizvcofrucglqrwgb_lasobdtemmcpzlfzazifmtgfolwi_pbiavuhuhfcgxfizwgdtllezvdqjcsvhxdipzsgo_qbxljrfrtut_ezrcaxgkdl_yzbdpurijhjntbjffooxxrjvcfvdqos_fgsrdyfeyux_yewsrnubfbbcucfogrisqckp\"))\n",
    "for i in range(int(input())):\n",
    "    n = int(input())\n",
    "    s = list(str.lower(input()))\n",
    "    new_str = \"\"\n",
    "    temp_ = \"\"\n",
    "    for i in range(n):\n",
    "        if((\" \" in s[i])):\n",
    "            temp_ += \"_\"\n",
    "        else:\n",
    "            if(len(new_str)>0):\n",
    "                new_str += temp_\n",
    "            temp_ =\"\"\n",
    "            new_str += s[i]\n",
    "            \n",
    "    print(new_str)"
   ]
  },
  {
   "cell_type": "code",
   "execution_count": null,
   "metadata": {},
   "outputs": [],
   "source": []
  },
  {
   "cell_type": "code",
   "execution_count": null,
   "metadata": {},
   "outputs": [],
   "source": []
  }
 ],
 "metadata": {
  "kernelspec": {
   "display_name": "Python 3",
   "language": "python",
   "name": "python3"
  },
  "language_info": {
   "codemirror_mode": {
    "name": "ipython",
    "version": 3
   },
   "file_extension": ".py",
   "mimetype": "text/x-python",
   "name": "python",
   "nbconvert_exporter": "python",
   "pygments_lexer": "ipython3",
   "version": "3.6.7"
  }
 },
 "nbformat": 4,
 "nbformat_minor": 2
}
