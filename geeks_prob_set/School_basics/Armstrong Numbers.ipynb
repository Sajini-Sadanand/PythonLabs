{
 "cells": [
  {
   "cell_type": "markdown",
   "metadata": {},
   "source": [
    "### Armstrong Numbers"
   ]
  },
  {
   "cell_type": "markdown",
   "metadata": {},
   "source": [
    "    For a given 3 digit number, find whether it is armstrong number or not. An Armstrong number of three digits is an integer such that the sum of the cubes of its digits is equal to the number itself. For example, 371 is an Armstrong number since 33 + 73 + 13 = 371\n",
    "\n",
    "    Input:\n",
    "    First line contains an integer, the number of test cases 'T'. T testcases follow. Each test case contains a positive integer N.\n",
    "\n",
    "    Output:\n",
    "    For each testcase, in a new line, print \"Yes\" if it is a armstrong number else print \"No\".\n",
    "\n",
    "    Constraints:\n",
    "    1 <= T <= 31\n",
    "    100 <= N < 1000\n",
    "\n",
    "    Example:\n",
    "    Input:\n",
    "    1\n",
    "    371\n",
    "    Output:\n",
    "    Yes"
   ]
  },
  {
   "cell_type": "code",
   "execution_count": 1,
   "metadata": {},
   "outputs": [
    {
     "name": "stdout",
     "output_type": "stream",
     "text": [
      "Collecting numpy\n",
      "\u001b[?25l  Downloading https://files.pythonhosted.org/packages/35/d5/4f8410ac303e690144f0a0603c4b8fd3b986feb2749c435f7cdbb288f17e/numpy-1.16.2-cp36-cp36m-manylinux1_x86_64.whl (17.3MB)\n",
      "\u001b[K    100% |████████████████████████████████| 17.3MB 502kB/s eta 0:00:01\n",
      "\u001b[?25hInstalling collected packages: numpy\n",
      "Successfully installed numpy-1.16.2\n"
     ]
    }
   ],
   "source": [
    "# to install numpy\n",
    "import sys\n",
    "!{sys.executable} -m pip install numpy"
   ]
  },
  {
   "cell_type": "code",
   "execution_count": 3,
   "metadata": {},
   "outputs": [
    {
     "name": "stdout",
     "output_type": "stream",
     "text": [
      "1\n",
      "371\n",
      "Yes\n"
     ]
    }
   ],
   "source": [
    "import numpy as np\n",
    "from functools import reduce \n",
    "\n",
    "def cubesum(num):\n",
    "    lst = []\n",
    "    checkNum = num\n",
    "    while(checkNum > 0):\n",
    "        lst.append(checkNum % 10)\n",
    "        checkNum = checkNum // 10    \n",
    "    n = len(lst)\n",
    "    nLst = np.array(list(map(lambda x: x ** n,lst)))\n",
    "    y = np.sum(nLst)\n",
    "    return y\n",
    "\n",
    "def isArmStrong(num):\n",
    "    if(num == cubesum(num)):\n",
    "        return True\n",
    "    return False\n",
    "    \n",
    "# def PrintArmstrong(numLst):\n",
    "#     for i in numLst:\n",
    "#         if(isArmStrong(i)):\n",
    "#             print(i)\n",
    "\n",
    "def PrintArmstrong(num):\n",
    "    if(isArmStrong(num)):\n",
    "        print(\"Yes\")\n",
    "    else:\n",
    "        print(\"No\")\n",
    "\n",
    "# num = int(input(\"Enter a number: \"))\n",
    "t = int(input())\n",
    "for i in range(t):\n",
    "    num = int(input())\n",
    "    PrintArmstrong(num)"
   ]
  },
  {
   "cell_type": "code",
   "execution_count": null,
   "metadata": {},
   "outputs": [],
   "source": []
  }
 ],
 "metadata": {
  "kernelspec": {
   "display_name": "Python 3",
   "language": "python",
   "name": "python3"
  },
  "language_info": {
   "codemirror_mode": {
    "name": "ipython",
    "version": 3
   },
   "file_extension": ".py",
   "mimetype": "text/x-python",
   "name": "python",
   "nbconvert_exporter": "python",
   "pygments_lexer": "ipython3",
   "version": "3.6.7"
  }
 },
 "nbformat": 4,
 "nbformat_minor": 2
}
