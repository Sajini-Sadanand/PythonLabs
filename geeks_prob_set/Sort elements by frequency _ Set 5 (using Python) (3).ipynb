{
 "cells": [
  {
   "cell_type": "markdown",
   "metadata": {},
   "source": [
    "## Sort elements by frequency | Set 5 (using Python)"
   ]
  },
  {
   "cell_type": "code",
   "execution_count": null,
   "metadata": {},
   "outputs": [],
   "source": [
    "# https://stackoverflow.com/a/25815418/3409734\n",
    "\n",
    "l = [1,2,3,4,3,3,3,6,7,1,1,9,3,2]\n",
    "\n",
    "print(sorted(l,key=l.count,reverse=True))\n"
   ]
  },
  {
   "cell_type": "code",
   "execution_count": 16,
   "metadata": {},
   "outputs": [
    {
     "name": "stdout",
     "output_type": "stream",
     "text": [
      "Unique value list: [1, 2, 3, 4, 6, 7, 9]\n",
      "Unsorted dictionary: {0: 3, 1: 2, 2: 5, 3: 1, 4: 2, 5: 2, 6: 2}\n",
      "Sorted dictionary based on values: {2: 5, 0: 3, 1: 2, 4: 2, 5: 2, 6: 2, 3: 1}\n",
      "[3, 3, 3, 3, 3, 1, 1, 1, 2, 2, 6, 6, 7, 7, 9, 9, 4]\n"
     ]
    }
   ],
   "source": [
    "l = [1,2,3,4,3,3,3,6,7,1,1,9,3,2,9,6,7]\n",
    "\n",
    "# unique set of sorted elements to get the proper index value\n",
    "new_lst = sorted(list(set(l)))\n",
    "print(\"Unique value list:\",new_lst)\n",
    "\n",
    "# creating a dictionary with index as key and value as count\n",
    "# index is used so that if the frequency is same for multiple elements, it gets sorted based on index value\n",
    "new_dict = {}\n",
    "for i in new_lst:\n",
    "    new_dict[new_lst.index(i)] = l.count(i)\n",
    "    \n",
    "print(\"Unsorted dictionary:\",new_dict)\n",
    "\n",
    "# sorting the dictionary using lambda and with values and in decsending order\n",
    "sorted_by_value = sorted(new_dict.items(), key=lambda kv: kv[1], reverse = True)\n",
    "new_s_dict = dict(sorted_by_value)\n",
    "print(\"Sorted dictionary based on values:\",new_s_dict)\n",
    "\n",
    "new_f_lst = []\n",
    "    \n",
    "for k,v in new_s_dict.items():\n",
    "#     iterating the element for n times\n",
    "    lst =[new_lst[k],]*v\n",
    "    \n",
    "#     adding the elements to the new list\n",
    "    new_f_lst.extend(lst)\n",
    "    \n",
    "print(new_f_lst)\n",
    "    \n"
   ]
  },
  {
   "cell_type": "code",
   "execution_count": null,
   "metadata": {},
   "outputs": [],
   "source": []
  }
 ],
 "metadata": {
  "kernelspec": {
   "display_name": "Python 3",
   "language": "python",
   "name": "python3"
  },
  "language_info": {
   "codemirror_mode": {
    "name": "ipython",
    "version": 3
   },
   "file_extension": ".py",
   "mimetype": "text/x-python",
   "name": "python",
   "nbconvert_exporter": "python",
   "pygments_lexer": "ipython3",
   "version": "3.6.7"
  }
 },
 "nbformat": 4,
 "nbformat_minor": 2
}
