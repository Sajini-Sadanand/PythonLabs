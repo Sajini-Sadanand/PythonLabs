{
 "cells": [
  {
   "cell_type": "markdown",
   "metadata": {},
   "source": [
    "## Sort elements by frequency | Set 5 (using Python)"
   ]
  },
  {
   "cell_type": "code",
   "execution_count": null,
   "metadata": {},
   "outputs": [],
   "source": [
    "# https://stackoverflow.com/a/25815418/3409734\n",
    "\n",
    "l = [1,2,3,4,3,3,3,6,7,1,1,9,3,2]\n",
    "\n",
    "print(sorted(l,key=l.count,reverse=True))\n"
   ]
  },
  {
   "cell_type": "code",
   "execution_count": 16,
   "metadata": {},
   "outputs": [
    {
     "name": "stdout",
     "output_type": "stream",
     "text": [
      "Unique value list: [1, 2, 3, 4, 6, 7, 9]\n",
      "Unsorted dictionary: {0: 3, 1: 2, 2: 5, 3: 1, 4: 2, 5: 2, 6: 2}\n",
      "Sorted dictionary based on values: {2: 5, 0: 3, 1: 2, 4: 2, 5: 2, 6: 2, 3: 1}\n",
      "[3, 3, 3, 3, 3, 1, 1, 1, 2, 2, 6, 6, 7, 7, 9, 9, 4]\n"
     ]
    }
   ],
   "source": [
    "l = [1,2,3,4,3,3,3,6,7,1,1,9,3,2,9,6,7]\n",
    "\n",
    "# unique set of sorted elements to get the proper index value\n",
    "new_lst = sorted(list(set(l)))\n",
    "print(\"Unique value list:\",new_lst)\n",
    "\n",
    "# creating a dictionary with index as key and value as count\n",
    "# index is used so that if the frequency is same for multiple elements, it gets sorted based on index value\n",
    "new_dict = {}\n",
    "for i in new_lst:\n",
    "    new_dict[new_lst.index(i)] = l.count(i)\n",
    "    \n",
    "print(\"Unsorted dictionary:\",new_dict)\n",
    "\n",
    "# sorting the dictionary using lambda and with values and in decsending order\n",
    "sorted_by_value = sorted(new_dict.items(), key=lambda kv: kv[1], reverse = True)\n",
    "new_s_dict = dict(sorted_by_value)\n",
    "print(\"Sorted dictionary based on values:\",new_s_dict)\n",
    "\n",
    "new_f_lst = []\n",
    "    \n",
    "for k,v in new_s_dict.items():\n",
    "#     iterating the element for n times\n",
    "    lst =[new_lst[k],]*v\n",
    "    \n",
    "#     adding the elements to the new list\n",
    "    new_f_lst.extend(lst)\n",
    "    \n",
    "print(new_f_lst)\n",
    "    \n"
   ]
  },
  {
   "cell_type": "markdown",
   "metadata": {},
   "source": [
    "## Example 2"
   ]
  },
  {
   "cell_type": "markdown",
   "metadata": {},
   "source": [
    "    Input 5  2  2  8  5  6  8  8\n",
    "\n",
    "      After sorting we get\n",
    "      Element 2 2 5 5 6 8 8 8\n",
    "      Index   1 2 0 4 5 3 6 7\n",
    "\n",
    "      Now construct the 2D array as\n",
    "      Index, Count\n",
    "      1,      2\n",
    "      0,      2\n",
    "      5,      1\n",
    "      3,      3\n",
    "\n",
    "      Sort by count (consider indexes in case of tie)\n",
    "      3, 3\n",
    "      0, 2\n",
    "      1, 2\n",
    "      5, 1\n",
    "\n",
    "      Print the elements using indexes in the above 2D array."
   ]
  },
  {
   "cell_type": "code",
   "execution_count": 4,
   "metadata": {},
   "outputs": [
    {
     "name": "stdout",
     "output_type": "stream",
     "text": [
      "[[0, 3], [1, 2], [2, 5], [3, 1], [4, 2], [5, 2], [6, 2]]\n",
      "[[2, 5], [0, 3], [1, 2], [4, 2], [5, 2], [6, 2], [3, 1]]\n",
      "[3, 3, 3, 3, 3, 1, 1, 1, 2, 2, 6, 6, 7, 7, 9, 9, 4]\n"
     ]
    }
   ],
   "source": [
    "l = [1,2,3,4,3,3,3,6,7,1,1,9,3,2,9,6,7]\n",
    "\n",
    "unique_val_last = sorted(list(set(l)))\n",
    "\n",
    "new_lst = []\n",
    "\n",
    "for i in unique_val_last:\n",
    "    lst = [unique_val_last.index(i),l.count(i)]\n",
    "    new_lst.append(lst)\n",
    "    \n",
    "print(new_lst)\n",
    "\n",
    "for i in range(len(new_lst)):\n",
    "    for j in range(i+1,len(new_lst)):\n",
    "        if(new_lst[i][1]<new_lst[j][1]):\n",
    "            swap_lst = new_lst[i]\n",
    "            new_lst[i]=new_lst[j]\n",
    "            new_lst[j] = swap_lst\n",
    "\n",
    "print(new_lst)\n",
    "\n",
    "sorted_feq = []\n",
    "for item in new_lst:\n",
    "    sorted_feq.extend([unique_val_last[item[0]],]*item[1])\n",
    "        \n",
    "print(sorted_feq)   "
   ]
  },
  {
   "cell_type": "code",
   "execution_count": null,
   "metadata": {},
   "outputs": [],
   "source": []
  }
 ],
 "metadata": {
  "kernelspec": {
   "display_name": "Python 3",
   "language": "python",
   "name": "python3"
  },
  "language_info": {
   "codemirror_mode": {
    "name": "ipython",
    "version": 3
   },
   "file_extension": ".py",
   "mimetype": "text/x-python",
   "name": "python",
   "nbconvert_exporter": "python",
   "pygments_lexer": "ipython3",
   "version": "3.6.7"
  }
 },
 "nbformat": 4,
 "nbformat_minor": 2
}
