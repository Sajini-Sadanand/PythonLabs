{
 "cells": [
  {
   "cell_type": "markdown",
   "metadata": {},
   "source": [
    "### Python while loop"
   ]
  },
  {
   "cell_type": "markdown",
   "metadata": {},
   "source": [
    "While loop in python is used to iterate a block of codes as long as the test expression holds true"
   ]
  },
  {
   "cell_type": "markdown",
   "metadata": {},
   "source": [
    "### Syntax\n",
    "    \n",
    "    while test expression:\n",
    "        Body of while"
   ]
  },
  {
   "cell_type": "markdown",
   "metadata": {},
   "source": [
    "The body of the loop is entered only if the test_expression evaluate to True.\n",
    "\n",
    "After one iteration the test expression is test again.\n",
    "\n",
    "This process continues until the test_expression evaluates to False."
   ]
  },
  {
   "cell_type": "code",
   "execution_count": 2,
   "metadata": {},
   "outputs": [
    {
     "name": "stdout",
     "output_type": "stream",
     "text": [
      "12000000\n"
     ]
    }
   ],
   "source": [
    "# find product of all the numbers present in list\n",
    "\n",
    "lst = [10,20,30,40,50]\n",
    "\n",
    "i = 0\n",
    "prod = 1\n",
    "while(i < len(lst)):\n",
    "    prod *= lst[i]\n",
    "    i += 1\n",
    "print(prod)"
   ]
  },
  {
   "cell_type": "markdown",
   "metadata": {},
   "source": [
    "### While loop with else"
   ]
  },
  {
   "cell_type": "markdown",
   "metadata": {},
   "source": [
    "Same as that of the for loop we can have an else block with while loop as well.\n",
    "\n",
    "The else part is executed if the condition in the while loop evaluates to False. The while loop can be terminated with a break statement.\n",
    "\n",
    "In such case, the else part is ignored. Hence a while loop the else part exequtes if no break statement occurs and the condition is false."
   ]
  },
  {
   "cell_type": "code",
   "execution_count": 1,
   "metadata": {},
   "outputs": [
    {
     "name": "stdout",
     "output_type": "stream",
     "text": [
      "1\n",
      "2\n",
      "3\n",
      "4\n",
      "5\n",
      "6\n",
      "7\n",
      "No items left\n"
     ]
    }
   ],
   "source": [
    "# iterating over the list\n",
    "numbers = [1,2,3,4,5,6,7]\n",
    "\n",
    "i = 0\n",
    "while(i < len(numbers)):\n",
    "    print(numbers[i])\n",
    "    i += 1\n",
    "else:\n",
    "    print(\"No items left\")"
   ]
  },
  {
   "cell_type": "markdown",
   "metadata": {},
   "source": [
    "### Python program to check if the given number is prime or not"
   ]
  },
  {
   "cell_type": "code",
   "execution_count": 5,
   "metadata": {},
   "outputs": [
    {
     "name": "stdout",
     "output_type": "stream",
     "text": [
      "Enter a number13\n",
      "13 is a prime number\n"
     ]
    }
   ],
   "source": [
    "num = int(input(\"Enter a number\"))\n",
    "\n",
    "i = 3\n",
    "while(i < abs(num)):\n",
    "    if(num%i == 0):\n",
    "        print(\"{} not a prime number\".format(num))\n",
    "        break;\n",
    "    i += 1\n",
    "else:\n",
    "    print(\"{} is a prime number\".format(num))\n"
   ]
  },
  {
   "cell_type": "code",
   "execution_count": null,
   "metadata": {},
   "outputs": [],
   "source": [
    "num = int(input(\"Enter a number\"))\n",
    "\n",
    "i = 3\n",
    "isDivisible = False\n",
    "while(i < abs(num)):\n",
    "    if(num % i == 0):\n",
    "        print(\"{} is divisible by {}\".format(num,i))\n",
    "        isDivisible = True\n",
    "    i += 1\n",
    "    \n",
    "if(isDivisble):\n",
    "    print(\"{} is not a prime number\".format())"
   ]
  }
 ],
 "metadata": {
  "kernelspec": {
   "display_name": "Python 3",
   "language": "python",
   "name": "python3"
  },
  "language_info": {
   "codemirror_mode": {
    "name": "ipython",
    "version": 3
   },
   "file_extension": ".py",
   "mimetype": "text/x-python",
   "name": "python",
   "nbconvert_exporter": "python",
   "pygments_lexer": "ipython3",
   "version": "3.7.1"
  }
 },
 "nbformat": 4,
 "nbformat_minor": 2
}
