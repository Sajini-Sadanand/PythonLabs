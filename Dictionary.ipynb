{
 "cells": [
  {
   "cell_type": "markdown",
   "metadata": {},
   "source": [
    "### Dictionary"
   ]
  },
  {
   "cell_type": "markdown",
   "metadata": {},
   "source": [
    "Python dictionary is an unordered collectionof items\n",
    "\n",
    "The other datatype has values as collection, dictionary has key:value pair as collection"
   ]
  },
  {
   "cell_type": "markdown",
   "metadata": {},
   "source": [
    "### Dict creation"
   ]
  },
  {
   "cell_type": "code",
   "execution_count": 2,
   "metadata": {},
   "outputs": [
    {
     "name": "stdout",
     "output_type": "stream",
     "text": [
      "<class 'dict'>\n",
      "{1: 'abc', 2: 'xyz'}\n",
      "{'name': 'satish', 1: ['abc', 'xyz']}\n",
      "{'a': 'apple', 'b': 'ball', 'c': 'cat'}\n"
     ]
    }
   ],
   "source": [
    "# empty dictionary\n",
    "mydict = {}\n",
    "print(type(mydict))\n",
    "\n",
    "# dictionary with integer keys\n",
    "mydict = {1:\"abc\",2:\"xyz\"}\n",
    "print(mydict)\n",
    "\n",
    "# dictionary with mixed elements\n",
    "my_dict = {'name':'satish',1:['abc','xyz']}\n",
    "print(my_dict)\n",
    "\n",
    "# create empty dictionary using dict\n",
    "my_dict = dict()\n",
    "\n",
    "# create a dict with list of tuples\n",
    "my_dict = dict([('a','apple'),('b','ball'),('c','cat')])\n",
    "print(my_dict)"
   ]
  },
  {
   "cell_type": "markdown",
   "metadata": {},
   "source": [
    "### Dict access"
   ]
  },
  {
   "cell_type": "code",
   "execution_count": 3,
   "metadata": {},
   "outputs": [
    {
     "name": "stdout",
     "output_type": "stream",
     "text": [
      "satish\n"
     ]
    }
   ],
   "source": [
    "my_dict = {'name':'satish','age':27,'address':'guntur'}\n",
    "print(my_dict['name'])"
   ]
  },
  {
   "cell_type": "code",
   "execution_count": 4,
   "metadata": {},
   "outputs": [
    {
     "ename": "KeyError",
     "evalue": "'degree'",
     "output_type": "error",
     "traceback": [
      "\u001b[1;31m---------------------------------------------------------------------------\u001b[0m",
      "\u001b[1;31mKeyError\u001b[0m                                  Traceback (most recent call last)",
      "\u001b[1;32m<ipython-input-4-a6e3e40f1a00>\u001b[0m in \u001b[0;36m<module>\u001b[1;34m\u001b[0m\n\u001b[0;32m      1\u001b[0m \u001b[1;31m# if key is not present, it gives KeyError\u001b[0m\u001b[1;33m\u001b[0m\u001b[1;33m\u001b[0m\u001b[1;33m\u001b[0m\u001b[0m\n\u001b[1;32m----> 2\u001b[1;33m \u001b[0mprint\u001b[0m\u001b[1;33m(\u001b[0m\u001b[0mmy_dict\u001b[0m\u001b[1;33m[\u001b[0m\u001b[1;34m'degree'\u001b[0m\u001b[1;33m]\u001b[0m\u001b[1;33m)\u001b[0m\u001b[1;33m\u001b[0m\u001b[1;33m\u001b[0m\u001b[0m\n\u001b[0m",
      "\u001b[1;31mKeyError\u001b[0m: 'degree'"
     ]
    }
   ],
   "source": [
    "# if key is not present, it gives KeyError\n",
    "print(my_dict['degree'])"
   ]
  },
  {
   "cell_type": "code",
   "execution_count": 5,
   "metadata": {},
   "outputs": [
    {
     "name": "stdout",
     "output_type": "stream",
     "text": [
      "guntur\n"
     ]
    }
   ],
   "source": [
    "# another way of accessing key\n",
    "print(my_dict.get('address'))"
   ]
  },
  {
   "cell_type": "markdown",
   "metadata": {},
   "source": [
    "### Dict Add or Modify elements"
   ]
  },
  {
   "cell_type": "code",
   "execution_count": 6,
   "metadata": {},
   "outputs": [
    {
     "name": "stdout",
     "output_type": "stream",
     "text": [
      "Before Modification\n",
      "{'name': 'satish', 'age': 27, 'address': 'guntur'}\n",
      "After Modification\n",
      "{'name': 'RAJU', 'age': 27, 'address': 'guntur'}\n"
     ]
    }
   ],
   "source": [
    "my_dict = {'name':'satish','age':27,'address':'guntur'}\n",
    "print(\"Before Modification\")\n",
    "print(my_dict)\n",
    "my_dict['name'] = 'RAJU'\n",
    "print(\"After Modification\")\n",
    "print(my_dict)"
   ]
  },
  {
   "cell_type": "code",
   "execution_count": 7,
   "metadata": {},
   "outputs": [
    {
     "name": "stdout",
     "output_type": "stream",
     "text": [
      "{'name': 'RAJU', 'age': 27, 'address': 'guntur', 'degree': 'Msc.'}\n"
     ]
    }
   ],
   "source": [
    "# Add new key\n",
    "my_dict['degree']='Msc.'\n",
    "print(my_dict)"
   ]
  },
  {
   "cell_type": "markdown",
   "metadata": {},
   "source": [
    "### Dict Delete or Remove items"
   ]
  },
  {
   "cell_type": "code",
   "execution_count": 8,
   "metadata": {},
   "outputs": [
    {
     "name": "stdout",
     "output_type": "stream",
     "text": [
      "27\n",
      "{'name': 'satish', 'address': 'guntur'}\n"
     ]
    }
   ],
   "source": [
    "# create a dictionary\n",
    "my_dict = {'name':'satish','age':27,'address':'guntur'}\n",
    "# remove a particular item\n",
    "print(my_dict.pop('age'))\n",
    "\n",
    "print(my_dict)"
   ]
  },
  {
   "cell_type": "code",
   "execution_count": 9,
   "metadata": {},
   "outputs": [
    {
     "name": "stdout",
     "output_type": "stream",
     "text": [
      "{'name': 'satish', 'age': 27}\n"
     ]
    }
   ],
   "source": [
    "# create a dictionary\n",
    "my_dict = {'name':'satish','age':27,'address':'guntur'}\n",
    "# popitem() removes random key\n",
    "\n",
    "my_dict.popitem()\n",
    "\n",
    "print(my_dict)"
   ]
  },
  {
   "cell_type": "code",
   "execution_count": 11,
   "metadata": {},
   "outputs": [
    {
     "name": "stdout",
     "output_type": "stream",
     "text": [
      "before removing 3\n",
      "{2: 4, 3: 9, 4: 16, 5: 20, 6: 36, 7: 49, 8: 64, 9: 81}\n",
      "after removing 3\n",
      "{2: 4, 4: 16, 5: 20, 6: 36, 7: 49, 8: 64, 9: 81}\n"
     ]
    }
   ],
   "source": [
    "# delete a particular key\n",
    "\n",
    "sqr = {2:4,3:9,4:16,5:20,6:36,7:49,8:64,9:81}\n",
    "print(\"before removing 3\")\n",
    "print(sqr)\n",
    "\n",
    "del sqr[3]\n",
    "\n",
    "print(\"after removing 3\")\n",
    "print(sqr)"
   ]
  },
  {
   "cell_type": "code",
   "execution_count": 12,
   "metadata": {},
   "outputs": [
    {
     "name": "stdout",
     "output_type": "stream",
     "text": [
      "before clear\n",
      "{2: 4, 3: 9, 4: 16, 5: 20, 6: 36, 7: 49, 8: 64, 9: 81}\n",
      "{}\n"
     ]
    }
   ],
   "source": [
    "# remove all items\n",
    "sqr = {2:4,3:9,4:16,5:20,6:36,7:49,8:64,9:81}\n",
    "print(\"before clear\")\n",
    "print(sqr)\n",
    "\n",
    "sqr.clear()\n",
    "print(sqr)"
   ]
  },
  {
   "cell_type": "code",
   "execution_count": 13,
   "metadata": {},
   "outputs": [
    {
     "ename": "NameError",
     "evalue": "name 'sqr' is not defined",
     "output_type": "error",
     "traceback": [
      "\u001b[1;31m---------------------------------------------------------------------------\u001b[0m",
      "\u001b[1;31mNameError\u001b[0m                                 Traceback (most recent call last)",
      "\u001b[1;32m<ipython-input-13-a81e363fbe59>\u001b[0m in \u001b[0;36m<module>\u001b[1;34m\u001b[0m\n\u001b[0;32m      3\u001b[0m \u001b[1;32mdel\u001b[0m \u001b[0msqr\u001b[0m\u001b[1;33m\u001b[0m\u001b[1;33m\u001b[0m\u001b[0m\n\u001b[0;32m      4\u001b[0m \u001b[1;33m\u001b[0m\u001b[0m\n\u001b[1;32m----> 5\u001b[1;33m \u001b[0mprint\u001b[0m\u001b[1;33m(\u001b[0m\u001b[0msqr\u001b[0m\u001b[1;33m)\u001b[0m\u001b[1;33m\u001b[0m\u001b[1;33m\u001b[0m\u001b[0m\n\u001b[0m",
      "\u001b[1;31mNameError\u001b[0m: name 'sqr' is not defined"
     ]
    }
   ],
   "source": [
    "# delete dictionary itself\n",
    "sqr = {2:4,3:9,4:16,5:20,6:36,7:49,8:64,9:81}\n",
    "del sqr\n",
    "\n",
    "print(sqr)"
   ]
  },
  {
   "cell_type": "markdown",
   "metadata": {},
   "source": [
    "### Dictionary Methods"
   ]
  },
  {
   "cell_type": "code",
   "execution_count": 16,
   "metadata": {},
   "outputs": [
    {
     "name": "stdout",
     "output_type": "stream",
     "text": [
      "{2: 4, 3: 9, 4: 16, 5: 25}\n",
      "{2: 4, 3: 9, 4: 16, 5: 25}\n",
      "{2: 4, 3: 9, 4: 16, 5: 25, 6: 36}\n"
     ]
    }
   ],
   "source": [
    "squares = {2: 4, 3: 9, 4: 16, 5: 25}\n",
    "my_dict = squares.copy()\n",
    "\n",
    "print(my_dict)\n",
    "\n",
    "new_dict = my_dict\n",
    "print(new_dict)\n",
    "\n",
    "my_dict[6] = 36\n",
    "# though we have not added 6 in new_dict, the value still appears on new_dict\n",
    "# this is because my_dict and new_dict shares the same memory location\n",
    "print(new_dict)"
   ]
  },
  {
   "cell_type": "code",
   "execution_count": 17,
   "metadata": {},
   "outputs": [
    {
     "name": "stdout",
     "output_type": "stream",
     "text": [
      "{'Maths': 100, 'English': 100, 'Science': 100}\n"
     ]
    }
   ],
   "source": [
    "# use of fromkey\n",
    "my_dict = {}.fromkeys(['Maths','English','Science'],100)\n",
    "print(my_dict)"
   ]
  },
  {
   "cell_type": "code",
   "execution_count": 18,
   "metadata": {},
   "outputs": [
    {
     "name": "stdout",
     "output_type": "stream",
     "text": [
      "dict_items([('Maths', 100), ('English', 100), ('Science', 100)])\n"
     ]
    }
   ],
   "source": [
    "subjects = {'Maths': 100, 'English': 100, 'Science': 100}\n",
    "# returns a new view of the dictionary items\n",
    "print(subjects.items())"
   ]
  },
  {
   "cell_type": "code",
   "execution_count": 19,
   "metadata": {},
   "outputs": [
    {
     "name": "stdout",
     "output_type": "stream",
     "text": [
      "dict_keys(['Maths', 'English', 'Science'])\n"
     ]
    }
   ],
   "source": [
    "subjects = {'Maths': 100, 'English': 100, 'Science': 100}\n",
    "\n",
    "print(subjects.keys())"
   ]
  },
  {
   "cell_type": "code",
   "execution_count": 20,
   "metadata": {},
   "outputs": [
    {
     "name": "stdout",
     "output_type": "stream",
     "text": [
      "['__class__', '__contains__', '__delattr__', '__delitem__', '__dir__', '__doc__', '__eq__', '__format__', '__ge__', '__getattribute__', '__getitem__', '__gt__', '__hash__', '__init__', '__init_subclass__', '__iter__', '__le__', '__len__', '__lt__', '__ne__', '__new__', '__reduce__', '__reduce_ex__', '__repr__', '__setattr__', '__setitem__', '__sizeof__', '__str__', '__subclasshook__', 'clear', 'copy', 'fromkeys', 'get', 'items', 'keys', 'pop', 'popitem', 'setdefault', 'update', 'values']\n"
     ]
    }
   ],
   "source": [
    "# get the list of all the available methods and attributes of dictionary\n",
    "d = {}\n",
    "print(dir(d))"
   ]
  },
  {
   "cell_type": "markdown",
   "metadata": {},
   "source": [
    "### Dictionary Comprehension"
   ]
  },
  {
   "cell_type": "code",
   "execution_count": 22,
   "metadata": {},
   "outputs": [
    {
     "name": "stdout",
     "output_type": "stream",
     "text": [
      "(1, 'a')\n",
      "(2, 'b')\n",
      "(3, 'c')\n",
      "(4, 'd')\n"
     ]
    }
   ],
   "source": [
    "# Dictionary comprehensions are like list comprehensions\n",
    "\n",
    "d = {1:'a',2:'b',3:'c',4:'d'}\n",
    "for i in d.items():\n",
    "    print(i)"
   ]
  },
  {
   "cell_type": "code",
   "execution_count": 25,
   "metadata": {},
   "outputs": [
    {
     "name": "stdout",
     "output_type": "stream",
     "text": [
      "{3: 'c', 4: 'd'}\n"
     ]
    }
   ],
   "source": [
    "# Dictionary comprehensions\n",
    "d = {1:'a',2:'b',3:'c',4:'d'}\n",
    "\n",
    "new_d = {k:v for k,v in d.items()if(v>'b')}\n",
    "print(new_d)"
   ]
  },
  {
   "cell_type": "code",
   "execution_count": null,
   "metadata": {},
   "outputs": [],
   "source": []
  }
 ],
 "metadata": {
  "kernelspec": {
   "display_name": "Python 3",
   "language": "python",
   "name": "python3"
  },
  "language_info": {
   "codemirror_mode": {
    "name": "ipython",
    "version": 3
   },
   "file_extension": ".py",
   "mimetype": "text/x-python",
   "name": "python",
   "nbconvert_exporter": "python",
   "pygments_lexer": "ipython3",
   "version": "3.7.1"
  }
 },
 "nbformat": 4,
 "nbformat_minor": 2
}
