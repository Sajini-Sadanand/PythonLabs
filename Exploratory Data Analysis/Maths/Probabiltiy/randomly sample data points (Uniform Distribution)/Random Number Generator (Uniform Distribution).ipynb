{
 "cells": [
  {
   "cell_type": "markdown",
   "metadata": {},
   "source": [
    "### Random Number Generator (Uniform Distribution)"
   ]
  },
  {
   "cell_type": "code",
   "execution_count": 1,
   "metadata": {},
   "outputs": [
    {
     "name": "stdout",
     "output_type": "stream",
     "text": [
      "Requirement already satisfied: scikit-learn in /srv/conda/lib/python3.7/site-packages (0.20.3)\n",
      "Requirement already satisfied: numpy>=1.8.2 in /srv/conda/lib/python3.7/site-packages (from scikit-learn) (1.16.2)\n",
      "Requirement already satisfied: scipy>=0.13.3 in /srv/conda/lib/python3.7/site-packages (from scikit-learn) (1.2.1)\n"
     ]
    }
   ],
   "source": [
    "import sys\n",
    "!{sys.executable} -m pip install scikit-learn"
   ]
  },
  {
   "cell_type": "code",
   "execution_count": 2,
   "metadata": {},
   "outputs": [
    {
     "name": "stdout",
     "output_type": "stream",
     "text": [
      "0.34575587722890166\n"
     ]
    }
   ],
   "source": [
    "import random\n",
    "print(random.random())"
   ]
  },
  {
   "cell_type": "code",
   "execution_count": 3,
   "metadata": {},
   "outputs": [
    {
     "data": {
      "text/plain": [
       "(150, 4)"
      ]
     },
     "execution_count": 3,
     "metadata": {},
     "output_type": "execute_result"
    }
   ],
   "source": [
    "from sklearn import datasets\n",
    "iris = datasets.load_iris()\n",
    "d = iris.data\n",
    "d.shape"
   ]
  },
  {
   "cell_type": "code",
   "execution_count": 4,
   "metadata": {},
   "outputs": [
    {
     "name": "stdout",
     "output_type": "stream",
     "text": [
      "0.2\n",
      "32\n"
     ]
    }
   ],
   "source": [
    "# Sample 30 points from the 150 point dataset\n",
    "\n",
    "population = 150\n",
    "sample = 30\n",
    "\n",
    "# So from 0 - 1, 30 points of 150 is 0.2%\n",
    "\n",
    "limit = sample/population\n",
    "print(limit)\n",
    "\n",
    "data_sample = []\n",
    "\n",
    "for i in range(population):\n",
    "    a = random.random()\n",
    "    if a <= limit:\n",
    "        data_sample.append(a)\n",
    "print(len(data_sample))"
   ]
  },
  {
   "cell_type": "code",
   "execution_count": 28,
   "metadata": {},
   "outputs": [
    {
     "name": "stdout",
     "output_type": "stream",
     "text": [
      "(150, 4)\n",
      "[[5.1 3.8 1.9 0.4]\n",
      " [4.5 2.3 1.3 0.3]\n",
      " [4.8 3.  1.4 0.3]\n",
      " [5.  3.2 1.2 0.2]\n",
      " [5.2 4.1 1.5 0.1]\n",
      " [5.9 3.  4.2 1.5]\n",
      " [6.3 2.3 4.4 1.3]\n",
      " [5.  3.4 1.5 0.2]\n",
      " [4.9 2.4 3.3 1. ]\n",
      " [5.7 3.  4.2 1.2]\n",
      " [6.4 3.2 4.5 1.5]\n",
      " [6.1 3.  4.9 1.8]\n",
      " [6.8 3.  5.5 2.1]\n",
      " [5.5 2.3 4.  1.3]\n",
      " [5.5 2.5 4.  1.3]\n",
      " [7.2 3.  5.8 1.6]\n",
      " [5.4 3.9 1.3 0.4]\n",
      " [6.4 3.1 5.5 1.8]\n",
      " [5.7 2.6 3.5 1. ]\n",
      " [5.2 2.7 3.9 1.4]\n",
      " [5.4 3.4 1.7 0.2]\n",
      " [6.8 2.8 4.8 1.4]\n",
      " [4.6 3.6 1.  0.2]\n",
      " [6.  3.4 4.5 1.6]\n",
      " [4.8 3.4 1.9 0.2]\n",
      " [6.8 3.2 5.9 2.3]\n",
      " [5.  3.4 1.6 0.4]\n",
      " [7.9 3.8 6.4 2. ]\n",
      " [6.4 2.8 5.6 2.2]\n",
      " [5.5 2.4 3.8 1.1]]\n"
     ]
    }
   ],
   "source": [
    "# with sample dataset\n",
    "from sklearn import datasets\n",
    "\n",
    "population = datasets.load_iris()\n",
    "data = population.data\n",
    "print(data.shape)\n",
    "\n",
    "n,sample_size = len(data),30\n",
    "\n",
    "sample = data[:30,:] # This also contains data, but what we want is random collection of data uniformly distributed, \n",
    "# so we will replace some and add some and the main fact here is we are having exact 30 values randomly generated\n",
    "\n",
    "for i in range(31,n):\n",
    "    k = random.randint(0,i)\n",
    "    if(k < sample_size):\n",
    "        sample[k] = data[i]\n",
    "print(sample)"
   ]
  },
  {
   "cell_type": "code",
   "execution_count": 17,
   "metadata": {},
   "outputs": [
    {
     "data": {
      "text/plain": [
       "30"
      ]
     },
     "execution_count": 17,
     "metadata": {},
     "output_type": "execute_result"
    }
   ],
   "source": [
    "len(sample)"
   ]
  },
  {
   "cell_type": "code",
   "execution_count": 26,
   "metadata": {},
   "outputs": [
    {
     "name": "stdout",
     "output_type": "stream",
     "text": [
      "[[6.8 3.2 5.9 2.3]\n",
      " [4.9 3.  1.4 0.2]\n",
      " [6.7 3.3 5.7 2.1]\n",
      " [4.6 3.1 1.5 0.2]\n",
      " [4.5 2.3 1.3 0.3]\n",
      " [5.7 2.8 4.1 1.3]\n",
      " [4.9 2.4 3.3 1. ]\n",
      " [4.9 3.6 1.4 0.1]\n",
      " [6.7 3.1 4.4 1.4]\n",
      " [6.  3.4 4.5 1.6]\n",
      " [6.5 3.  5.8 2.2]\n",
      " [5.7 2.8 4.5 1.3]\n",
      " [7.9 3.8 6.4 2. ]\n",
      " [4.3 3.  1.1 0.1]\n",
      " [5.8 4.  1.2 0.2]\n",
      " [6.3 2.9 5.6 1.8]\n",
      " [6.3 2.5 5.  1.9]\n",
      " [5.4 3.  4.5 1.5]\n",
      " [5.6 3.  4.1 1.3]\n",
      " [5.  3.5 1.6 0.6]\n",
      " [5.  3.3 1.4 0.2]\n",
      " [6.4 2.8 5.6 2.1]\n",
      " [6.1 2.8 4.  1.3]\n",
      " [6.9 3.1 4.9 1.5]\n",
      " [6.  2.9 4.5 1.5]\n",
      " [6.  3.  4.8 1.8]\n",
      " [4.6 3.2 1.4 0.2]\n",
      " [7.6 3.  6.6 2.1]\n",
      " [6.4 2.9 4.3 1.3]\n",
      " [5.5 4.2 1.4 0.2]]\n"
     ]
    }
   ],
   "source": [
    "from sklearn import datasets \n",
    "data = datasets.load_iris().data\n",
    "n, sample_size = len(data), 30 \n",
    "sample = data[0:30, :]\n",
    "for i in range(31, n): \n",
    "    k = random.randint(0, i)\n",
    "    if k < sample_size: \n",
    "        sample[k] = data[i]\n",
    "print(sample)"
   ]
  },
  {
   "cell_type": "code",
   "execution_count": null,
   "metadata": {},
   "outputs": [],
   "source": []
  }
 ],
 "metadata": {
  "kernelspec": {
   "display_name": "Python 3",
   "language": "python",
   "name": "python3"
  },
  "language_info": {
   "codemirror_mode": {
    "name": "ipython",
    "version": 3
   },
   "file_extension": ".py",
   "mimetype": "text/x-python",
   "name": "python",
   "nbconvert_exporter": "python",
   "pygments_lexer": "ipython3",
   "version": "3.7.2"
  }
 },
 "nbformat": 4,
 "nbformat_minor": 2
}
