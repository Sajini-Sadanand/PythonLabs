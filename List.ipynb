{
 "cells": [
  {
   "cell_type": "markdown",
   "metadata": {},
   "source": [
    "### List"
   ]
  },
  {
   "cell_type": "markdown",
   "metadata": {},
   "source": [
    "1. List is one of the Sequence data structure\n",
    "\n",
    "2. List are collection of items\n",
    "\n",
    "3. List are enclosed in []\n",
    "\n",
    "4. Each item in list as an assigned index value\n",
    "\n",
    "5. Each item in the list are separated by comma\n",
    "\n",
    "6. Lists are mutable, which means they can be changed"
   ]
  },
  {
   "cell_type": "markdown",
   "metadata": {},
   "source": [
    "### List creation"
   ]
  },
  {
   "cell_type": "code",
   "execution_count": 1,
   "metadata": {},
   "outputs": [
    {
     "name": "stdout",
     "output_type": "stream",
     "text": [
      "['one', 'two', 'three']\n",
      "[1, 2, 3, 4]\n",
      "[[1, 2, 3], [4, 5, 6]]\n",
      "[1, 'ramu', 1.4, 24]\n"
     ]
    }
   ],
   "source": [
    "empytList = []\n",
    "\n",
    "lst = ['one','two','three']\n",
    "print(lst)\n",
    "\n",
    "lst2 = [1,2,3,4]\n",
    "print(lst2)\n",
    "\n",
    "lst3 = [[1,2,3],[4,5,6]]\n",
    "print(lst3)\n",
    "\n",
    "lst4 = [1,'ramu',1.4,24]\n",
    "print(lst4)"
   ]
  },
  {
   "cell_type": "markdown",
   "metadata": {},
   "source": [
    "### List length"
   ]
  },
  {
   "cell_type": "code",
   "execution_count": 2,
   "metadata": {},
   "outputs": [
    {
     "data": {
      "text/plain": [
       "5"
      ]
     },
     "execution_count": 2,
     "metadata": {},
     "output_type": "execute_result"
    }
   ],
   "source": [
    "lst = [\"one\",\"two\",\"three\",\"four\",\"five\"]\n",
    "len(lst)"
   ]
  },
  {
   "cell_type": "markdown",
   "metadata": {},
   "source": [
    "### List Append"
   ]
  },
  {
   "cell_type": "code",
   "execution_count": 3,
   "metadata": {},
   "outputs": [
    {
     "name": "stdout",
     "output_type": "stream",
     "text": [
      "['one', 'two', 'three', 'four', 'five']\n"
     ]
    }
   ],
   "source": [
    "lst = [\"one\",\"two\",\"three\",\"four\"]\n",
    "lst.append(\"five\")\n",
    "print(lst)"
   ]
  },
  {
   "cell_type": "markdown",
   "metadata": {},
   "source": [
    "### List Insert"
   ]
  },
  {
   "cell_type": "code",
   "execution_count": 4,
   "metadata": {},
   "outputs": [
    {
     "name": "stdout",
     "output_type": "stream",
     "text": [
      "['one', 'two', 'three', 'four', 'five']\n"
     ]
    }
   ],
   "source": [
    "lst = [\"one\",\"three\",\"four\",\"five\"]\n",
    "lst.insert(1,\"two\")\n",
    "print(lst)"
   ]
  },
  {
   "cell_type": "markdown",
   "metadata": {},
   "source": [
    "### List Remove"
   ]
  },
  {
   "cell_type": "code",
   "execution_count": 5,
   "metadata": {},
   "outputs": [
    {
     "name": "stdout",
     "output_type": "stream",
     "text": [
      "['one', 'three', 'four', 'two']\n"
     ]
    }
   ],
   "source": [
    "lst = [\"one\",\"two\",\"three\",\"four\",\"two\"]\n",
    "lst.remove(\"two\") # it will remove th efirst element in the list\n",
    "print(lst)"
   ]
  },
  {
   "cell_type": "markdown",
   "metadata": {},
   "source": [
    "### List append and extend"
   ]
  },
  {
   "cell_type": "code",
   "execution_count": 1,
   "metadata": {},
   "outputs": [
    {
     "name": "stdout",
     "output_type": "stream",
     "text": [
      "['one', 'two', 'three', 'four', ['five', 'six']]\n"
     ]
    }
   ],
   "source": [
    "#  Main difference in list append and extend can be seen when we use list to extend a list\n",
    "\n",
    "lst = [\"one\",\"two\",\"three\",\"four\"]\n",
    "lst1 = [\"five\",\"six\"]\n",
    "\n",
    "lst.append(lst1) # This makes the list lst1 to add within the list\n",
    "print(lst)"
   ]
  },
  {
   "cell_type": "code",
   "execution_count": 3,
   "metadata": {},
   "outputs": [
    {
     "name": "stdout",
     "output_type": "stream",
     "text": [
      "['one', 'two', 'three', 'four', 'five', 'six']\n"
     ]
    }
   ],
   "source": [
    "lst = [\"one\",\"two\",\"three\",\"four\"]\n",
    "lst1 = [\"five\",\"six\"]\n",
    "\n",
    "lst.extend(lst1) # this makes the list elements of list2 get added to the list1 rather than the list itself\n",
    "print(lst)"
   ]
  },
  {
   "cell_type": "markdown",
   "metadata": {},
   "source": [
    "### List delete"
   ]
  },
  {
   "cell_type": "code",
   "execution_count": 5,
   "metadata": {},
   "outputs": [
    {
     "name": "stdout",
     "output_type": "stream",
     "text": [
      "['one', 'three', 'four']\n",
      "['one', 'four']\n",
      "three\n"
     ]
    }
   ],
   "source": [
    "# Delete function helps to delete element based on the list index\n",
    "\n",
    "lst = [\"one\",\"two\",\"three\",\"four\"]\n",
    "del lst[1]\n",
    "\n",
    "print(lst)\n",
    "\n",
    "# or we can use pop method\n",
    "\n",
    "a = lst.pop(1)\n",
    "print(lst)\n",
    "print(a)\n",
    "\n",
    "# Difference in the pop and delete is, \"Delete\" delete the element of particular index and doesn't return \n",
    "# it, whereas pop returns it"
   ]
  },
  {
   "cell_type": "code",
   "execution_count": 10,
   "metadata": {},
   "outputs": [
    {
     "name": "stdout",
     "output_type": "stream",
     "text": [
      "['one', 'two']\n",
      "['one', 'three', 'four', 'two', 'five']\n"
     ]
    }
   ],
   "source": [
    "lst = [\"one\",\"two\",\"three\"]\n",
    "\n",
    "lst.remove(\"three\") # remove delete the value from the list rather than deleting the \n",
    "# element depending on the index\n",
    "print(lst)\n",
    "\n",
    "lst = [\"one\",\"two\",\"three\",\"four\",\"two\",\"five\"]\n",
    "lst.remove(\"two\")\n",
    "# lst.remove(\"TWO\") This will return an exception as no value as \"TWO\" is present in the list\n",
    "print(lst)"
   ]
  },
  {
   "cell_type": "markdown",
   "metadata": {},
   "source": [
    "### List related keywords in Python"
   ]
  },
  {
   "cell_type": "code",
   "execution_count": 12,
   "metadata": {},
   "outputs": [
    {
     "name": "stdout",
     "output_type": "stream",
     "text": [
      "['one', 'two', 'three', 'four', 'five']\n",
      "ML is not present in  ['one', 'two', 'three', 'four', 'five']\n"
     ]
    }
   ],
   "source": [
    "# keyword 'in' is used to check if an element is present in the list\n",
    "\n",
    "lst = [\"one\",\"two\",\"three\",\"four\",\"five\"]\n",
    "if(\"one\" in lst):\n",
    "    print(lst)\n",
    "    \n",
    "# keyword not can be combined with in\n",
    "\n",
    "if(\"ML\" not in lst):\n",
    "    print(\"ML is not present in \",lst)"
   ]
  },
  {
   "cell_type": "markdown",
   "metadata": {},
   "source": [
    "### List reverse"
   ]
  },
  {
   "cell_type": "code",
   "execution_count": 13,
   "metadata": {},
   "outputs": [
    {
     "name": "stdout",
     "output_type": "stream",
     "text": [
      "[10, 9, 8, 7, 6, 5, 4, 3, 2, 1]\n"
     ]
    }
   ],
   "source": [
    "# this reverses the entire list\n",
    "\n",
    "lst = [1,2,3,4,5,6,7,8,9,10]\n",
    "lst.reverse()\n",
    "print(lst)"
   ]
  },
  {
   "cell_type": "markdown",
   "metadata": {},
   "source": [
    "### List sorting"
   ]
  },
  {
   "cell_type": "markdown",
   "metadata": {},
   "source": [
    "The sorted function is used to sort the list\n",
    "\n",
    "The sorted() doesnot change the original list\n",
    "\n",
    "The keyword reverse = \"True\" sets the sorted list in descending order"
   ]
  },
  {
   "cell_type": "code",
   "execution_count": 18,
   "metadata": {},
   "outputs": [
    {
     "name": "stdout",
     "output_type": "stream",
     "text": [
      "[1, 2, 3, 5, 10, 11, 12, 34, 100]\n",
      "[12, 34, 11, 10, 2, 3, 5, 1, 100]\n"
     ]
    }
   ],
   "source": [
    "lst = [12,34,11,10,2,3,5,1,100]\n",
    "new_lst = sorted(lst)\n",
    "print(new_lst) #new created list\n",
    "print(lst) # original list"
   ]
  },
  {
   "cell_type": "code",
   "execution_count": 17,
   "metadata": {},
   "outputs": [
    {
     "name": "stdout",
     "output_type": "stream",
     "text": [
      "[100, 34, 12, 11, 10, 5, 3, 2, 1]\n",
      "[12, 34, 11, 10, 2, 3, 5, 1, 100]\n"
     ]
    }
   ],
   "source": [
    "new_lst = sorted(lst,reverse=True)\n",
    "print(new_lst) # new created list\n",
    "print(lst) # original list"
   ]
  },
  {
   "cell_type": "code",
   "execution_count": 19,
   "metadata": {},
   "outputs": [
    {
     "name": "stdout",
     "output_type": "stream",
     "text": [
      "[1, 2, 4, 5, 8, 10, 12, 14]\n"
     ]
    }
   ],
   "source": [
    "# sort(), sorts the list and makes the change to the original list\n",
    "lst = [1,2,10,4,5,14,8,12]\n",
    "lst.sort()\n",
    "print(lst)"
   ]
  },
  {
   "cell_type": "markdown",
   "metadata": {},
   "source": [
    "### List Having Multiple References"
   ]
  },
  {
   "cell_type": "code",
   "execution_count": 21,
   "metadata": {},
   "outputs": [
    {
     "name": "stdout",
     "output_type": "stream",
     "text": [
      "Original list: [1, 2, 3, 4, 5, 6]\n"
     ]
    }
   ],
   "source": [
    "lst = [1,2,3,4,5]\n",
    "lst.append(6)\n",
    "print(\"Original list:\",lst)"
   ]
  },
  {
   "cell_type": "markdown",
   "metadata": {},
   "source": [
    "### String split to create list"
   ]
  },
  {
   "cell_type": "code",
   "execution_count": 22,
   "metadata": {},
   "outputs": [
    {
     "name": "stdout",
     "output_type": "stream",
     "text": [
      "['one', 'two', 'three', 'four', 'five']\n"
     ]
    }
   ],
   "source": [
    "# lets take a string\n",
    "s = \"one,two,three,four,five\"\n",
    "s_lst = s.split(\",\")\n",
    "print(s_lst)"
   ]
  },
  {
   "cell_type": "code",
   "execution_count": 23,
   "metadata": {},
   "outputs": [
    {
     "name": "stdout",
     "output_type": "stream",
     "text": [
      "['This', 'is', 'my', 'goal,', 'set', 'for', '2020']\n"
     ]
    }
   ],
   "source": [
    "s = \"This is my goal, set for 2020\"\n",
    "s_lst = s.split()\n",
    "print(s_lst)"
   ]
  },
  {
   "cell_type": "markdown",
   "metadata": {},
   "source": [
    "### List Indexing"
   ]
  },
  {
   "cell_type": "markdown",
   "metadata": {},
   "source": [
    "Each item in the list has an assigned index valuestarting from 0\n",
    "\n",
    "Accessing the elements in a list is called indexing"
   ]
  },
  {
   "cell_type": "code",
   "execution_count": 25,
   "metadata": {},
   "outputs": [
    {
     "name": "stdout",
     "output_type": "stream",
     "text": [
      "2\n",
      "5\n"
     ]
    }
   ],
   "source": [
    "lst = [1,2,3,4,5]\n",
    "print(lst[1]) #prints the element at index position 1\n",
    "\n",
    "print(lst[-1]) # prints last element using negative index"
   ]
  },
  {
   "cell_type": "markdown",
   "metadata": {},
   "source": [
    "### List slicing"
   ]
  },
  {
   "cell_type": "markdown",
   "metadata": {},
   "source": [
    "Accessing part of the list is called slicing\n",
    "\n",
    "The part after : is the first value from where the sliced part list wont have the values"
   ]
  },
  {
   "cell_type": "code",
   "execution_count": 28,
   "metadata": {},
   "outputs": [
    {
     "name": "stdout",
     "output_type": "stream",
     "text": [
      "[1, 2, 3, 4, 5, 5, 6, 7, 7]\n",
      "[1, 2, 3]\n"
     ]
    }
   ],
   "source": [
    "lst = [1,2,3,4,5,5,6,7,7]\n",
    "\n",
    "# print all the lst\n",
    "print(lst[:])\n",
    "\n",
    "print(lst[0:3]) # will get the values from 0th index to 2nd index"
   ]
  },
  {
   "cell_type": "code",
   "execution_count": 30,
   "metadata": {},
   "outputs": [
    {
     "name": "stdout",
     "output_type": "stream",
     "text": [
      "[1, 3, 5, 7, 9]\n",
      "[2, 4, 6, 8, 10]\n"
     ]
    }
   ],
   "source": [
    "number = [1,2,3,4,5,6,7,8,9,10]\n",
    "\n",
    "print(number[::2]) # prints alternate number of the list\n",
    "\n",
    "#print list starting from 1st index with alternate numbers\n",
    "print(number[1::2])"
   ]
  },
  {
   "cell_type": "markdown",
   "metadata": {},
   "source": [
    "### List extend using +"
   ]
  },
  {
   "cell_type": "code",
   "execution_count": 32,
   "metadata": {},
   "outputs": [
    {
     "name": "stdout",
     "output_type": "stream",
     "text": [
      "[1, 2, 3, 4, 'Navin', 'Verma', 'Veena', 'Shenoy']\n"
     ]
    }
   ],
   "source": [
    "lst1 = [1,2,3,4]\n",
    "lst2 = [\"Navin\",\"Verma\",\"Veena\",\"Shenoy\"]\n",
    "\n",
    "print(lst1+lst2)"
   ]
  },
  {
   "cell_type": "markdown",
   "metadata": {},
   "source": [
    "### List elements count"
   ]
  },
  {
   "cell_type": "code",
   "execution_count": 35,
   "metadata": {},
   "outputs": [
    {
     "name": "stdout",
     "output_type": "stream",
     "text": [
      "3\n",
      "2\n"
     ]
    }
   ],
   "source": [
    "lst = [1,1,2,3,4,1,4,5,6,7]\n",
    "# count the number of times 1 is present in the list\n",
    "print(lst.count(1))\n",
    "\n",
    "#frequency of 4 in the list\n",
    "print(lst.count(4))"
   ]
  },
  {
   "cell_type": "markdown",
   "metadata": {},
   "source": [
    "### List looping"
   ]
  },
  {
   "cell_type": "code",
   "execution_count": 36,
   "metadata": {},
   "outputs": [
    {
     "name": "stdout",
     "output_type": "stream",
     "text": [
      "one\n",
      "two\n",
      "three\n",
      "four\n",
      "five\n",
      "six\n",
      "seven\n",
      "eight\n",
      "nine\n",
      "ten\n"
     ]
    }
   ],
   "source": [
    "lst = [\"one\",\"two\",\"three\",\"four\",\"five\",\"six\",\"seven\",\"eight\",\"nine\",\"ten\"]\n",
    "# looping the elements in the list\n",
    "for i in lst:\n",
    "    print(i)"
   ]
  },
  {
   "cell_type": "markdown",
   "metadata": {},
   "source": [
    "### List comprehensions"
   ]
  },
  {
   "cell_type": "code",
   "execution_count": 38,
   "metadata": {},
   "outputs": [
    {
     "name": "stdout",
     "output_type": "stream",
     "text": [
      "[1, 4, 9, 16, 25, 36, 49, 64, 81]\n"
     ]
    }
   ],
   "source": [
    "# without list comprehension\n",
    "\n",
    "square = []\n",
    "\n",
    "for i in range(1,10):\n",
    "    square.append(i**2)\n",
    "\n",
    "print(square)"
   ]
  },
  {
   "cell_type": "code",
   "execution_count": 40,
   "metadata": {},
   "outputs": [
    {
     "name": "stdout",
     "output_type": "stream",
     "text": [
      "[1, 4, 9, 16, 25, 36, 49, 64, 81]\n"
     ]
    }
   ],
   "source": [
    "# with list comprehension\n",
    "\n",
    "square = [i**2 for i in range(1,10)]\n",
    "print(square)"
   ]
  },
  {
   "cell_type": "code",
   "execution_count": 41,
   "metadata": {},
   "outputs": [
    {
     "name": "stdout",
     "output_type": "stream",
     "text": [
      "[-20, -40, 20, 40, 80, -60]\n",
      "[20, 40, 80]\n",
      "[(1, 2), (2, 4), (3, 6), (4, 8), (5, 10), (6, 12), (7, 14), (8, 16), (9, 18)]\n"
     ]
    }
   ],
   "source": [
    "#example\n",
    "\n",
    "lst = [-10,-20,10,20,40,-30]\n",
    "\n",
    "# creates a new list with values doubled of list lst\n",
    "new_lst = [i*2 for i in lst]\n",
    "print(new_lst)\n",
    "\n",
    "#filter list to exclude negative number\n",
    "new_lst = [i*2 for i in lst if(i >= 0)]\n",
    "print(new_lst)\n",
    "\n",
    "#create a list of tuples\n",
    "\n",
    "new_lst = [(i, i*2) for i in range(1,10)]\n",
    "print(new_lst)"
   ]
  },
  {
   "cell_type": "markdown",
   "metadata": {},
   "source": [
    "### Nested list comprehension"
   ]
  },
  {
   "cell_type": "code",
   "execution_count": 43,
   "metadata": {},
   "outputs": [
    {
     "name": "stdout",
     "output_type": "stream",
     "text": [
      "[[1, 5, 9], [2, 6, 10], [3, 7, 11], [4, 8, 12]]\n"
     ]
    }
   ],
   "source": [
    "matrix = [\n",
    "    [1, 2, 3, 4],\n",
    "    [5, 6, 7, 8],\n",
    "    [9, 10, 11, 12]\n",
    "]\n",
    "# transpose of matrix without comprehension\n",
    "\n",
    "new_matrix = []\n",
    "for i in range(len(matrix[0])):\n",
    "    lst = []\n",
    "    for row in matrix:\n",
    "        lst.append(row[i])\n",
    "    new_matrix.append(lst)\n",
    "print(new_matrix)"
   ]
  },
  {
   "cell_type": "code",
   "execution_count": 45,
   "metadata": {},
   "outputs": [
    {
     "name": "stdout",
     "output_type": "stream",
     "text": [
      "[[1, 5, 9], [2, 6, 10], [3, 7, 11], [4, 8, 12]]\n"
     ]
    }
   ],
   "source": [
    "#  with list comprehension\n",
    "\n",
    "new_matrix = [[row[i] for row in matrix] for i in range(len(matrix[0]))]\n",
    "print(new_matrix)"
   ]
  },
  {
   "cell_type": "code",
   "execution_count": 47,
   "metadata": {},
   "outputs": [
    {
     "name": "stdout",
     "output_type": "stream",
     "text": [
      "[[1, 6, 11, 16, 21], [2, 7, 12, 17, 22], [3, 8, 13, 18, 23], [4, 9, 14, 19, 24], [5, 10, 15, 20, 25]]\n"
     ]
    }
   ],
   "source": [
    "# Transpose matrix\n",
    "\n",
    "matrix = [\n",
    "    [1,2,3,4,5],\n",
    "    [6,7,8,9,10],\n",
    "    [11,12,13,14,15],\n",
    "    [16,17,18,19,20],\n",
    "    [21,22,23,24,25]\n",
    "]\n",
    "\n",
    "transpose = []\n",
    "for col in range(len(matrix[0])):\n",
    "    lst = []\n",
    "    for row in matrix:\n",
    "        lst.append(row[col])\n",
    "    transpose.append(lst)\n",
    "print(transpose)"
   ]
  },
  {
   "cell_type": "code",
   "execution_count": null,
   "metadata": {},
   "outputs": [],
   "source": []
  }
 ],
 "metadata": {
  "kernelspec": {
   "display_name": "Python 3",
   "language": "python",
   "name": "python3"
  },
  "language_info": {
   "codemirror_mode": {
    "name": "ipython",
    "version": 3
   },
   "file_extension": ".py",
   "mimetype": "text/x-python",
   "name": "python",
   "nbconvert_exporter": "python",
   "pygments_lexer": "ipython3",
   "version": "3.7.1"
  }
 },
 "nbformat": 4,
 "nbformat_minor": 2
}
