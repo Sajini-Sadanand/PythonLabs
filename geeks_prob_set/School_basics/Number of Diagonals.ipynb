{
 "cells": [
  {
   "cell_type": "markdown",
   "metadata": {},
   "source": [
    "### Number of Diagonals"
   ]
  },
  {
   "cell_type": "markdown",
   "metadata": {},
   "source": [
    "    Given a number N. Write a program to the find number of diagonals possible in N sided convex polygon.\n",
    "\n",
    "    Input:\n",
    "    First line of input contains a single integer T, which denotes the number of testcases. T testcases follows. First line of each test case contains a single integer N.\n",
    "\n",
    "    Output:\n",
    "    For each testcase in new line, print number of diagonals possible in N sided convex polygon.\n",
    "\n",
    "    Constraints:\n",
    "    1 <= T <= 100\n",
    "    1 <= N <= 103\n",
    "\n",
    "    Example:\n",
    "    Input:\n",
    "    2\n",
    "    5\n",
    "    6\n",
    "\n",
    "    Output:\n",
    "    5\n",
    "    9\n",
    "\n",
    "    Exaplanation:\n",
    "    Testcase 1: The number of diagonals of 5 sided polygon: 5."
   ]
  },
  {
   "cell_type": "markdown",
   "metadata": {},
   "source": [
    "Formula:\n",
    "\n",
    "    n>=3\n",
    "    Number of diagonals = n(n-3)/2\n",
    "    \n",
    "https://en.wikipedia.org/wiki/Diagonal"
   ]
  },
  {
   "cell_type": "code",
   "execution_count": 4,
   "metadata": {},
   "outputs": [
    {
     "name": "stdout",
     "output_type": "stream",
     "text": [
      "1\n",
      "5\n",
      "5\n"
     ]
    }
   ],
   "source": [
    "for i in range(int(input())):\n",
    "    n = int(input())\n",
    "    if(n >= 3):\n",
    "        diag = n*(n - 3)//2\n",
    "        print(diag)"
   ]
  },
  {
   "cell_type": "code",
   "execution_count": null,
   "metadata": {},
   "outputs": [],
   "source": []
  }
 ],
 "metadata": {
  "kernelspec": {
   "display_name": "Python 3",
   "language": "python",
   "name": "python3"
  },
  "language_info": {
   "codemirror_mode": {
    "name": "ipython",
    "version": 3
   },
   "file_extension": ".py",
   "mimetype": "text/x-python",
   "name": "python",
   "nbconvert_exporter": "python",
   "pygments_lexer": "ipython3",
   "version": "3.7.1"
  }
 },
 "nbformat": 4,
 "nbformat_minor": 2
}
