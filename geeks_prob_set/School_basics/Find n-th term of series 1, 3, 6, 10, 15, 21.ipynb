{
 "cells": [
  {
   "cell_type": "markdown",
   "metadata": {},
   "source": [
    "# Find n-th term of series 1, 3, 6, 10, 15, 21"
   ]
  },
  {
   "cell_type": "markdown",
   "metadata": {},
   "source": [
    "    Given a number N, find the Nth term in the series 1, 3, 6, 10, 15, 21…\n",
    "\n",
    "    Input :\n",
    "    The first line of input contains a positive integer T denoting the number of testcases. For each test case, there will be a single line containing an integer N.\n",
    "\n",
    "    Output: \n",
    "    For each testcase, print the Nth term.\n",
    "\n",
    "    Constraints:\n",
    "    1 <= T <= 100\n",
    "    1 <= N <= 1000\n",
    "\n",
    "    Examples:\n",
    "    Input:\n",
    "    2\n",
    "    3\n",
    "    4\n",
    "\n",
    "    Output:\n",
    "    6\n",
    "    10"
   ]
  },
  {
   "cell_type": "markdown",
   "metadata": {},
   "source": [
    "### To solve this we make use of triangular number"
   ]
  },
  {
   "cell_type": "markdown",
   "metadata": {},
   "source": [
    "https://www.geeksforgeeks.org/triangular-numbers/\n",
    "\n",
    "Sample: https://github.com/Sajini-Sadanand/PythonLabs/blob/master/geeks_prob_set/Check%20if%20a%20number%20is%20triangular%20number.ipynb"
   ]
  },
  {
   "cell_type": "markdown",
   "metadata": {},
   "source": [
    "As the given number series is a triangular number series, we can use the mathematical formula to find the nth number.\n",
    "\n",
    "    val = n*(n+1)/2"
   ]
  },
  {
   "cell_type": "code",
   "execution_count": null,
   "metadata": {},
   "outputs": [],
   "source": [
    "for i in range(int(input())):\n",
    "    n = int(input()):\n",
    "        no_of_dots = n*(n+1)/2\n",
    "        print(no_of_dots)"
   ]
  },
  {
   "cell_type": "code",
   "execution_count": null,
   "metadata": {},
   "outputs": [],
   "source": []
  }
 ],
 "metadata": {
  "kernelspec": {
   "display_name": "Python 3",
   "language": "python",
   "name": "python3"
  },
  "language_info": {
   "codemirror_mode": {
    "name": "ipython",
    "version": 3
   },
   "file_extension": ".py",
   "mimetype": "text/x-python",
   "name": "python",
   "nbconvert_exporter": "python",
   "pygments_lexer": "ipython3",
   "version": "3.6.7"
  }
 },
 "nbformat": 4,
 "nbformat_minor": 2
}
