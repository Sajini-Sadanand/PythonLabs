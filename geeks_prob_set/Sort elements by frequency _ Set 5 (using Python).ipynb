{
 "cells": [
  {
   "cell_type": "markdown",
   "metadata": {},
   "source": [
    "## Sort elements by frequency | Set 5 (using Python)"
   ]
  },
  "cells": [
  {
   "cell_type": "markdown",
   "metadata": {},
   "source": [
    "Given an integer array, sort the array according to the frequency of elements in decreasing order, if frequency of two elements are same then sort in increasing order"

"Examples:"

"Input: arr[] = {2, 3, 2, 4, 5, 12, 2, 3, 3, 3, 12}"
"Output: 3 3 3 3 2 2 2 12 12 4 5"
"Explanation :"
"No. Freq"
"2  : 3"
"3  : 4"
"4  : 1"
"5  : 1"
"12 : 2"

"Input: arr[] = {4, 4, 2, 2, 2, 2, 3, 3, 1, 1, 6, 7, 5}"
"Output: 2 2 2 2 1 1 3 3 4 4 5 6 7"
   ]
  },
  {
   "cell_type": "code",
   "execution_count": 3,
   "metadata": {},
   "outputs": [
    {
     "name": "stdout",
     "output_type": "stream",
     "text": [
      "[3, 3, 3, 3, 3, 1, 1, 1, 2, 2, 4, 6, 7, 9]\n"
     ]
    }
   ],
   "source": [
    "# https://stackoverflow.com/a/25815418/3409734\n",
    "\n",
    "l = [1,2,3,4,3,3,3,6,7,1,1,9,3,2]\n",
    "\n",
    "print(sorted(l,key=l.count,reverse=True))\n"
   ]
  },
  {
   "cell_type": "code",
   "execution_count": null,
   "metadata": {},
   "outputs": [],
   "source": []
  }
 ],
 "metadata": {
  "kernelspec": {
   "display_name": "Python 3",
   "language": "python",
   "name": "python3"
  },
  "language_info": {
   "codemirror_mode": {
    "name": "ipython",
    "version": 3
   },
   "file_extension": ".py",
   "mimetype": "text/x-python",
   "name": "python",
   "nbconvert_exporter": "python",
   "pygments_lexer": "ipython3",
   "version": "3.6.7"
  }
 },
 "nbformat": 4,
 "nbformat_minor": 2
}
