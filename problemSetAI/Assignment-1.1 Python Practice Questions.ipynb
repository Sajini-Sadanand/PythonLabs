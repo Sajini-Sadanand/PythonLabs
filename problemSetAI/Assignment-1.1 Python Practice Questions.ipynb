{
 "cells": [
  {
   "cell_type": "markdown",
   "metadata": {},
   "source": [
    "# Practice Questions On Functions"
   ]
  },
  {
   "cell_type": "markdown",
   "metadata": {},
   "source": [
    "### 1. Write a function that inputs a number and prints the multiplication table of that number"
   ]
  },
  {
   "cell_type": "code",
   "execution_count": null,
   "metadata": {},
   "outputs": [],
   "source": [
    "import sys\n",
    "\n",
    "# 1) With user input\n",
    "\n",
    "def multiplicationTable(num):\n",
    "    for i in range(1,11):\n",
    "        print(\"{} x {} = {}\".format(num,i,num*i))\n",
    "        \n",
    "# get a number from user input\n",
    "\n",
    "try:\n",
    "    num = int(input(\"Enter a number\"))\n",
    "    multiplicationTable(num)\n",
    "except ValueError:\n",
    "    print(sys.exc_info()[0])\n",
    "    print(\"Not an Integer number\") "
   ]
  },
  {
   "cell_type": "code",
   "execution_count": null,
   "metadata": {},
   "outputs": [],
   "source": [
    "# 2) Without user input\n",
    "\n",
    "def multiplicationTable(num = 1):\n",
    "    for i in range(1,11):\n",
    "       print(\"{} x {} = {}\".format(num,i,num*i)) \n",
    "    \n",
    "print(\"\\nTable of 12\")\n",
    "multiplicationTable(12)\n",
    "\n",
    "print(\"\\nDefault Table\")\n",
    "multiplicationTable()"
   ]
  },
  {
   "cell_type": "markdown",
   "metadata": {},
   "source": [
    "### 2. Write a program to print twin primes less than 1000. If two consecutive odd numbers are both prime then they are known as twin primes"
   ]
  },
  {
   "cell_type": "code",
   "execution_count": null,
   "metadata": {},
   "outputs": [],
   "source": [
    "import pdb\n",
    "import math\n",
    "\n",
    "def twinPrimeNumbers():\n",
    "    lst = [3]\n",
    "\n",
    "    for i in range(5,1000):\n",
    "        isPrime = True\n",
    "        for j in range(2,math.floor(math.sqrt(i))+1):\n",
    "            if(i%j == 0):\n",
    "                isPrime = False\n",
    "                break\n",
    "\n",
    "        if(isPrime):\n",
    "            lst.append(i)\n",
    "\n",
    "        if(len(lst) > 1):\n",
    "            if((lst[1] - lst[0]) == 2):\n",
    "                print(lst[0],lst[1])\n",
    "            lst[0] = lst[1]\n",
    "            lst.pop(1)\n",
    "\n",
    "%time\n",
    "twinPrimeNumbers()\n",
    "        "
   ]
  },
  {
   "cell_type": "markdown",
   "metadata": {},
   "source": [
    "### 3. Write a program to find out the prime factors of a number. Example: prime factors of 56 - 2, 2, 2, 7"
   ]
  },
  {
   "cell_type": "code",
   "execution_count": null,
   "metadata": {},
   "outputs": [],
   "source": [
    "def primeFactorsOfNumber(num):\n",
    "    if(not num in [0,1]):\n",
    "        lst = []\n",
    "        i = 2\n",
    "        while(i <= num):\n",
    "            if(num%i == 0):\n",
    "                lst.append(i)\n",
    "                num = num/i\n",
    "                i = 2\n",
    "            else:\n",
    "                i += 1\n",
    "        print(lst)\n",
    "    else:\n",
    "        lst = [num]\n",
    "        print(lst)\n",
    "primeFactorsOfNumber(4)"
   ]
  },
  {
   "cell_type": "markdown",
   "metadata": {},
   "source": [
    "### Write a program to implement these formulae of permutations and combinations. Number of permutations of n objects taken r at a time: p(n, r) = n! / (n-r)!. Number of combinations of n objects taken r at a time is: c(n, r) = n! / (r!*(n-r)!) = p(n,r) / r!"
   ]
  },
  {
   "cell_type": "code",
   "execution_count": null,
   "metadata": {},
   "outputs": [],
   "source": [
    "def factorial(n):\n",
    "    if(n in [0,1]):\n",
    "        return 1\n",
    "    else:\n",
    "        return n * factorial(n-1)\n",
    "    \n",
    "def p(n,r):\n",
    "    if(n >= r):\n",
    "        return factorial(n)/factorial(n-r)\n",
    "    else:\n",
    "        print(\"Not valid\")\n",
    "        \n",
    "def c(n,r):\n",
    "    if(n >= r):\n",
    "        return factorial(n)/(factorial(r)*factorial(n-r))\n",
    "    else:\n",
    "        print(\"Not valid\")\n",
    "\n",
    "        \n",
    "n = 4\n",
    "r = 3\n",
    "x = p(n,r)/factorial(r)\n",
    "y = c(n,r)\n",
    "\n",
    "print(y)\n",
    "print(x)\n",
    "\n",
    "if(x == y):\n",
    "    print(\"c({}, {}) = {}! / ({}!*({}-{})!) = p({},{}) / {}!\".format(n,r,n,r,n,r,n,r,r))\n",
    "\n"
   ]
  },
  {
   "cell_type": "markdown",
   "metadata": {},
   "source": [
    "### 5. Write a function that converts a decimal number to binary number"
   ]
  },
  {
   "cell_type": "code",
   "execution_count": null,
   "metadata": {},
   "outputs": [],
   "source": [
    "import math\n",
    "\n",
    "# get the integral part binary\n",
    "def getBinaryIntegral(num):\n",
    "    intPart = \"\"\n",
    "    dividend = num\n",
    "    \n",
    "    while(dividend >= 1):\n",
    "        # passing the remainder\n",
    "        intPart += str(dividend % 2)\n",
    "        \n",
    "        # passing the quotient as the new dividend\n",
    "        dividend = int(dividend / 2)\n",
    "    return intPart\n",
    "\n",
    "\n",
    "# Logic to get the decimal fraction binary value is to multiply the fractional part with 2 till the fractional part becomes 0\n",
    "\n",
    "# Here is an example of such conversion using the fraction 0.375.\n",
    "#  0.375 * 2 = 0 + 0.75\n",
    "#  0.75 * 2 = 1 + 0.5\n",
    "#  0.5 * 2 = 1 + 0\n",
    "\n",
    "def getBinaryFractional(num):\n",
    "    fractPart = \"\"\n",
    "    \n",
    "    fractNum = num\n",
    "    \n",
    "    while(fractNum-int(fractNum) > 0):\n",
    "        n = fractNum * 2\n",
    "        \n",
    "        fractPart += str(int(n))\n",
    "        fractNum = n - int(n)\n",
    "    \n",
    "    return fractPart\n",
    "    \n",
    "def binaryEquivalent(n):\n",
    "    iLst = \"\"\n",
    "    iNum = int(n)\n",
    "    \n",
    "    iLst = getBinaryIntegral(iNum)\n",
    "    iLst = iLst[::-1]+\".\"\n",
    "    \n",
    "    iFrac = getBinaryFractional(n-int(n))\n",
    "    iLst += iFrac\n",
    "    print(iLst)\n",
    "binaryEquivalent(4.47)"
   ]
  },
  {
   "cell_type": "markdown",
   "metadata": {},
   "source": [
    "### 6. Write a function cubesum() that accepts an integer and returns the sum of the cubes of individual digits of that number. Use this function to make functions PrintArmstrong() and isArmstrong() to print Armstrong numbers and to find whether is an Armstrong number."
   ]
  },
  {
   "cell_type": "code",
   "execution_count": 22,
   "metadata": {},
   "outputs": [
    {
     "ename": "TypeError",
     "evalue": "<lambda>() missing 1 required positional argument: 'n'",
     "output_type": "error",
     "traceback": [
      "\u001b[0;31m---------------------------------------------------------------------------\u001b[0m",
      "\u001b[0;31mTypeError\u001b[0m                                 Traceback (most recent call last)",
      "\u001b[0;32m<ipython-input-22-927d786d9152>\u001b[0m in \u001b[0;36m<module>\u001b[0;34m\u001b[0m\n\u001b[1;32m     34\u001b[0m \u001b[0;34m\u001b[0m\u001b[0m\n\u001b[1;32m     35\u001b[0m \u001b[0;34m\u001b[0m\u001b[0m\n\u001b[0;32m---> 36\u001b[0;31m \u001b[0mPrintArmstrong\u001b[0m\u001b[0;34m(\u001b[0m\u001b[0mlist\u001b[0m\u001b[0;34m(\u001b[0m\u001b[0mrange\u001b[0m\u001b[0;34m(\u001b[0m\u001b[0;36m1\u001b[0m\u001b[0;34m,\u001b[0m\u001b[0;36m100\u001b[0m\u001b[0;34m)\u001b[0m\u001b[0;34m)\u001b[0m\u001b[0;34m)\u001b[0m\u001b[0;34m\u001b[0m\u001b[0;34m\u001b[0m\u001b[0m\n\u001b[0m",
      "\u001b[0;32m<ipython-input-22-927d786d9152>\u001b[0m in \u001b[0;36mPrintArmstrong\u001b[0;34m(numLst)\u001b[0m\n\u001b[1;32m     30\u001b[0m \u001b[0;32mdef\u001b[0m \u001b[0mPrintArmstrong\u001b[0m\u001b[0;34m(\u001b[0m\u001b[0mnumLst\u001b[0m\u001b[0;34m)\u001b[0m\u001b[0;34m:\u001b[0m\u001b[0;34m\u001b[0m\u001b[0;34m\u001b[0m\u001b[0m\n\u001b[1;32m     31\u001b[0m     \u001b[0;32mfor\u001b[0m \u001b[0mi\u001b[0m \u001b[0;32min\u001b[0m \u001b[0mnumLst\u001b[0m\u001b[0;34m:\u001b[0m\u001b[0;34m\u001b[0m\u001b[0;34m\u001b[0m\u001b[0m\n\u001b[0;32m---> 32\u001b[0;31m         \u001b[0;32mif\u001b[0m\u001b[0;34m(\u001b[0m\u001b[0misArmStrong\u001b[0m\u001b[0;34m(\u001b[0m\u001b[0mi\u001b[0m\u001b[0;34m)\u001b[0m\u001b[0;34m)\u001b[0m\u001b[0;34m:\u001b[0m\u001b[0;34m\u001b[0m\u001b[0;34m\u001b[0m\u001b[0m\n\u001b[0m\u001b[1;32m     33\u001b[0m             \u001b[0mprint\u001b[0m\u001b[0;34m(\u001b[0m\u001b[0mi\u001b[0m\u001b[0;34m)\u001b[0m\u001b[0;34m\u001b[0m\u001b[0;34m\u001b[0m\u001b[0m\n\u001b[1;32m     34\u001b[0m \u001b[0;34m\u001b[0m\u001b[0m\n",
      "\u001b[0;32m<ipython-input-22-927d786d9152>\u001b[0m in \u001b[0;36misArmStrong\u001b[0;34m(num)\u001b[0m\n\u001b[1;32m     23\u001b[0m \u001b[0;34m\u001b[0m\u001b[0m\n\u001b[1;32m     24\u001b[0m \u001b[0;32mdef\u001b[0m \u001b[0misArmStrong\u001b[0m\u001b[0;34m(\u001b[0m\u001b[0mnum\u001b[0m\u001b[0;34m)\u001b[0m\u001b[0;34m:\u001b[0m\u001b[0;34m\u001b[0m\u001b[0;34m\u001b[0m\u001b[0m\n\u001b[0;32m---> 25\u001b[0;31m     \u001b[0;32mif\u001b[0m\u001b[0;34m(\u001b[0m\u001b[0mnum\u001b[0m \u001b[0;34m==\u001b[0m \u001b[0mcubesum\u001b[0m\u001b[0;34m(\u001b[0m\u001b[0mnum\u001b[0m\u001b[0;34m)\u001b[0m\u001b[0;34m)\u001b[0m\u001b[0;34m:\u001b[0m\u001b[0;34m\u001b[0m\u001b[0;34m\u001b[0m\u001b[0m\n\u001b[0m\u001b[1;32m     26\u001b[0m         \u001b[0mprint\u001b[0m\u001b[0;34m(\u001b[0m\u001b[0mnum\u001b[0m\u001b[0;34m,\u001b[0m\u001b[0mcubesum\u001b[0m\u001b[0;34m(\u001b[0m\u001b[0mnum\u001b[0m\u001b[0;34m)\u001b[0m\u001b[0;34m)\u001b[0m\u001b[0;34m\u001b[0m\u001b[0;34m\u001b[0m\u001b[0m\n\u001b[1;32m     27\u001b[0m         \u001b[0;32mreturn\u001b[0m \u001b[0;32mTrue\u001b[0m\u001b[0;34m\u001b[0m\u001b[0;34m\u001b[0m\u001b[0m\n",
      "\u001b[0;32m<ipython-input-22-927d786d9152>\u001b[0m in \u001b[0;36mcubesum\u001b[0;34m(num)\u001b[0m\n\u001b[1;32m     18\u001b[0m \u001b[0;31m#     print(lst)\u001b[0m\u001b[0;34m\u001b[0m\u001b[0;34m\u001b[0m\u001b[0;34m\u001b[0m\u001b[0m\n\u001b[1;32m     19\u001b[0m \u001b[0;31m#     nLst = np.array(lst)\u001b[0m\u001b[0;34m\u001b[0m\u001b[0;34m\u001b[0m\u001b[0;34m\u001b[0m\u001b[0m\n\u001b[0;32m---> 20\u001b[0;31m     \u001b[0my\u001b[0m \u001b[0;34m=\u001b[0m \u001b[0mlist\u001b[0m\u001b[0;34m(\u001b[0m\u001b[0mmap\u001b[0m\u001b[0;34m(\u001b[0m\u001b[0;32mlambda\u001b[0m \u001b[0ma\u001b[0m\u001b[0;34m,\u001b[0m\u001b[0mn\u001b[0m\u001b[0;34m:\u001b[0m\u001b[0ma\u001b[0m\u001b[0;34m**\u001b[0m\u001b[0mn\u001b[0m\u001b[0;34m,\u001b[0m\u001b[0mlst\u001b[0m\u001b[0;34m)\u001b[0m\u001b[0;34m)\u001b[0m\u001b[0;34m\u001b[0m\u001b[0;34m\u001b[0m\u001b[0m\n\u001b[0m\u001b[1;32m     21\u001b[0m     \u001b[0mprint\u001b[0m\u001b[0;34m(\u001b[0m\u001b[0;34m\"Y: \"\u001b[0m\u001b[0;34m,\u001b[0m\u001b[0my\u001b[0m\u001b[0;34m)\u001b[0m\u001b[0;34m\u001b[0m\u001b[0;34m\u001b[0m\u001b[0m\n\u001b[1;32m     22\u001b[0m     \u001b[0;32mreturn\u001b[0m \u001b[0my\u001b[0m\u001b[0;34m\u001b[0m\u001b[0;34m\u001b[0m\u001b[0m\n",
      "\u001b[0;31mTypeError\u001b[0m: <lambda>() missing 1 required positional argument: 'n'"
     ]
    }
   ],
   "source": [
    "import numpy as np\n",
    "from functools import reduce \n",
    "\n",
    "def sumUp(n):\n",
    "    sumVal = 0\n",
    "    for i in lst:\n",
    "        sumVal += i ** n\n",
    "    return sumVal\n",
    "\n",
    "def cubesum(num):\n",
    "    lst = []\n",
    "    checkNum = num\n",
    "    while(checkNum > 0):\n",
    "        lst.append(checkNum % 10)\n",
    "        checkNum = int(checkNum / 10)\n",
    "    \n",
    "    n = len(lst)\n",
    "#     print(lst)\n",
    "#     nLst = np.array(lst)\n",
    "    \n",
    "    y = list(map(lambda a,n:a**n,lst))\n",
    "    print(\"Y: \",y)\n",
    "    return y\n",
    "\n",
    "def isArmStrong(num):\n",
    "    if(num == cubesum(num)):\n",
    "        print(num,cubesum(num))\n",
    "        return True\n",
    "    return False\n",
    "    \n",
    "def PrintArmstrong(numLst):\n",
    "    for i in numLst:\n",
    "        if(isArmStrong(i)):\n",
    "            print(i)\n",
    "\n",
    "    \n",
    "PrintArmstrong(list(range(1,100)))"
   ]
  },
  {
   "cell_type": "code",
   "execution_count": null,
   "metadata": {},
   "outputs": [],
   "source": []
  }
 ],
 "metadata": {
  "kernelspec": {
   "display_name": "Python 3",
   "language": "python",
   "name": "python3"
  },
  "language_info": {
   "codemirror_mode": {
    "name": "ipython",
    "version": 3
   },
   "file_extension": ".py",
   "mimetype": "text/x-python",
   "name": "python",
   "nbconvert_exporter": "python",
   "pygments_lexer": "ipython3",
   "version": "3.7.1"
  }
 },
 "nbformat": 4,
 "nbformat_minor": 2
}
