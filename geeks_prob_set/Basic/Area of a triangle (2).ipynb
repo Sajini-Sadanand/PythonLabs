{
 "cells": [
  {
   "cell_type": "markdown",
   "metadata": {},
   "source": [
    "### Area of a triangle"
   ]
  },
  {
   "cell_type": "markdown",
   "metadata": {},
   "source": [
    "    Find the area of a triangle with all its three sides given as a,b and c. \n",
    "\n",
    "    Input:\n",
    "    The first line of input contains an integer T denoting the number of test cases. Each test case contains\n",
    "    three space-separated integers a,b and c.\n",
    "\n",
    "    Output:\n",
    "    Output the area of the triangle answer with a precision of 6 decimal places.The area is to be printed as 0.000000 if the triangle does not exist.\n",
    "\n",
    "    Constraints:\n",
    "    1<=t<=200\n",
    "    1<=a,b,c <= 100\n",
    "\n",
    "    Example:\n",
    "    Input:\n",
    "    2\n",
    "    2 2 3\n",
    "    3 4 5\n",
    "\n",
    "    Output:\n",
    "    1.984313\n",
    "    6.000000"
   ]
  },
  {
   "cell_type": "markdown",
   "metadata": {},
   "source": [
    "    Area = sqrt(s*(s-a)*(s-b)*(s-c))\n",
    "    where a, b and c are lengths of sides of\n",
    "    triangle and s = (a+b+c)/2"
   ]
  },
  {
   "cell_type": "code",
   "execution_count": 3,
   "metadata": {},
   "outputs": [
    {
     "name": "stdout",
     "output_type": "stream",
     "text": [
      " 1\n",
      "16 67 84\n",
      "0.000000\n"
     ]
    }
   ],
   "source": [
    "import math as m\n",
    "\n",
    "%prun\n",
    "for i in range(int(input())):\n",
    "    area = 0\n",
    "    sides =input().split(\" \")\n",
    "    try:\n",
    "        if(str(0) not in sides):\n",
    "            if(len(sides) == 3):\n",
    "                a = int(sides[0])\n",
    "                b = int(sides[1])\n",
    "                c = int(sides[2])\n",
    "\n",
    "                s = (a+b+c)/2\n",
    "\n",
    "                area = m.sqrt(s*(s-a)*(s-b)*(s-c))\n",
    "                print(\"{0:.6f}\".format(area))\n",
    "            else:\n",
    "                print(\"{0:.6f}\".format(area))\n",
    "        else:\n",
    "            print(\"{0:.6f}\".format(area))\n",
    "    except(ValueError):\n",
    "        print(\"{0:.6f}\".format(area))"
   ]
  },
  {
   "cell_type": "code",
   "execution_count": 4,
   "metadata": {},
   "outputs": [
    {
     "name": "stdout",
     "output_type": "stream",
     "text": [
      "1\n",
      " 16 67 84\n",
      "0.000000\n"
     ]
    }
   ],
   "source": [
    "import math\n",
    "t=int(input())\n",
    "%prun\n",
    "for i in range(t):\n",
    "    a=list(map(int,input().split()))\n",
    "    s=0\n",
    "    s=a[0]+a[1]+a[2]\n",
    "    tot=s/2\n",
    "    area=0\n",
    "    if(tot>a[0] and tot>a[1] and tot>a[2]):\n",
    "        area=math.sqrt(tot*(tot-a[0])*(tot-a[1])*(tot-a[2]))\n",
    "    print(\"{0:.6f}\". format(area) )   "
   ]
  },
  {
   "cell_type": "code",
   "execution_count": null,
   "metadata": {},
   "outputs": [],
   "source": []
  }
 ],
 "metadata": {
  "kernelspec": {
   "display_name": "Python 3",
   "language": "python",
   "name": "python3"
  },
  "language_info": {
   "codemirror_mode": {
    "name": "ipython",
    "version": 3
   },
   "file_extension": ".py",
   "mimetype": "text/x-python",
   "name": "python",
   "nbconvert_exporter": "python",
   "pygments_lexer": "ipython3",
   "version": "3.7.1"
  }
 },
 "nbformat": 4,
 "nbformat_minor": 2
}
