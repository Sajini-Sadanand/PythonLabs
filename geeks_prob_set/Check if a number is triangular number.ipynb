{
 "cells": [
  {
   "cell_type": "markdown",
   "metadata": {},
   "source": [
    "# Check if a number is triangular number"
   ]
  },
  {
   "cell_type": "markdown",
   "metadata": {},
   "source": [
    "    How to check if a number is Triangular?\n",
    "    The idea is based on the fact that n’th triangular number can be written as sum of n natural numbers, that is n*(n+1)/2. The reason for this is simple, base line of triangular grid has n dots, line above base has (n-1) dots and so on."
   ]
  },
  {
   "cell_type": "markdown",
   "metadata": {},
   "source": [
    "         *\n",
    "        * * -> value of top (1) + value of row(2) = total dots(3)\n",
    "       * * * -> top value(3) + row(3) = total dots(6)\n",
    "      * * * * -> top value(6) + row(4) = total dots(10)"
   ]
  },
  {
   "cell_type": "code",
   "execution_count": 19,
   "metadata": {},
   "outputs": [
    {
     "name": "stdout",
     "output_type": "stream",
     "text": [
      "Enter a number: 12\n",
      "0 1\n",
      "1 2\n",
      "3 3\n",
      "6 4\n",
      "10 5\n",
      "not a triangular number\n"
     ]
    }
   ],
   "source": [
    "def checkIfTriangularNum(num):\n",
    "#     check if the number is -ve, then return false\n",
    "    if(num < 0):\n",
    "        return False\n",
    "    \n",
    "#     intialize the values of sum and n\n",
    "# where n is considered as row number\n",
    "# and sum is considered as the addition from top\n",
    "    sum__,n = 0,1\n",
    "    while(sum__ < num):\n",
    "        print(sum__,n)\n",
    "        sum__ += n\n",
    "        if(sum__ == num):\n",
    "            return True\n",
    "        else:\n",
    "            n += 1\n",
    "    else:\n",
    "        return False\n",
    "\n",
    "a = int(input(\"Enter a number: \"))\n",
    "\n",
    "if(checkIfTriangularNum(a)):\n",
    "    print(\"Is a triangular number\")\n",
    "else:\n",
    "    print(\"not a triangular number\")"
   ]
  },
  {
   "cell_type": "code",
   "execution_count": null,
   "metadata": {},
   "outputs": [],
   "source": []
  }
 ],
 "metadata": {
  "kernelspec": {
   "display_name": "Python 3",
   "language": "python",
   "name": "python3"
  },
  "language_info": {
   "codemirror_mode": {
    "name": "ipython",
    "version": 3
   },
   "file_extension": ".py",
   "mimetype": "text/x-python",
   "name": "python",
   "nbconvert_exporter": "python",
   "pygments_lexer": "ipython3",
   "version": "3.6.7"
  }
 },
 "nbformat": 4,
 "nbformat_minor": 2
}
