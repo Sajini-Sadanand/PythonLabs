{
 "cells": [
  {
   "cell_type": "markdown",
   "metadata": {},
   "source": [
    "### Function arguments"
   ]
  },
  {
   "cell_type": "code",
   "execution_count": 4,
   "metadata": {},
   "outputs": [
    {
     "name": "stdout",
     "output_type": "stream",
     "text": [
      "Sam, Good Morning\n"
     ]
    }
   ],
   "source": [
    "def greet(name,msg):\n",
    "    \"\"\"\n",
    "    This function greets the perso with the provided msg\n",
    "    \"\"\"\n",
    "    \n",
    "    print(\"{}, {}\".format(name,msg))\n",
    "greet(\"Sam\",\"Good Morning\")"
   ]
  },
  {
   "cell_type": "code",
   "execution_count": 5,
   "metadata": {},
   "outputs": [
    {
     "ename": "TypeError",
     "evalue": "greet() missing 1 required positional argument: 'msg'",
     "output_type": "error",
     "traceback": [
      "\u001b[1;31m---------------------------------------------------------------------------\u001b[0m",
      "\u001b[1;31mTypeError\u001b[0m                                 Traceback (most recent call last)",
      "\u001b[1;32m<ipython-input-5-95b1a5e0f960>\u001b[0m in \u001b[0;36m<module>\u001b[1;34m\u001b[0m\n\u001b[0;32m      1\u001b[0m \u001b[1;31m# suppose we provide only one argument, we will get error\u001b[0m\u001b[1;33m\u001b[0m\u001b[1;33m\u001b[0m\u001b[1;33m\u001b[0m\u001b[0m\n\u001b[0;32m      2\u001b[0m \u001b[1;33m\u001b[0m\u001b[0m\n\u001b[1;32m----> 3\u001b[1;33m \u001b[0mgreet\u001b[0m\u001b[1;33m(\u001b[0m\u001b[1;34m\"Sam\"\u001b[0m\u001b[1;33m)\u001b[0m\u001b[1;33m\u001b[0m\u001b[1;33m\u001b[0m\u001b[0m\n\u001b[0m",
      "\u001b[1;31mTypeError\u001b[0m: greet() missing 1 required positional argument: 'msg'"
     ]
    }
   ],
   "source": [
    "# suppose we provide only one argument, we will get error\n",
    "\n",
    "greet(\"Sam\")"
   ]
  },
  {
   "cell_type": "markdown",
   "metadata": {},
   "source": [
    "### Different forms of arguments"
   ]
  },
  {
   "cell_type": "markdown",
   "metadata": {},
   "source": [
    "### 1. Default arguments"
   ]
  },
  {
   "cell_type": "code",
   "execution_count": 12,
   "metadata": {},
   "outputs": [
    {
     "name": "stdout",
     "output_type": "stream",
     "text": [
      "satish, Good day!!\n",
      "satish, Good noon\n",
      "Sam, Good day!!\n",
      "Sam, Hello\n",
      "Sam, How are you?\n"
     ]
    }
   ],
   "source": [
    "def greet(name = \"satish\", msg = \"Good day!!\"):\n",
    "    print(\"{}, {}\".format(name,msg))\n",
    "greet() # no arguments provided\n",
    "greet(msg = \"Good noon\") # keeping the first argument default\n",
    "greet(\"Sam\") # keeping the second argument as default\n",
    "greet(\"Sam\",\"Hello\") # passing both the values\n",
    "greet(msg = \"How are you?\",name = \"Sam\")"
   ]
  },
  {
   "cell_type": "markdown",
   "metadata": {},
   "source": [
    "Once a we have a default arguments, all the arguments to the right must have default value"
   ]
  },
  {
   "cell_type": "code",
   "execution_count": 13,
   "metadata": {},
   "outputs": [
    {
     "ename": "SyntaxError",
     "evalue": "non-default argument follows default argument (<ipython-input-13-e33fa8e9cf80>, line 2)",
     "output_type": "error",
     "traceback": [
      "\u001b[1;36m  File \u001b[1;32m\"<ipython-input-13-e33fa8e9cf80>\"\u001b[1;36m, line \u001b[1;32m2\u001b[0m\n\u001b[1;33m    def greet(name= \"satish\",msg):\u001b[0m\n\u001b[1;37m             ^\u001b[0m\n\u001b[1;31mSyntaxError\u001b[0m\u001b[1;31m:\u001b[0m non-default argument follows default argument\n"
     ]
    }
   ],
   "source": [
    "# eg\n",
    "def greet(name= \"satish\",msg):\n",
    "    \"\"\"This function will raise an error\"\"\"\n",
    "    \n",
    "    print(name,msg)\n",
    "    \n",
    "greet(\"Hello\")"
   ]
  },
  {
   "cell_type": "markdown",
   "metadata": {},
   "source": [
    "### Keyword arguments"
   ]
  },
  {
   "cell_type": "markdown",
   "metadata": {},
   "source": [
    "kwargs help you to pass keyword length arguments to a function.\n",
    "\n",
    "You should use **kwargs if you want to handle multiple arguments"
   ]
  },
  {
   "cell_type": "markdown",
   "metadata": {},
   "source": [
    "### Example:"
   ]
  },
  {
   "cell_type": "code",
   "execution_count": 20,
   "metadata": {},
   "outputs": [
    {
     "name": "stdout",
     "output_type": "stream",
     "text": [
      "Hello Sam,Good Day!!!\n",
      "Hello Good Day!!!,Sam\n"
     ]
    }
   ],
   "source": [
    "def greet(** kwargs):\n",
    "    \"\"\"This function use keyword arguments\"\"\"\n",
    "    \n",
    "    print(\"Hello {0},{1}\".format(kwargs[\"name\"],kwargs[\"msg\"]))\n",
    "#     different sequence\n",
    "    print(\"Hello {1},{0}\".format(kwargs[\"name\"],kwargs[\"msg\"]))\n",
    "    \n",
    "greet(name = \"Sam\",msg = \"Good Day!!!\")"
   ]
  },
  {
   "cell_type": "markdown",
   "metadata": {},
   "source": [
    "### 3. Arbitary arguments"
   ]
  },
  {
   "cell_type": "markdown",
   "metadata": {},
   "source": [
    "Sometimes we are not sure of how many arguments will be passed, so python provides a unique way to handle it"
   ]
  },
  {
   "cell_type": "code",
   "execution_count": 22,
   "metadata": {},
   "outputs": [
    {
     "name": "stdout",
     "output_type": "stream",
     "text": [
      "('Sam', 'Ram', 'Sham', 'Tom')\n",
      "Hello  Sam\n",
      "Hello  Ram\n",
      "Hello  Sham\n",
      "Hello  Tom\n"
     ]
    }
   ],
   "source": [
    "def greet(* name):\n",
    "    \"\"\"This function can handle multiple names\"\"\"\n",
    "    print(name)\n",
    "    for i in name:\n",
    "        print(\"Hello \",i)\n",
    "    \n",
    "greet(\"Sam\",\"Ram\",\"Sham\",\"Tom\")"
   ]
  },
  {
   "cell_type": "code",
   "execution_count": null,
   "metadata": {},
   "outputs": [],
   "source": []
  }
 ],
 "metadata": {
  "kernelspec": {
   "display_name": "Python 3",
   "language": "python",
   "name": "python3"
  },
  "language_info": {
   "codemirror_mode": {
    "name": "ipython",
    "version": 3
   },
   "file_extension": ".py",
   "mimetype": "text/x-python",
   "name": "python",
   "nbconvert_exporter": "python",
   "pygments_lexer": "ipython3",
   "version": "3.7.1"
  }
 },
 "nbformat": 4,
 "nbformat_minor": 2
}
