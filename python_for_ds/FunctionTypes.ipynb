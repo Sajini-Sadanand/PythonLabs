{
 "cells": [
  {
   "cell_type": "markdown",
   "metadata": {},
   "source": [
    "### Types of function"
   ]
  },
  {
   "cell_type": "markdown",
   "metadata": {},
   "source": [
    "1. Built-In-function\n",
    "2. User defined function"
   ]
  },
  {
   "cell_type": "markdown",
   "metadata": {},
   "source": [
    "### Built In function"
   ]
  },
  {
   "cell_type": "markdown",
   "metadata": {},
   "source": [
    "### 1. abs()"
   ]
  },
  {
   "cell_type": "code",
   "execution_count": 1,
   "metadata": {},
   "outputs": [
    {
     "name": "stdout",
     "output_type": "stream",
     "text": [
      "-19\n",
      "19\n"
     ]
    }
   ],
   "source": [
    "# find the absolute value\n",
    "\n",
    "a = -19\n",
    "print(a)\n",
    "print(abs(a))"
   ]
  },
  {
   "cell_type": "markdown",
   "metadata": {},
   "source": [
    "### 2. all()"
   ]
  },
  {
   "cell_type": "markdown",
   "metadata": {},
   "source": [
    "#returns value of all() function\n",
    "\n",
    "True: if the elements in iterable are true\n",
    "\n",
    "False: if the elements in iterable are false"
   ]
  },
  {
   "cell_type": "code",
   "execution_count": 4,
   "metadata": {},
   "outputs": [
    {
     "name": "stdout",
     "output_type": "stream",
     "text": [
      "True\n",
      "True\n",
      "False\n"
     ]
    }
   ],
   "source": [
    "lst = [1,2,3,4,5,6,7]\n",
    "print(all(lst))\n",
    "\n",
    "lst = [[12,3,44],(1,2,3),4,5,6]\n",
    "print(all(lst))\n",
    "\n",
    "# False if False is present\n",
    "lst = [False,True, False]\n",
    "print(all(lst))"
   ]
  },
  {
   "cell_type": "code",
   "execution_count": 5,
   "metadata": {},
   "outputs": [
    {
     "name": "stdout",
     "output_type": "stream",
     "text": [
      "False\n"
     ]
    }
   ],
   "source": [
    "# False if 0 is present\n",
    "lst = [1,0,2,3,4]\n",
    "print(all(lst))"
   ]
  },
  {
   "cell_type": "code",
   "execution_count": 6,
   "metadata": {},
   "outputs": [
    {
     "name": "stdout",
     "output_type": "stream",
     "text": [
      "True\n"
     ]
    }
   ],
   "source": [
    "# Empty list is always true\n",
    "lst = []\n",
    "print(all(lst))"
   ]
  },
  {
   "cell_type": "markdown",
   "metadata": {},
   "source": [
    "### dir()"
   ]
  },
  {
   "cell_type": "markdown",
   "metadata": {},
   "source": [
    "The dir() return valid attributes of the object\n",
    "\n",
    "If the object has dir() method, the method will return list of valid attributes"
   ]
  },
  {
   "cell_type": "code",
   "execution_count": 8,
   "metadata": {},
   "outputs": [
    {
     "name": "stdout",
     "output_type": "stream",
     "text": [
      "['__add__', '__class__', '__contains__', '__delattr__', '__delitem__', '__dir__', '__doc__', '__eq__', '__format__', '__ge__', '__getattribute__', '__getitem__', '__gt__', '__hash__', '__iadd__', '__imul__', '__init__', '__init_subclass__', '__iter__', '__le__', '__len__', '__lt__', '__mul__', '__ne__', '__new__', '__reduce__', '__reduce_ex__', '__repr__', '__reversed__', '__rmul__', '__setattr__', '__setitem__', '__sizeof__', '__str__', '__subclasshook__', 'append', 'clear', 'copy', 'count', 'extend', 'index', 'insert', 'pop', 'remove', 'reverse', 'sort']\n"
     ]
    }
   ],
   "source": [
    "numbers = [1,2,3,4]\n",
    "\n",
    "print(dir(numbers))"
   ]
  },
  {
   "cell_type": "markdown",
   "metadata": {},
   "source": [
    "### divmod()"
   ]
  },
  {
   "cell_type": "markdown",
   "metadata": {},
   "source": [
    "The divmod() takes two numbers an return a tuple consisting of their quotient and remainder"
   ]
  },
  {
   "cell_type": "code",
   "execution_count": 10,
   "metadata": {},
   "outputs": [
    {
     "name": "stdout",
     "output_type": "stream",
     "text": [
      "(4, 1)\n"
     ]
    }
   ],
   "source": [
    "print(divmod(9,2))"
   ]
  },
  {
   "cell_type": "markdown",
   "metadata": {},
   "source": [
    "### enumerate()"
   ]
  },
  {
   "cell_type": "markdown",
   "metadata": {},
   "source": [
    "enumerate adds conter to an iterable and returns it"
   ]
  },
  {
   "cell_type": "code",
   "execution_count": 15,
   "metadata": {},
   "outputs": [
    {
     "name": "stdout",
     "output_type": "stream",
     "text": [
      "1 - 10\n",
      "2 - 20\n",
      "3 - 30\n",
      "4 - 40\n",
      "5 - 50\n",
      "6 - 60\n",
      "7 - 70\n",
      "8 - 80\n",
      "9 - 90\n",
      "10 - 100\n"
     ]
    }
   ],
   "source": [
    "number = [10,20,30,40,50,60,70,80,90,100]\n",
    "for index,num in enumerate(number,1):\n",
    "    print(str(index) +\" - \"+str(num))\n",
    "    "
   ]
  },
  {
   "cell_type": "markdown",
   "metadata": {},
   "source": [
    "### filter()"
   ]
  },
  {
   "cell_type": "markdown",
   "metadata": {},
   "source": [
    "The filter() constructs an iterator from elements of an iterable for which a function returns\n",
    "\n",
    "syntax:filter(function,iterable)"
   ]
  },
  {
   "cell_type": "code",
   "execution_count": 20,
   "metadata": {},
   "outputs": [
    {
     "name": "stdout",
     "output_type": "stream",
     "text": [
      "[-10, -9, -8, -7, -6, -5, -4, -3, -2, -1, 0, 1, 2, 3, 4, 5, 6, 7, 8, 9]\n",
      "[1, 2, 3, 4, 5, 6, 7, 8, 9]\n"
     ]
    }
   ],
   "source": [
    "def find_positive_num(number):\n",
    "    \"\"\"This function returns positive number\"\"\"\n",
    "    if(number > 0):\n",
    "        return number\n",
    "    \n",
    "number_list = list(range(-10,10))\n",
    "print(number_list)\n",
    "\n",
    "pos_num_lst = list(filter(find_positive_num,number_list))\n",
    "print(pos_num_lst)"
   ]
  },
  {
   "cell_type": "markdown",
   "metadata": {},
   "source": [
    "### isinstance()"
   ]
  },
  {
   "cell_type": "markdown",
   "metadata": {},
   "source": [
    "The isinstance() function checks if the object (first argument) is an instance or subclass of classinfo class (second argument)."
   ]
  },
  {
   "cell_type": "markdown",
   "metadata": {},
   "source": [
    "syntax: isinstance(object, classinfo)"
   ]
  },
  {
   "cell_type": "code",
   "execution_count": 22,
   "metadata": {},
   "outputs": [
    {
     "name": "stdout",
     "output_type": "stream",
     "text": [
      "True\n",
      "False\n"
     ]
    }
   ],
   "source": [
    "lst = [1,2,3,4,5]\n",
    "print(isinstance(lst,list))\n",
    "\n",
    "# with other datatype\n",
    "tup = (1,2,3,4,5,7)\n",
    "print(isinstance(tup,list))"
   ]
  },
  {
   "cell_type": "markdown",
   "metadata": {},
   "source": [
    "### map()"
   ]
  },
  {
   "cell_type": "markdown",
   "metadata": {},
   "source": [
    "Map applies a function to all the items in an input_list"
   ]
  },
  {
   "cell_type": "markdown",
   "metadata": {},
   "source": [
    "syntax: map(function_to_apply,list_of_inputs)"
   ]
  },
  {
   "cell_type": "code",
   "execution_count": 23,
   "metadata": {},
   "outputs": [
    {
     "name": "stdout",
     "output_type": "stream",
     "text": [
      "[1, 4, 9, 16, 25, 36]\n"
     ]
    }
   ],
   "source": [
    "# normal method to get the square of numbers in the list\n",
    "\n",
    "lst = [1,2,3,4,5,6]\n",
    "\n",
    "squared = []\n",
    "for i in lst:\n",
    "    squared.append(i ** 2)\n",
    "    \n",
    "print(squared)"
   ]
  },
  {
   "cell_type": "code",
   "execution_count": 24,
   "metadata": {},
   "outputs": [
    {
     "name": "stdout",
     "output_type": "stream",
     "text": [
      "[1, 4, 9, 16, 25]\n"
     ]
    }
   ],
   "source": [
    "# using map\n",
    "\n",
    "lst = [1,2,3,4,5]\n",
    "\n",
    "def squareOfNumber(num):\n",
    "    return num ** 2\n",
    "\n",
    "squared = list(map(squareOfNumber,lst))\n",
    "print(squared)"
   ]
  },
  {
   "cell_type": "markdown",
   "metadata": {},
   "source": [
    "### reduce()"
   ]
  },
  {
   "cell_type": "markdown",
   "metadata": {},
   "source": [
    "reduce function is for performing some computation on a list and returning the list.\n",
    "It applies a rooling computation on a sequential pairs of values in a list"
   ]
  },
  {
   "cell_type": "code",
   "execution_count": 1,
   "metadata": {},
   "outputs": [
    {
     "name": "stdout",
     "output_type": "stream",
     "text": [
      "120\n"
     ]
    }
   ],
   "source": [
    "# product of elements in list\n",
    "numbers = [1,2,3,4,5]\n",
    "\n",
    "product = 1\n",
    "for i in numbers:\n",
    "    product *= i\n",
    "\n",
    "print(product)"
   ]
  },
  {
   "cell_type": "code",
   "execution_count": 2,
   "metadata": {},
   "outputs": [
    {
     "name": "stdout",
     "output_type": "stream",
     "text": [
      "120\n"
     ]
    }
   ],
   "source": [
    "# using reduce\n",
    "from functools import reduce\n",
    "\n",
    "def multiplyNum(x,y):\n",
    "    return x*y\n",
    "\n",
    "numbers = [1,2,3,4,5]\n",
    "product = reduce(multiplyNum,numbers)\n",
    "print(product)"
   ]
  },
  {
   "cell_type": "markdown",
   "metadata": {},
   "source": [
    "### User defined functions"
   ]
  },
  {
   "cell_type": "markdown",
   "metadata": {},
   "source": [
    "Functions that we define to perform some particular task is user-defined functions"
   ]
  },
  {
   "cell_type": "code",
   "execution_count": 3,
   "metadata": {},
   "outputs": [
    {
     "name": "stdout",
     "output_type": "stream",
     "text": [
      "10 x 2 = 20\n"
     ]
    }
   ],
   "source": [
    "# Example\n",
    "\n",
    "def productOfTwoNumbers(x,y):\n",
    "    return x*y\n",
    "\n",
    "a = 10\n",
    "b = 2\n",
    "\n",
    "product = productOfTwoNumbers(a,b)\n",
    "print(\"{} x {} = {}\".format(a,b,product))"
   ]
  },
  {
   "cell_type": "markdown",
   "metadata": {},
   "source": [
    "### Python program to make a simple calculator that can add, subtraction, multiply, division"
   ]
  },
  {
   "cell_type": "code",
   "execution_count": 8,
   "metadata": {},
   "outputs": [
    {
     "name": "stdout",
     "output_type": "stream",
     "text": [
      "Enter first number: 120\n",
      "Enter second number: 6\n",
      "\n",
      "        1: for additon\n",
      "        2: for subtraction\n",
      "        3: for multiplication\n",
      "        4: for division\n",
      "Enter your choice: 4\n",
      "20.0\n"
     ]
    }
   ],
   "source": [
    "def add(a,b):\n",
    "    \"\"\"This function adds two number\"\"\"\n",
    "    return a + b\n",
    "\n",
    "def subtract(a,b):\n",
    "    \"\"\"This function subtracts two numbers\"\"\"\n",
    "    return a - b\n",
    "\n",
    "def multiple(a,b):\n",
    "    \"\"\"This function multiplies two numbers\"\"\"\n",
    "    return a * b\n",
    "\n",
    "def division(a,b):\n",
    "    \"\"\"This function divides two numbers\"\"\"\n",
    "    return a / b\n",
    "\n",
    "a = int(input(\"Enter first number: \"))\n",
    "b = int(input(\"Enter second number: \"))\n",
    "print(\"\"\"\n",
    "        1: for additon\n",
    "        2: for subtraction\n",
    "        3: for multiplication\n",
    "        4: for division\"\"\")\n",
    "choice = int(input(\"Enter your choice: \"))\n",
    "\n",
    "if(choice == 1):\n",
    "    print(add(a,b))\n",
    "elif(choice == 2):\n",
    "    print(subtract(a,b))\n",
    "elif(choice == 3):\n",
    "    print(multiple(a,b))\n",
    "elif(choice == 4):\n",
    "    print(division(a,b))\n",
    "else:\n",
    "    print(\"Invalid choice\")\n",
    "\n",
    "\n"
   ]
  },
  {
   "cell_type": "code",
   "execution_count": null,
   "metadata": {},
   "outputs": [],
   "source": []
  }
 ],
 "metadata": {
  "kernelspec": {
   "display_name": "Python 3",
   "language": "python",
   "name": "python3"
  },
  "language_info": {
   "codemirror_mode": {
    "name": "ipython",
    "version": 3
   },
   "file_extension": ".py",
   "mimetype": "text/x-python",
   "name": "python",
   "nbconvert_exporter": "python",
   "pygments_lexer": "ipython3",
   "version": "3.7.1"
  }
 },
 "nbformat": 4,
 "nbformat_minor": 2
}
