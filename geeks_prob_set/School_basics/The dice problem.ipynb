{
 "cells": [
  {
   "cell_type": "markdown",
   "metadata": {},
   "source": [
    "# The dice problem"
   ]
  },
  {
   "cell_type": "markdown",
   "metadata": {},
   "source": [
    "    You are given a cubic dice with 6 faces. All the individual faces have a number printed on them. The numbers are in the range of 1 to 6, like any ordinary dice. You will be provided with a face of this cube, your task is to guess the number on the opposite face of the cube.\n",
    "\n",
    "    Input:\n",
    "    The first line of the input contains a single integer T, denoting the number of testcases. Then T test case follows, a single line of the input containing a positive integer N.\n",
    "\n",
    "    Output:\n",
    "    For each testcase, print the number that is on the opposite side of the given face.\n",
    "\n",
    "    Constraints:\n",
    "    1 <= T <= 100\n",
    "    1 <= N <= 6\n",
    "\n",
    "    Example:\n",
    "    Input:\n",
    "    2\n",
    "    6\n",
    "    2\n",
    "\n",
    "    Output:\n",
    "    1\n",
    "    5\n",
    "\n",
    "    Explanation:\n",
    "    Testcase 1: For dice facing number 6 opposite face will have the number 1."
   ]
  },
  {
   "cell_type": "markdown",
   "metadata": {},
   "source": [
    "### Hint: The sum of numbers on two opposite faces of a dice is 7."
   ]
  },
  {
   "cell_type": "code",
   "execution_count": 2,
   "metadata": {},
   "outputs": [
    {
     "name": "stdout",
     "output_type": "stream",
     "text": [
      "2\n",
      "1\n",
      "6\n",
      "4\n",
      "3\n"
     ]
    }
   ],
   "source": [
    "for i in range(int(input())):\n",
    "    n = int(input())\n",
    "    print(7-n)"
   ]
  },
  {
   "cell_type": "code",
   "execution_count": null,
   "metadata": {},
   "outputs": [],
   "source": []
  }
 ],
 "metadata": {
  "kernelspec": {
   "display_name": "Python 3",
   "language": "python",
   "name": "python3"
  },
  "language_info": {
   "codemirror_mode": {
    "name": "ipython",
    "version": 3
   },
   "file_extension": ".py",
   "mimetype": "text/x-python",
   "name": "python",
   "nbconvert_exporter": "python",
   "pygments_lexer": "ipython3",
   "version": "3.6.7"
  }
 },
 "nbformat": 4,
 "nbformat_minor": 2
}
