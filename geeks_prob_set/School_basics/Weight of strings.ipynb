{
 "cells": [
  {
   "cell_type": "markdown",
   "metadata": {},
   "source": [
    "# Weight of strings"
   ]
  },
  {
   "cell_type": "markdown",
   "metadata": {},
   "source": [
    "    You are given two strings S1 and S2. You need to find weights of both strings and compare them. The weight of a string can be obtained by adding individual weights of the characters that make the string. The weight of individual characters are the position on which they occur in the english alphabets table; for eg, a has weight 1, z has weight 26.\n",
    "\n",
    "    Input:\n",
    "    The first line of the input contains a single integer T, denoting the number of test cases. Then T test cases follow. Each testcase has 2 lines\n",
    "    The first string S1\n",
    "    The second string S2\n",
    "    \n",
    "    Output:\n",
    "    Print 1 if the weight of the first string is greater. Print 2 if the weight of the second string is greater. Print equal if the the weights are equal.\n",
    "\n",
    "    Constraints:\n",
    "    1<=T<=100\n",
    "    1<=|S1|<=1000\n",
    "    1<=|S2|<=1000\n",
    "    \n",
    "    Example:\n",
    "\n",
    "    Input:\n",
    "    4\n",
    "    batman\n",
    "    superman\n",
    "    kira\n",
    "    l\n",
    "    goku\n",
    "    broly\n",
    "    manbat\n",
    "    batman\n",
    "\n",
    "    Output:\n",
    "    2\n",
    "    1\n",
    "    2\n",
    "    equal\n",
    "\n",
    "    Note: The strings contains only lowercase characters.\n",
    "https://stackoverflow.com/a/13693816/3409734"
   ]
  },
  {
   "cell_type": "code",
   "execution_count": 3,
   "metadata": {},
   "outputs": [
    {
     "name": "stdout",
     "output_type": "stream",
     "text": [
      "1\n",
      "yagami\n",
      "light\n",
      "equal\n"
     ]
    }
   ],
   "source": [
    "def getWeight(s):\n",
    "    lst = list(chr(i) for i in range(ord('a'),ord('z')+1))\n",
    "    sumS = 0\n",
    "    for i in s:\n",
    "        sumS += lst.index(i)+1\n",
    "    return sumS\n",
    "        \n",
    "for i in range(int(input())):\n",
    "    s1 = list(input())\n",
    "    s2 = list(input())\n",
    "    sumS1 = getWeight(s1)\n",
    "    sumS2 = getWeight(s2)\n",
    "    \n",
    "    if(sumS1>sumS2):\n",
    "        print(1)\n",
    "    elif(sumS1<sumS2):\n",
    "        print(2)\n",
    "    else:\n",
    "        print(\"equal\")"
   ]
  },
  {
   "cell_type": "code",
   "execution_count": null,
   "metadata": {},
   "outputs": [],
   "source": []
  }
 ],
 "metadata": {
  "kernelspec": {
   "display_name": "Python 3",
   "language": "python",
   "name": "python3"
  },
  "language_info": {
   "codemirror_mode": {
    "name": "ipython",
    "version": 3
   },
   "file_extension": ".py",
   "mimetype": "text/x-python",
   "name": "python",
   "nbconvert_exporter": "python",
   "pygments_lexer": "ipython3",
   "version": "3.6.7"
  }
 },
 "nbformat": 4,
 "nbformat_minor": 2
}
