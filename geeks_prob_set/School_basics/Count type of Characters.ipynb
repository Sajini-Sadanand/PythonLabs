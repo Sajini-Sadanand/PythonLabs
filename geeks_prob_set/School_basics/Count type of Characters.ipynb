{
 "cells": [
  {
   "cell_type": "markdown",
   "metadata": {},
   "source": [
    "### Count type of Characters"
   ]
  },
  {
   "cell_type": "markdown",
   "metadata": {},
   "source": [
    "    Given a string S, write a program to count the occurrence of Lowercase characters, Uppercase characters, Special characters and Numeric values in the string.\n",
    "\n",
    "    Input:\n",
    "    First line of input contains a single integer T which denotes the number of test cases. Then T test cases follows. First line of each test case contains a string S.\n",
    "    Output:\n",
    "    For each test case, print four lines. In the first line print the count of upper case letters, in the second line print the count of lower case letters, in the third line print the count of numbers and in the fourth line print the count of special characters present in the string S.\n",
    "\n",
    "    Note: The strings doesnot contains whitespaces.\n",
    "\n",
    "    Constraints:\n",
    "    1<=T<=100\n",
    "    1<=length(S)<=100000\n",
    "\n",
    "    Example:\n",
    "    Input:\n",
    "    2\n",
    "    #GeeKs01fOr@gEEks07\n",
    "    *GeEkS4GeEkS*\n",
    "    Output:\n",
    "    5\n",
    "    8\n",
    "    4\n",
    "    2\n",
    "    6\n",
    "    4\n",
    "    1\n",
    "    2"
   ]
  },
  {
   "cell_type": "code",
   "execution_count": 6,
   "metadata": {},
   "outputs": [
    {
     "name": "stdout",
     "output_type": "stream",
     "text": [
      "1\n",
      "#GeeKs01fOr@gEEks07\n",
      "5\n",
      "8\n",
      "4\n",
      "2\n"
     ]
    }
   ],
   "source": [
    "for i in range(int(input())):\n",
    "    s = input()\n",
    "    upperCnt = 0\n",
    "    lowerCnt = 0\n",
    "    numCnt = 0\n",
    "    specialCnt = 0\n",
    "    for e in s:\n",
    "        if(e.isupper()):\n",
    "            upperCnt += 1\n",
    "        elif(e.islower()):\n",
    "            lowerCnt += 1\n",
    "        elif(e.isnumeric()):\n",
    "            numCnt += 1\n",
    "        else:\n",
    "            specialCnt += 1\n",
    "           \n",
    "    print(upperCnt)\n",
    "    print(lowerCnt)\n",
    "    print(numCnt)\n",
    "    print(specialCnt)\n",
    "           "
   ]
  },
  {
   "cell_type": "code",
   "execution_count": null,
   "metadata": {},
   "outputs": [],
   "source": []
  }
 ],
 "metadata": {
  "kernelspec": {
   "display_name": "Python 3",
   "language": "python",
   "name": "python3"
  },
  "language_info": {
   "codemirror_mode": {
    "name": "ipython",
    "version": 3
   },
   "file_extension": ".py",
   "mimetype": "text/x-python",
   "name": "python",
   "nbconvert_exporter": "python",
   "pygments_lexer": "ipython3",
   "version": "3.7.1"
  }
 },
 "nbformat": 4,
 "nbformat_minor": 2
}
