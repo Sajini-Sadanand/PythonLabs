{
 "cells": [
  {
   "cell_type": "markdown",
   "metadata": {},
   "source": [
    "# Modulus of two double numbers"
   ]
  },
  {
   "cell_type": "markdown",
   "metadata": {},
   "source": [
    "    Given two floating point numbers, find remainder.\n",
    "\n",
    "    INPUT : The first line consists of an integer T i.e. the number of test cases. First and last line of each test case consists of two double values a and b.\n",
    "\n",
    "    OUTPUT : Print the remainder of the two values.\n",
    "\n",
    "    CONSTRAINTS : \n",
    "    1<=T<=100\n",
    "    1<=a,b<=1000\n",
    "\n",
    "    EXAMPLES : \n",
    "    INPUT :\n",
    "    2\n",
    "    36.5 5.0\n",
    "    9.7 2.3\n",
    "\n",
    "    OUTPUT :\n",
    "    1.5\n",
    "    0.5"
   ]
  },
  {
   "cell_type": "code",
   "execution_count": null,
   "metadata": {},
   "outputs": [],
   "source": [
    "d1 = 36.5\n",
    "d2 = 5.0\n",
    "\n",
    "i1 = int(36.5)\n",
    "print(i1)\n",
    "\n",
    "t1 = d1-i1\n",
    "print(t1)"
   ]
  },
  {
   "cell_type": "code",
   "execution_count": null,
   "metadata": {},
   "outputs": [],
   "source": []
  }
 ],
 "metadata": {
  "kernelspec": {
   "display_name": "Python 3",
   "language": "python",
   "name": "python3"
  },
  "language_info": {
   "codemirror_mode": {
    "name": "ipython",
    "version": 3
   },
   "file_extension": ".py",
   "mimetype": "text/x-python",
   "name": "python",
   "nbconvert_exporter": "python",
   "pygments_lexer": "ipython3",
   "version": "3.6.7"
  }
 },
 "nbformat": 4,
 "nbformat_minor": 2
}
